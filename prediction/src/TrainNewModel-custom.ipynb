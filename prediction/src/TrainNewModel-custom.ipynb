{
 "cells": [
  {
   "cell_type": "markdown",
   "id": "a835a7ac-f737-487e-a974-16c818d23eb7",
   "metadata": {
    "tags": []
   },
   "source": [
    "# **Train New Model with TCGA pretrained model**"
   ]
  },
  {
   "cell_type": "markdown",
   "id": "3ad195a1-eb73-4238-b0c3-8f6dbcb09351",
   "metadata": {
    "jp-MarkdownHeadingCollapsed": true,
    "tags": []
   },
   "source": [
    "## **Module**"
   ]
  },
  {
   "cell_type": "code",
   "execution_count": null,
   "id": "54a40671-6819-40e7-9010-9b2473ce7c35",
   "metadata": {
    "tags": []
   },
   "outputs": [],
   "source": [
    "from function import *"
   ]
  },
  {
   "cell_type": "code",
   "execution_count": null,
   "id": "fc3892fc",
   "metadata": {},
   "outputs": [],
   "source": [
    "print(os.getcwd())\n",
    "os.chdir(\"/home/wmbio/WORK/gitworking/Dependency_prediction/\")\n",
    "print(os.getcwd())"
   ]
  },
  {
   "cell_type": "markdown",
   "id": "ce458094",
   "metadata": {
    "jp-MarkdownHeadingCollapsed": true,
    "tags": []
   },
   "source": [
    "## **Data Load & Path**"
   ]
  },
  {
   "cell_type": "markdown",
   "id": "bc91b9a3-33a4-47a6-a4ef-c7a6a818881f",
   "metadata": {},
   "source": [
    "* **Path**"
   ]
  },
  {
   "cell_type": "code",
   "execution_count": null,
   "id": "97ab4bc3",
   "metadata": {},
   "outputs": [],
   "source": [
    "TRAIN_PATH = \"/home/wmbio/WORK/gitworking/Dependency_prediction/preprocessing/DATA/2022-07-28/\"\n",
    "PREMODEL_PATH = \"prediction/data/premodel_tcga/\"\n",
    "TEMP_PATH = \"prediction/train_preprocessing/\"\n",
    "SAVE_PATH = \"prediction/custom_model/\" + datetime.datetime.now().strftime(\"%Y-%m%d\") + \"/\"\n",
    "CHECK_PATH = SAVE_PATH + \"checkpoint/\"\n",
    "Path(CHECK_PATH).mkdir(parents=True, exist_ok=True)"
   ]
  },
  {
   "cell_type": "markdown",
   "id": "dd18fa6f",
   "metadata": {},
   "source": [
    "* **Pretrained Model load - TCGA**"
   ]
  },
  {
   "cell_type": "code",
   "execution_count": null,
   "id": "971409bf",
   "metadata": {},
   "outputs": [],
   "source": [
    "premodel_mut = pickle.load(open(PREMODEL_PATH + 'premodel_tcga_mut_1000_100_50.pickle', 'rb'))\n",
    "premodel_exp = pickle.load(open(PREMODEL_PATH + 'premodel_tcga_exp_500_200_50.pickle', 'rb'))\n",
    "premodel_cna = pickle.load(open(PREMODEL_PATH + 'premodel_tcga_cna_500_200_50.pickle', 'rb'))\n",
    "premodel_meth = pickle.load(open(PREMODEL_PATH + 'premodel_tcga_meth_500_200_50.pickle', 'rb'))\n",
    "print(\"\\n\\nDatasets successfully loaded.\")"
   ]
  },
  {
   "cell_type": "markdown",
   "id": "d3accc4e",
   "metadata": {
    "jp-MarkdownHeadingCollapsed": true,
    "tags": []
   },
   "source": [
    "## **Fit & Evaluation Model**"
   ]
  },
  {
   "cell_type": "markdown",
   "id": "a27cb8bb",
   "metadata": {
    "jp-MarkdownHeadingCollapsed": true,
    "tags": []
   },
   "source": [
    "### **(1) Full Model 4-Omics**"
   ]
  },
  {
   "cell_type": "code",
   "execution_count": null,
   "id": "7666bebc-59a2-4080-addb-0adc636bf20c",
   "metadata": {},
   "outputs": [],
   "source": [
    "# data load & train_test split\n",
    "data_exp, data_mut, data_cna, data_meth, data_fprint, data_dep = trainset_load()\n",
    "id_train, id_test = train_test_index(data_mut)\n",
    "\n",
    "with tf.device('/cpu:0'):\n",
    "    K.clear_session()\n",
    "    model = full_model(data_mut=data_mut, data_exp=data_exp, data_cna=data_cna,data_meth=data_meth,\n",
    "                      data_fprint=data_fprint, data_dep=data_dep, id_train=id_train, id_test=id_test,\n",
    "                      premodel_mut=premodel_mut, premodel_exp=premodel_exp, premodel_cna=premodel_cna,\n",
    "                      premodel_meth=premodel_meth, save_path = CHECK_PATH)"
   ]
  },
  {
   "cell_type": "code",
   "execution_count": null,
   "id": "55164f37-e708-4f72-afdd-324406bd40a2",
   "metadata": {},
   "outputs": [],
   "source": [
    "model_train_vis(history=model[1], save_path=SAVE_PATH, filename=\"Full\")"
   ]
  },
  {
   "cell_type": "code",
   "execution_count": null,
   "id": "d7605d61-01eb-4fcf-b610-f9e96ca623e1",
   "metadata": {},
   "outputs": [],
   "source": [
    "SAVE_NAME = \"model_full\"\n",
    "model[0].save(SAVE_PATH + SAVE_NAME + \".h5\")\n",
    "print(\"\\n\\nFull DeepDEP model saved in %s\\n\\n\" % (SAVE_PATH + SAVE_NAME + \".h5\"))"
   ]
  },
  {
   "cell_type": "markdown",
   "id": "e0ca3d06",
   "metadata": {
    "jp-MarkdownHeadingCollapsed": true,
    "tags": []
   },
   "source": [
    "### **(2) Expression-Mutation-CNA Model 3-Omics**"
   ]
  },
  {
   "cell_type": "code",
   "execution_count": null,
   "id": "2756db12-67be-4155-adb6-6d7dab3e12f6",
   "metadata": {},
   "outputs": [],
   "source": [
    "data_exp, data_mut, data_cna, data_meth, data_fprint, data_dep = trainset_load(meth=False)\n",
    "id_train, id_test = train_test_index(data_mut)\n",
    "\n",
    "with tf.device('/cpu:0'):\n",
    "    K.clear_session()\n",
    "    model = mut_exp_cna_model(data_mut=data_mut, data_exp=data_exp, data_cna=data_cna,\n",
    "                      data_fprint=data_fprint, data_dep=data_dep, id_train=id_train, id_test=id_test,\n",
    "                      premodel_mut=premodel_mut, premodel_exp=premodel_exp, premodel_cna=premodel_cna,\n",
    "                      save_path = CHECK_PATH)"
   ]
  },
  {
   "cell_type": "code",
   "execution_count": null,
   "id": "22748c27-ab14-4e44-86ec-b0eb8e1bb1aa",
   "metadata": {},
   "outputs": [],
   "source": [
    "model_train_vis(history=model[1], save_path=SAVE_PATH, filename=\"Mut-Exp-CNA\")"
   ]
  },
  {
   "cell_type": "code",
   "execution_count": null,
   "id": "f8bd54b7",
   "metadata": {},
   "outputs": [],
   "source": [
    "SAVE_NAME = \"model_mut_exp_cna\"\n",
    "model[0].save(SAVE_PATH + SAVE_NAME + \".h5\")\n",
    "print(\"\\n\\nMut_Exp_CNA-DeepDEP model saved in %s\\n\\n\" % (SAVE_PATH + SAVE_NAME + \".h5\"))"
   ]
  },
  {
   "cell_type": "markdown",
   "id": "c19bac8d-5883-4887-a93d-d5ac88bd71e6",
   "metadata": {
    "jp-MarkdownHeadingCollapsed": true,
    "tags": []
   },
   "source": [
    "### **(3) Expression-Mutation-Meth Model 3-Omics**"
   ]
  },
  {
   "cell_type": "code",
   "execution_count": null,
   "id": "58f14625-5e0d-4f47-9d47-57dbc6639a23",
   "metadata": {},
   "outputs": [],
   "source": [
    "data_exp, data_mut, data_cna, data_meth, data_fprint, data_dep = trainset_load(cna=False)\n",
    "id_train, id_test = train_test_index(data_mut)\n",
    "\n",
    "with tf.device('/cpu:0'):\n",
    "    K.clear_session()\n",
    "    model = mut_exp_meth_model(data_mut=data_mut, data_exp=data_exp, data_meth=data_meth,\n",
    "                      data_fprint=data_fprint, data_dep=data_dep, id_train=id_train, id_test=id_test,\n",
    "                      premodel_mut=premodel_mut, premodel_exp=premodel_exp, premodel_meth=premodel_meth,\n",
    "                      save_path = CHECK_PATH)"
   ]
  },
  {
   "cell_type": "code",
   "execution_count": null,
   "id": "a484d668-2e01-402a-9162-c6f4463ada84",
   "metadata": {},
   "outputs": [],
   "source": [
    "model_train_vis(history=model[1], save_path=SAVE_PATH, filename=\"Mut-Exp-Meth\")"
   ]
  },
  {
   "cell_type": "code",
   "execution_count": null,
   "id": "e8e7f45c-b4bf-47af-83e8-2eca691afbc2",
   "metadata": {},
   "outputs": [],
   "source": [
    "SAVE_NAME = \"model_mut_exp_meth\"\n",
    "model[0].save(SAVE_PATH + SAVE_NAME + \".h5\")\n",
    "print(\"\\n\\nMut_Exp_Meth-DeepDEP model saved in %s\\n\\n\" % (SAVE_PATH + SAVE_NAME + \".h5\"))"
   ]
  },
  {
   "cell_type": "markdown",
   "id": "748aae21-4411-4d4d-9c0b-4b8fc28d07c6",
   "metadata": {
    "jp-MarkdownHeadingCollapsed": true,
    "tags": []
   },
   "source": [
    "### **(4) Mutation-CNA-Meth Model 3-Omics**"
   ]
  },
  {
   "cell_type": "code",
   "execution_count": null,
   "id": "0bb3a973-2c84-4bd5-9a97-1989ed1881ee",
   "metadata": {},
   "outputs": [],
   "source": [
    "data_exp, data_mut, data_cna, data_meth, data_fprint, data_dep = trainset_load(exp=False)\n",
    "id_train, id_test = train_test_index(data_mut)\n",
    "\n",
    "with tf.device('/cpu:0'):\n",
    "    K.clear_session()\n",
    "    model = mut_cna_meth_model(data_mut=data_mut, data_cna=data_cna, data_meth=data_meth,\n",
    "                      data_fprint=data_fprint, data_dep=data_dep, id_train=id_train, id_test=id_test,\n",
    "                      premodel_mut=premodel_mut, premodel_cna=premodel_cna, premodel_meth=premodel_meth,\n",
    "                      save_path = CHECK_PATH)"
   ]
  },
  {
   "cell_type": "code",
   "execution_count": null,
   "id": "4dcb8f01-8e7c-4b80-b4cb-58df8d43eff4",
   "metadata": {},
   "outputs": [],
   "source": [
    "model_train_vis(history=model[1], save_path=SAVE_PATH, filename=\"Mut-CNA-Meth\")"
   ]
  },
  {
   "cell_type": "code",
   "execution_count": null,
   "id": "f6b39f8b-3bc9-4ce2-ac6c-ff7c6f71d3a0",
   "metadata": {},
   "outputs": [],
   "source": [
    "SAVE_NAME = \"model_mut_cna_meth\"\n",
    "model[0].save(SAVE_PATH + SAVE_NAME + \".h5\")\n",
    "print(\"\\n\\nMut_CNA_Meth-DeepDEP model saved in %s\\n\\n\" % (SAVE_PATH + SAVE_NAME + \".h5\"))"
   ]
  },
  {
   "cell_type": "markdown",
   "id": "046378bc",
   "metadata": {
    "jp-MarkdownHeadingCollapsed": true,
    "tags": []
   },
   "source": [
    "### **(5) Expression-Mutation Model**"
   ]
  },
  {
   "cell_type": "code",
   "execution_count": null,
   "id": "4964f119",
   "metadata": {},
   "outputs": [],
   "source": [
    "data_exp, data_mut, data_cna, data_meth, data_fprint, data_dep = trainset_load(cna=False, meth=False)\n",
    "id_train, id_test = train_test_index(data_mut)\n",
    "\n",
    "with tf.device('/cpu:0'):\n",
    "    K.clear_session()\n",
    "    model = mut_exp_model(data_mut=data_mut, data_exp=data_exp, \n",
    "                      data_fprint=data_fprint, data_dep=data_dep, id_train=id_train, id_test=id_test,\n",
    "                      premodel_mut=premodel_mut, premodel_exp=premodel_exp,\n",
    "                      save_path = CHECK_PATH)"
   ]
  },
  {
   "cell_type": "code",
   "execution_count": null,
   "id": "da35ff3a",
   "metadata": {},
   "outputs": [],
   "source": [
    "model_train_vis(history=model[1], save_path=SAVE_PATH, filename=\"Mut-Exp\")"
   ]
  },
  {
   "cell_type": "code",
   "execution_count": null,
   "id": "67109c85",
   "metadata": {},
   "outputs": [],
   "source": [
    "SAVE_NAME = \"model_mut_exp\"\n",
    "model[0].save(SAVE_PATH + SAVE_NAME + \".h5\")\n",
    "print(\"\\n\\nMut_CNA-DeepDEP model saved in %s\\n\\n\" % (SAVE_PATH + SAVE_NAME + \".h5\"))"
   ]
  },
  {
   "cell_type": "markdown",
   "id": "bce33018",
   "metadata": {
    "jp-MarkdownHeadingCollapsed": true,
    "tags": []
   },
   "source": [
    "### **(6) Expression Model**"
   ]
  },
  {
   "cell_type": "code",
   "execution_count": null,
   "id": "c7fe7c2e-609a-40a6-882e-4515050f1022",
   "metadata": {
    "tags": []
   },
   "outputs": [],
   "source": [
    "data_exp, data_mut, data_cna, data_meth, data_fprint, data_dep = trainset_load(mut=False, cna=False, meth=False)\n",
    "id_train, id_test = train_test_index(data_exp)\n",
    "\n",
    "with tf.device('/cpu:0'):\n",
    "    K.clear_session()\n",
    "    model = exp_model(data_exp=data_exp, data_fprint=data_fprint, data_dep=data_dep, \n",
    "                      id_train=id_train, id_test=id_test, premodel_exp=premodel_exp,\n",
    "                      save_path = CHECK_PATH)"
   ]
  },
  {
   "cell_type": "code",
   "execution_count": null,
   "id": "4924a0b4",
   "metadata": {},
   "outputs": [],
   "source": [
    "model_train_vis(history=model[1], save_path=SAVE_PATH, filename=\"Exp\")"
   ]
  },
  {
   "cell_type": "code",
   "execution_count": null,
   "id": "1e680d84",
   "metadata": {},
   "outputs": [],
   "source": [
    "SAVE_NAME = \"model_exp\"\n",
    "model[0].save(SAVE_PATH + SAVE_NAME + \".h5\")\n",
    "print(\"\\n\\Exp-DeepDEP model saved in %s\\n\\n\" % (SAVE_PATH + SAVE_NAME + \".h5\"))"
   ]
  },
  {
   "cell_type": "markdown",
   "id": "3bfebb8d",
   "metadata": {
    "jp-MarkdownHeadingCollapsed": true,
    "tags": []
   },
   "source": [
    "### **(7) Mutation Model**"
   ]
  },
  {
   "cell_type": "code",
   "execution_count": null,
   "id": "74168a0e",
   "metadata": {},
   "outputs": [],
   "source": [
    "data_exp, data_mut, data_cna, data_meth, data_fprint, data_dep = trainset_load(exp=False, cna=False, meth=False)\n",
    "id_train, id_test = train_test_index(data_mut)\n",
    "\n",
    "with tf.device('/cpu:0'):\n",
    "    K.clear_session()\n",
    "    model = mut_model(data_mut=data_mut, data_fprint=data_fprint, data_dep=data_dep, \n",
    "                      id_train=id_train, id_test=id_test, premodel_mut=premodel_mut,\n",
    "                      save_path = CHECK_PATH)"
   ]
  },
  {
   "cell_type": "code",
   "execution_count": null,
   "id": "0017f130",
   "metadata": {},
   "outputs": [],
   "source": [
    "model_train_vis(history=model[1], save_path=SAVE_PATH, filename=\"Mut\")"
   ]
  },
  {
   "cell_type": "code",
   "execution_count": null,
   "id": "729abb73",
   "metadata": {},
   "outputs": [],
   "source": [
    "SAVE_NAME = \"model_mut\"\n",
    "model[0].save(SAVE_PATH + SAVE_NAME + \".h5\")\n",
    "print(\"\\n\\nFull DeepDEP model saved in %s\\n\\n\" % (SAVE_PATH + SAVE_NAME + \".h5\"))"
   ]
  },
  {
   "cell_type": "markdown",
   "id": "c9ae7d88",
   "metadata": {
    "jp-MarkdownHeadingCollapsed": true,
    "tags": []
   },
   "source": [
    "### **(8) CNA Model**"
   ]
  },
  {
   "cell_type": "code",
   "execution_count": null,
   "id": "b3024140",
   "metadata": {},
   "outputs": [],
   "source": [
    "data_exp, data_mut, data_cna, data_meth, data_fprint, data_dep = trainset_load(mut=False, exp=False, meth=False)\n",
    "id_train, id_test = train_test_index(data_cna)\n",
    "\n",
    "with tf.device('/cpu:0'):\n",
    "    K.clear_session()\n",
    "    model = cna_model(data_cna=data_cna, data_fprint=data_fprint, data_dep=data_dep, \n",
    "                      id_train=id_train, id_test=id_test, premodel_cna=premodel_cna,\n",
    "                      save_path = CHECK_PATH)"
   ]
  },
  {
   "cell_type": "code",
   "execution_count": null,
   "id": "4732afb9",
   "metadata": {},
   "outputs": [],
   "source": [
    "model_train_vis(history=model[1], save_path=SAVE_PATH, filename=\"CNA\")"
   ]
  },
  {
   "cell_type": "code",
   "execution_count": null,
   "id": "5f5298da",
   "metadata": {},
   "outputs": [],
   "source": [
    "SAVE_NAME = \"model_cna\"\n",
    "model[0].save(SAVE_PATH + SAVE_NAME + \".h5\")\n",
    "print(\"\\n\\CNA DeepDEP model saved in %s\\n\\n\" % (SAVE_PATH + SAVE_NAME + \".h5\"))"
   ]
  },
  {
   "cell_type": "markdown",
   "id": "d15475fe-7e39-443b-9d03-731422f4acbc",
   "metadata": {
    "jp-MarkdownHeadingCollapsed": true,
    "tags": []
   },
   "source": [
    "### **(9) Meth Model**"
   ]
  },
  {
   "cell_type": "code",
   "execution_count": null,
   "id": "f6e70392-e5a1-4cb4-b2d2-753e867f35e3",
   "metadata": {},
   "outputs": [],
   "source": [
    "data_exp, data_mut, data_cna, data_meth, data_fprint, data_dep = trainset_load(mut=False, cna=False, exp=False)\n",
    "id_train, id_test = train_test_index(data_meth)\n",
    "\n",
    "with tf.device('/cpu:0'):\n",
    "    K.clear_session()\n",
    "    model = meth_model(data_meth=data_meth, data_fprint=data_fprint, data_dep=data_dep, \n",
    "                      id_train=id_train, id_test=id_test, premodel_meth=premodel_meth,\n",
    "                      save_path = CHECK_PATH)"
   ]
  },
  {
   "cell_type": "code",
   "execution_count": null,
   "id": "b3f2d82d-2fb2-4215-89e9-413ebd3e0471",
   "metadata": {},
   "outputs": [],
   "source": [
    "model_train_vis(history=model[1], save_path=SAVE_PATH, filename=\"Meth\")"
   ]
  },
  {
   "cell_type": "code",
   "execution_count": null,
   "id": "4b86ed68-ed1c-4771-8a20-cc19b407348a",
   "metadata": {},
   "outputs": [],
   "source": [
    "SAVE_NAME = \"model_meth\"\n",
    "model[0].save(SAVE_PATH + SAVE_NAME + \".h5\")\n",
    "print(\"\\n\\nMeth DeepDEP model saved in %s\\n\\n\" % (SAVE_PATH + SAVE_NAME + \".h5\"))"
   ]
  }
 ],
 "metadata": {
  "kernelspec": {
   "display_name": "DeepDEP",
   "language": "python",
   "name": "deepdep_paper"
  },
  "language_info": {
   "codemirror_mode": {
    "name": "ipython",
    "version": 3
   },
   "file_extension": ".py",
   "mimetype": "text/x-python",
   "name": "python",
   "nbconvert_exporter": "python",
   "pygments_lexer": "ipython3",
   "version": "3.5.6"
  }
 },
 "nbformat": 4,
 "nbformat_minor": 5
}
