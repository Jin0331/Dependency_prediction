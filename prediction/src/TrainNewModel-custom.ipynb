{
 "cells": [
  {
   "cell_type": "code",
   "execution_count": 1,
   "id": "54a40671-6819-40e7-9010-9b2473ce7c35",
   "metadata": {},
   "outputs": [
    {
     "name": "stderr",
     "output_type": "stream",
     "text": [
      "2022-07-29 08:29:37.964439: I tensorflow/stream_executor/platform/default/dso_loader.cc:49] Successfully opened dynamic library libcudart.so.10.1\n"
     ]
    },
    {
     "data": {
      "text/html": [
       "<style type='text/css'>\n",
       ".datatable table.frame { margin-bottom: 0; }\n",
       ".datatable table.frame thead { border-bottom: none; }\n",
       ".datatable table.frame tr.coltypes td {  color: #FFFFFF;  line-height: 6px;  padding: 0 0.5em;}\n",
       ".datatable .bool    { background: #DDDD99; }\n",
       ".datatable .object  { background: #565656; }\n",
       ".datatable .int     { background: #5D9E5D; }\n",
       ".datatable .float   { background: #4040CC; }\n",
       ".datatable .str     { background: #CC4040; }\n",
       ".datatable .time    { background: #40CC40; }\n",
       ".datatable .row_index {  background: var(--jp-border-color3);  border-right: 1px solid var(--jp-border-color0);  color: var(--jp-ui-font-color3);  font-size: 9px;}\n",
       ".datatable .frame tbody td { text-align: left; }\n",
       ".datatable .frame tr.coltypes .row_index {  background: var(--jp-border-color0);}\n",
       ".datatable th:nth-child(2) { padding-left: 12px; }\n",
       ".datatable .hellipsis {  color: var(--jp-cell-editor-border-color);}\n",
       ".datatable .vellipsis {  background: var(--jp-layout-color0);  color: var(--jp-cell-editor-border-color);}\n",
       ".datatable .na {  color: var(--jp-cell-editor-border-color);  font-size: 80%;}\n",
       ".datatable .sp {  opacity: 0.25;}\n",
       ".datatable .footer { font-size: 9px; }\n",
       ".datatable .frame_dimensions {  background: var(--jp-border-color3);  border-top: 1px solid var(--jp-border-color0);  color: var(--jp-ui-font-color3);  display: inline-block;  opacity: 0.6;  padding: 1px 10px 1px 5px;}\n",
       "</style>\n"
      ],
      "text/plain": [
       "<IPython.core.display.HTML object>"
      ]
     },
     "metadata": {},
     "output_type": "display_data"
    }
   ],
   "source": [
    "from function import *"
   ]
  },
  {
   "cell_type": "code",
   "execution_count": 2,
   "id": "fc3892fc",
   "metadata": {},
   "outputs": [
    {
     "name": "stdout",
     "output_type": "stream",
     "text": [
      "/home/wmbio/WORK/gitworking/Dependency_prediction/prediction/src\n",
      "/home/wmbio/WORK/gitworking/Dependency_prediction\n"
     ]
    }
   ],
   "source": [
    "print(os.getcwd())\n",
    "os.chdir(\"/home/wmbio/WORK/gitworking/Dependency_prediction/\")\n",
    "print(os.getcwd())"
   ]
  },
  {
   "cell_type": "markdown",
   "id": "ce458094",
   "metadata": {},
   "source": [
    "## **Data Load & Path**"
   ]
  },
  {
   "cell_type": "code",
   "execution_count": 4,
   "id": "97ab4bc3",
   "metadata": {},
   "outputs": [],
   "source": [
    "TRAIN_PATH = \"/home/wmbio/WORK/gitworking/Dependency_prediction/preprocessing/DATA/2022-07-28/\"\n",
    "TEMP_PATH = \"prediction/train_preprocessing/\"\n",
    "SAVE_PATH = \"prediction/custom_model/\""
   ]
  },
  {
   "cell_type": "code",
   "execution_count": 3,
   "id": "c2ad9b96-da89-447f-aa87-6f798afdcf2d",
   "metadata": {
    "collapsed": true,
    "jupyter": {
     "outputs_hidden": true
    },
    "tags": []
   },
   "outputs": [
    {
     "name": "stderr",
     "output_type": "stream",
     "text": [
      " 71%|██████████████████████████████████████████████████████▌                      | 4264/6016 [05:19<02:11, 13.33it/s]\n",
      "ERROR:root:Internal Python error in the inspect module.\n",
      "Below is the traceback from this internal error.\n",
      "\n"
     ]
    },
    {
     "name": "stdout",
     "output_type": "stream",
     "text": [
      "Traceback (most recent call last):\n",
      "  File \"/home/wmbio/anaconda3/envs/deepdep/lib/python3.7/site-packages/IPython/core/interactiveshell.py\", line 3553, in run_code\n",
      "    exec(code_obj, self.user_global_ns, self.user_ns)\n",
      "  File \"/tmp/ipykernel_3002998/2174411500.py\", line 1, in <module>\n",
      "    data_exp, sample_names_exp, property_names_exp = load_data(TRAIN_PATH + \"training_custom_exp_training.txt\")\n",
      "  File \"/home/wmbio/WORK/gitworking/Dependency_prediction/prediction/src/function.py\", line 31, in load_data\n",
      "    values = line.replace('\\n', '').split('\\t')\n",
      "KeyboardInterrupt\n",
      "\n",
      "During handling of the above exception, another exception occurred:\n",
      "\n",
      "Traceback (most recent call last):\n",
      "  File \"/home/wmbio/anaconda3/envs/deepdep/lib/python3.7/site-packages/IPython/core/interactiveshell.py\", line 2099, in showtraceback\n",
      "    stb = value._render_traceback_()\n",
      "AttributeError: 'KeyboardInterrupt' object has no attribute '_render_traceback_'\n",
      "\n",
      "During handling of the above exception, another exception occurred:\n",
      "\n",
      "Traceback (most recent call last):\n",
      "  File \"/home/wmbio/anaconda3/envs/deepdep/lib/python3.7/site-packages/IPython/core/ultratb.py\", line 1101, in get_records\n",
      "    return _fixed_getinnerframes(etb, number_of_lines_of_context, tb_offset)\n",
      "  File \"/home/wmbio/anaconda3/envs/deepdep/lib/python3.7/site-packages/IPython/core/ultratb.py\", line 248, in wrapped\n",
      "    return f(*args, **kwargs)\n",
      "  File \"/home/wmbio/anaconda3/envs/deepdep/lib/python3.7/site-packages/IPython/core/ultratb.py\", line 281, in _fixed_getinnerframes\n",
      "    records = fix_frame_records_filenames(inspect.getinnerframes(etb, context))\n",
      "  File \"/home/wmbio/anaconda3/envs/deepdep/lib/python3.7/inspect.py\", line 1502, in getinnerframes\n",
      "    frameinfo = (tb.tb_frame,) + getframeinfo(tb, context)\n",
      "  File \"/home/wmbio/anaconda3/envs/deepdep/lib/python3.7/inspect.py\", line 1460, in getframeinfo\n",
      "    filename = getsourcefile(frame) or getfile(frame)\n",
      "  File \"/home/wmbio/anaconda3/envs/deepdep/lib/python3.7/inspect.py\", line 696, in getsourcefile\n",
      "    if getattr(getmodule(object, filename), '__loader__', None) is not None:\n",
      "  File \"/home/wmbio/anaconda3/envs/deepdep/lib/python3.7/inspect.py\", line 739, in getmodule\n",
      "    f = getabsfile(module)\n",
      "  File \"/home/wmbio/anaconda3/envs/deepdep/lib/python3.7/inspect.py\", line 708, in getabsfile\n",
      "    _filename = getsourcefile(object) or getfile(object)\n",
      "  File \"/home/wmbio/anaconda3/envs/deepdep/lib/python3.7/inspect.py\", line 693, in getsourcefile\n",
      "    if os.path.exists(filename):\n",
      "  File \"/home/wmbio/anaconda3/envs/deepdep/lib/python3.7/genericpath.py\", line 19, in exists\n",
      "    os.stat(path)\n",
      "KeyboardInterrupt\n"
     ]
    },
    {
     "name": "stderr",
     "output_type": "stream",
     "text": [
      "ERROR:root:Internal Python error in the inspect module.\n",
      "Below is the traceback from this internal error.\n",
      "\n"
     ]
    },
    {
     "name": "stdout",
     "output_type": "stream",
     "text": [
      "Traceback (most recent call last):\n",
      "  File \"/home/wmbio/anaconda3/envs/deepdep/lib/python3.7/site-packages/IPython/core/interactiveshell.py\", line 3553, in run_code\n",
      "    exec(code_obj, self.user_global_ns, self.user_ns)\n",
      "  File \"/tmp/ipykernel_3002998/2174411500.py\", line 1, in <module>\n",
      "    data_exp, sample_names_exp, property_names_exp = load_data(TRAIN_PATH + \"training_custom_exp_training.txt\")\n",
      "  File \"/home/wmbio/WORK/gitworking/Dependency_prediction/prediction/src/function.py\", line 31, in load_data\n",
      "    values = line.replace('\\n', '').split('\\t')\n",
      "KeyboardInterrupt\n",
      "\n",
      "During handling of the above exception, another exception occurred:\n",
      "\n",
      "Traceback (most recent call last):\n",
      "  File \"/home/wmbio/anaconda3/envs/deepdep/lib/python3.7/site-packages/IPython/core/interactiveshell.py\", line 2099, in showtraceback\n",
      "    stb = value._render_traceback_()\n",
      "AttributeError: 'KeyboardInterrupt' object has no attribute '_render_traceback_'\n",
      "\n",
      "During handling of the above exception, another exception occurred:\n",
      "\n",
      "Traceback (most recent call last):\n",
      "  File \"/home/wmbio/anaconda3/envs/deepdep/lib/python3.7/site-packages/IPython/core/interactiveshell.py\", line 3473, in run_ast_nodes\n",
      "    if (await self.run_code(code, result,  async_=asy)):\n",
      "  File \"/home/wmbio/anaconda3/envs/deepdep/lib/python3.7/site-packages/IPython/core/interactiveshell.py\", line 3575, in run_code\n",
      "    self.showtraceback(running_compiled_code=True)\n",
      "  File \"/home/wmbio/anaconda3/envs/deepdep/lib/python3.7/site-packages/IPython/core/interactiveshell.py\", line 2102, in showtraceback\n",
      "    value, tb, tb_offset=tb_offset)\n",
      "  File \"/home/wmbio/anaconda3/envs/deepdep/lib/python3.7/site-packages/IPython/core/ultratb.py\", line 1368, in structured_traceback\n",
      "    self, etype, value, tb, tb_offset, number_of_lines_of_context)\n",
      "  File \"/home/wmbio/anaconda3/envs/deepdep/lib/python3.7/site-packages/IPython/core/ultratb.py\", line 1268, in structured_traceback\n",
      "    self, etype, value, tb, tb_offset, number_of_lines_of_context\n",
      "  File \"/home/wmbio/anaconda3/envs/deepdep/lib/python3.7/site-packages/IPython/core/ultratb.py\", line 1125, in structured_traceback\n",
      "    tb_offset)\n",
      "  File \"/home/wmbio/anaconda3/envs/deepdep/lib/python3.7/site-packages/IPython/core/ultratb.py\", line 1082, in format_exception_as_a_whole\n",
      "    last_unique, recursion_repeat = find_recursion(orig_etype, evalue, records)\n",
      "  File \"/home/wmbio/anaconda3/envs/deepdep/lib/python3.7/site-packages/IPython/core/ultratb.py\", line 382, in find_recursion\n",
      "    return len(records), 0\n",
      "TypeError: object of type 'NoneType' has no len()\n",
      "\n",
      "During handling of the above exception, another exception occurred:\n",
      "\n",
      "Traceback (most recent call last):\n",
      "  File \"/home/wmbio/anaconda3/envs/deepdep/lib/python3.7/site-packages/IPython/core/interactiveshell.py\", line 2099, in showtraceback\n",
      "    stb = value._render_traceback_()\n",
      "AttributeError: 'TypeError' object has no attribute '_render_traceback_'\n",
      "\n",
      "During handling of the above exception, another exception occurred:\n",
      "\n",
      "Traceback (most recent call last):\n",
      "  File \"/home/wmbio/anaconda3/envs/deepdep/lib/python3.7/site-packages/IPython/core/ultratb.py\", line 1101, in get_records\n",
      "    return _fixed_getinnerframes(etb, number_of_lines_of_context, tb_offset)\n",
      "  File \"/home/wmbio/anaconda3/envs/deepdep/lib/python3.7/site-packages/IPython/core/ultratb.py\", line 248, in wrapped\n",
      "    return f(*args, **kwargs)\n",
      "  File \"/home/wmbio/anaconda3/envs/deepdep/lib/python3.7/site-packages/IPython/core/ultratb.py\", line 281, in _fixed_getinnerframes\n",
      "    records = fix_frame_records_filenames(inspect.getinnerframes(etb, context))\n",
      "  File \"/home/wmbio/anaconda3/envs/deepdep/lib/python3.7/inspect.py\", line 1502, in getinnerframes\n",
      "    frameinfo = (tb.tb_frame,) + getframeinfo(tb, context)\n",
      "  File \"/home/wmbio/anaconda3/envs/deepdep/lib/python3.7/inspect.py\", line 1460, in getframeinfo\n",
      "    filename = getsourcefile(frame) or getfile(frame)\n",
      "  File \"/home/wmbio/anaconda3/envs/deepdep/lib/python3.7/inspect.py\", line 696, in getsourcefile\n",
      "    if getattr(getmodule(object, filename), '__loader__', None) is not None:\n",
      "  File \"/home/wmbio/anaconda3/envs/deepdep/lib/python3.7/inspect.py\", line 739, in getmodule\n",
      "    f = getabsfile(module)\n",
      "  File \"/home/wmbio/anaconda3/envs/deepdep/lib/python3.7/inspect.py\", line 708, in getabsfile\n",
      "    _filename = getsourcefile(object) or getfile(object)\n",
      "  File \"/home/wmbio/anaconda3/envs/deepdep/lib/python3.7/inspect.py\", line 693, in getsourcefile\n",
      "    if os.path.exists(filename):\n",
      "  File \"/home/wmbio/anaconda3/envs/deepdep/lib/python3.7/genericpath.py\", line 19, in exists\n",
      "    os.stat(path)\n",
      "KeyboardInterrupt\n"
     ]
    },
    {
     "ename": "TypeError",
     "evalue": "object of type 'NoneType' has no len()",
     "output_type": "error",
     "traceback": [
      "\u001b[0;31m---------------------------------------------------------------------------\u001b[0m",
      "\u001b[0;31mKeyboardInterrupt\u001b[0m                         Traceback (most recent call last)",
      "    \u001b[0;31m[... skipping hidden 1 frame]\u001b[0m\n",
      "\u001b[0;32m/tmp/ipykernel_3002998/2174411500.py\u001b[0m in \u001b[0;36m<module>\u001b[0;34m\u001b[0m\n\u001b[0;32m----> 1\u001b[0;31m \u001b[0mdata_exp\u001b[0m\u001b[0;34m,\u001b[0m \u001b[0msample_names_exp\u001b[0m\u001b[0;34m,\u001b[0m \u001b[0mproperty_names_exp\u001b[0m \u001b[0;34m=\u001b[0m \u001b[0mload_data\u001b[0m\u001b[0;34m(\u001b[0m\u001b[0mTRAIN_PATH\u001b[0m \u001b[0;34m+\u001b[0m \u001b[0;34m\"training_custom_exp_training.txt\"\u001b[0m\u001b[0;34m)\u001b[0m\u001b[0;34m\u001b[0m\u001b[0;34m\u001b[0m\u001b[0m\n\u001b[0m\u001b[1;32m      2\u001b[0m \u001b[0;32mif\u001b[0m \u001b[0mexists\u001b[0m\u001b[0;34m(\u001b[0m\u001b[0mTEMP_PATH\u001b[0m \u001b[0;34m+\u001b[0m \u001b[0;34m\"train_exp_training.npy\"\u001b[0m\u001b[0;34m)\u001b[0m \u001b[0;32mis\u001b[0m \u001b[0;32mFalse\u001b[0m\u001b[0;34m:\u001b[0m\u001b[0;34m\u001b[0m\u001b[0;34m\u001b[0m\u001b[0m\n\u001b[1;32m      3\u001b[0m     \u001b[0mnp\u001b[0m\u001b[0;34m.\u001b[0m\u001b[0msave\u001b[0m\u001b[0;34m(\u001b[0m\u001b[0mTEMP_PATH\u001b[0m \u001b[0;34m+\u001b[0m \u001b[0;34m'train_exp_training.npy'\u001b[0m\u001b[0;34m,\u001b[0m \u001b[0mdata_exp\u001b[0m\u001b[0;34m)\u001b[0m\u001b[0;34m\u001b[0m\u001b[0;34m\u001b[0m\u001b[0m\n",
      "\u001b[0;32m~/WORK/gitworking/Dependency_prediction/prediction/src/function.py\u001b[0m in \u001b[0;36mload_data\u001b[0;34m(filename)\u001b[0m\n\u001b[1;32m     30\u001b[0m     \u001b[0;32mfor\u001b[0m \u001b[0mline\u001b[0m \u001b[0;32min\u001b[0m \u001b[0mtqdm\u001b[0m\u001b[0;34m(\u001b[0m\u001b[0mlines\u001b[0m\u001b[0;34m[\u001b[0m\u001b[0mdx\u001b[0m\u001b[0;34m:\u001b[0m\u001b[0;34m]\u001b[0m\u001b[0;34m,\u001b[0m \u001b[0mleave\u001b[0m\u001b[0;34m=\u001b[0m\u001b[0;32mTrue\u001b[0m\u001b[0;34m)\u001b[0m\u001b[0;34m:\u001b[0m\u001b[0;34m\u001b[0m\u001b[0;34m\u001b[0m\u001b[0m\n\u001b[0;32m---> 31\u001b[0;31m         \u001b[0mvalues\u001b[0m \u001b[0;34m=\u001b[0m \u001b[0mline\u001b[0m\u001b[0;34m.\u001b[0m\u001b[0mreplace\u001b[0m\u001b[0;34m(\u001b[0m\u001b[0;34m'\\n'\u001b[0m\u001b[0;34m,\u001b[0m \u001b[0;34m''\u001b[0m\u001b[0;34m)\u001b[0m\u001b[0;34m.\u001b[0m\u001b[0msplit\u001b[0m\u001b[0;34m(\u001b[0m\u001b[0;34m'\\t'\u001b[0m\u001b[0;34m)\u001b[0m\u001b[0;34m\u001b[0m\u001b[0;34m\u001b[0m\u001b[0m\n\u001b[0m\u001b[1;32m     32\u001b[0m         \u001b[0mgene\u001b[0m \u001b[0;34m=\u001b[0m \u001b[0mstr\u001b[0m\u001b[0;34m.\u001b[0m\u001b[0mupper\u001b[0m\u001b[0;34m(\u001b[0m\u001b[0mvalues\u001b[0m\u001b[0;34m[\u001b[0m\u001b[0;36m0\u001b[0m\u001b[0;34m]\u001b[0m\u001b[0;34m)\u001b[0m\u001b[0;34m\u001b[0m\u001b[0;34m\u001b[0m\u001b[0m\n",
      "\u001b[0;31mKeyboardInterrupt\u001b[0m: ",
      "\nDuring handling of the above exception, another exception occurred:\n",
      "\u001b[0;31mAttributeError\u001b[0m                            Traceback (most recent call last)",
      "\u001b[0;32m~/anaconda3/envs/deepdep/lib/python3.7/site-packages/IPython/core/interactiveshell.py\u001b[0m in \u001b[0;36mshowtraceback\u001b[0;34m(self, exc_tuple, filename, tb_offset, exception_only, running_compiled_code)\u001b[0m\n\u001b[1;32m   2098\u001b[0m                         \u001b[0;31m# in the engines. This should return a list of strings.\u001b[0m\u001b[0;34m\u001b[0m\u001b[0;34m\u001b[0m\u001b[0;34m\u001b[0m\u001b[0m\n\u001b[0;32m-> 2099\u001b[0;31m                         \u001b[0mstb\u001b[0m \u001b[0;34m=\u001b[0m \u001b[0mvalue\u001b[0m\u001b[0;34m.\u001b[0m\u001b[0m_render_traceback_\u001b[0m\u001b[0;34m(\u001b[0m\u001b[0;34m)\u001b[0m\u001b[0;34m\u001b[0m\u001b[0;34m\u001b[0m\u001b[0m\n\u001b[0m\u001b[1;32m   2100\u001b[0m                     \u001b[0;32mexcept\u001b[0m \u001b[0mException\u001b[0m\u001b[0;34m:\u001b[0m\u001b[0;34m\u001b[0m\u001b[0;34m\u001b[0m\u001b[0m\n",
      "\u001b[0;31mAttributeError\u001b[0m: 'KeyboardInterrupt' object has no attribute '_render_traceback_'",
      "\nDuring handling of the above exception, another exception occurred:\n",
      "\u001b[0;31mTypeError\u001b[0m                                 Traceback (most recent call last)",
      "\u001b[0;32m~/anaconda3/envs/deepdep/lib/python3.7/site-packages/IPython/core/interactiveshell.py\u001b[0m in \u001b[0;36mrun_ast_nodes\u001b[0;34m(self, nodelist, cell_name, interactivity, compiler, result)\u001b[0m\n\u001b[1;32m   3472\u001b[0m                         \u001b[0masy\u001b[0m \u001b[0;34m=\u001b[0m \u001b[0mcompare\u001b[0m\u001b[0;34m(\u001b[0m\u001b[0mcode\u001b[0m\u001b[0;34m)\u001b[0m\u001b[0;34m\u001b[0m\u001b[0;34m\u001b[0m\u001b[0m\n\u001b[0;32m-> 3473\u001b[0;31m                     \u001b[0;32mif\u001b[0m \u001b[0;34m(\u001b[0m\u001b[0;32mawait\u001b[0m \u001b[0mself\u001b[0m\u001b[0;34m.\u001b[0m\u001b[0mrun_code\u001b[0m\u001b[0;34m(\u001b[0m\u001b[0mcode\u001b[0m\u001b[0;34m,\u001b[0m \u001b[0mresult\u001b[0m\u001b[0;34m,\u001b[0m  \u001b[0masync_\u001b[0m\u001b[0;34m=\u001b[0m\u001b[0masy\u001b[0m\u001b[0;34m)\u001b[0m\u001b[0;34m)\u001b[0m\u001b[0;34m:\u001b[0m\u001b[0;34m\u001b[0m\u001b[0;34m\u001b[0m\u001b[0m\n\u001b[0m\u001b[1;32m   3474\u001b[0m                         \u001b[0;32mreturn\u001b[0m \u001b[0;32mTrue\u001b[0m\u001b[0;34m\u001b[0m\u001b[0;34m\u001b[0m\u001b[0m\n",
      "    \u001b[0;31m[... skipping hidden 1 frame]\u001b[0m\n",
      "\u001b[0;32m~/anaconda3/envs/deepdep/lib/python3.7/site-packages/IPython/core/interactiveshell.py\u001b[0m in \u001b[0;36mshowtraceback\u001b[0;34m(self, exc_tuple, filename, tb_offset, exception_only, running_compiled_code)\u001b[0m\n\u001b[1;32m   2101\u001b[0m                         stb = self.InteractiveTB.structured_traceback(etype,\n\u001b[0;32m-> 2102\u001b[0;31m                                             value, tb, tb_offset=tb_offset)\n\u001b[0m\u001b[1;32m   2103\u001b[0m \u001b[0;34m\u001b[0m\u001b[0m\n",
      "\u001b[0;32m~/anaconda3/envs/deepdep/lib/python3.7/site-packages/IPython/core/ultratb.py\u001b[0m in \u001b[0;36mstructured_traceback\u001b[0;34m(self, etype, value, tb, tb_offset, number_of_lines_of_context)\u001b[0m\n\u001b[1;32m   1367\u001b[0m         return FormattedTB.structured_traceback(\n\u001b[0;32m-> 1368\u001b[0;31m             self, etype, value, tb, tb_offset, number_of_lines_of_context)\n\u001b[0m\u001b[1;32m   1369\u001b[0m \u001b[0;34m\u001b[0m\u001b[0m\n",
      "\u001b[0;32m~/anaconda3/envs/deepdep/lib/python3.7/site-packages/IPython/core/ultratb.py\u001b[0m in \u001b[0;36mstructured_traceback\u001b[0;34m(self, etype, value, tb, tb_offset, number_of_lines_of_context)\u001b[0m\n\u001b[1;32m   1267\u001b[0m             return VerboseTB.structured_traceback(\n\u001b[0;32m-> 1268\u001b[0;31m                 \u001b[0mself\u001b[0m\u001b[0;34m,\u001b[0m \u001b[0metype\u001b[0m\u001b[0;34m,\u001b[0m \u001b[0mvalue\u001b[0m\u001b[0;34m,\u001b[0m \u001b[0mtb\u001b[0m\u001b[0;34m,\u001b[0m \u001b[0mtb_offset\u001b[0m\u001b[0;34m,\u001b[0m \u001b[0mnumber_of_lines_of_context\u001b[0m\u001b[0;34m\u001b[0m\u001b[0;34m\u001b[0m\u001b[0m\n\u001b[0m\u001b[1;32m   1269\u001b[0m             )\n",
      "\u001b[0;32m~/anaconda3/envs/deepdep/lib/python3.7/site-packages/IPython/core/ultratb.py\u001b[0m in \u001b[0;36mstructured_traceback\u001b[0;34m(self, etype, evalue, etb, tb_offset, number_of_lines_of_context)\u001b[0m\n\u001b[1;32m   1124\u001b[0m         formatted_exception = self.format_exception_as_a_whole(etype, evalue, etb, number_of_lines_of_context,\n\u001b[0;32m-> 1125\u001b[0;31m                                                                tb_offset)\n\u001b[0m\u001b[1;32m   1126\u001b[0m \u001b[0;34m\u001b[0m\u001b[0m\n",
      "\u001b[0;32m~/anaconda3/envs/deepdep/lib/python3.7/site-packages/IPython/core/ultratb.py\u001b[0m in \u001b[0;36mformat_exception_as_a_whole\u001b[0;34m(self, etype, evalue, etb, number_of_lines_of_context, tb_offset)\u001b[0m\n\u001b[1;32m   1081\u001b[0m \u001b[0;34m\u001b[0m\u001b[0m\n\u001b[0;32m-> 1082\u001b[0;31m         \u001b[0mlast_unique\u001b[0m\u001b[0;34m,\u001b[0m \u001b[0mrecursion_repeat\u001b[0m \u001b[0;34m=\u001b[0m \u001b[0mfind_recursion\u001b[0m\u001b[0;34m(\u001b[0m\u001b[0morig_etype\u001b[0m\u001b[0;34m,\u001b[0m \u001b[0mevalue\u001b[0m\u001b[0;34m,\u001b[0m \u001b[0mrecords\u001b[0m\u001b[0;34m)\u001b[0m\u001b[0;34m\u001b[0m\u001b[0;34m\u001b[0m\u001b[0m\n\u001b[0m\u001b[1;32m   1083\u001b[0m \u001b[0;34m\u001b[0m\u001b[0m\n",
      "\u001b[0;32m~/anaconda3/envs/deepdep/lib/python3.7/site-packages/IPython/core/ultratb.py\u001b[0m in \u001b[0;36mfind_recursion\u001b[0;34m(etype, value, records)\u001b[0m\n\u001b[1;32m    381\u001b[0m     \u001b[0;32mif\u001b[0m \u001b[0;32mnot\u001b[0m \u001b[0mis_recursion_error\u001b[0m\u001b[0;34m(\u001b[0m\u001b[0metype\u001b[0m\u001b[0;34m,\u001b[0m \u001b[0mvalue\u001b[0m\u001b[0;34m,\u001b[0m \u001b[0mrecords\u001b[0m\u001b[0;34m)\u001b[0m\u001b[0;34m:\u001b[0m\u001b[0;34m\u001b[0m\u001b[0;34m\u001b[0m\u001b[0m\n\u001b[0;32m--> 382\u001b[0;31m         \u001b[0;32mreturn\u001b[0m \u001b[0mlen\u001b[0m\u001b[0;34m(\u001b[0m\u001b[0mrecords\u001b[0m\u001b[0;34m)\u001b[0m\u001b[0;34m,\u001b[0m \u001b[0;36m0\u001b[0m\u001b[0;34m\u001b[0m\u001b[0;34m\u001b[0m\u001b[0m\n\u001b[0m\u001b[1;32m    383\u001b[0m \u001b[0;34m\u001b[0m\u001b[0m\n",
      "\u001b[0;31mTypeError\u001b[0m: object of type 'NoneType' has no len()",
      "\nDuring handling of the above exception, another exception occurred:\n",
      "\u001b[0;31mAttributeError\u001b[0m                            Traceback (most recent call last)",
      "\u001b[0;32m~/anaconda3/envs/deepdep/lib/python3.7/site-packages/IPython/core/interactiveshell.py\u001b[0m in \u001b[0;36mshowtraceback\u001b[0;34m(self, exc_tuple, filename, tb_offset, exception_only, running_compiled_code)\u001b[0m\n\u001b[1;32m   2098\u001b[0m                         \u001b[0;31m# in the engines. This should return a list of strings.\u001b[0m\u001b[0;34m\u001b[0m\u001b[0;34m\u001b[0m\u001b[0;34m\u001b[0m\u001b[0m\n\u001b[0;32m-> 2099\u001b[0;31m                         \u001b[0mstb\u001b[0m \u001b[0;34m=\u001b[0m \u001b[0mvalue\u001b[0m\u001b[0;34m.\u001b[0m\u001b[0m_render_traceback_\u001b[0m\u001b[0;34m(\u001b[0m\u001b[0;34m)\u001b[0m\u001b[0;34m\u001b[0m\u001b[0;34m\u001b[0m\u001b[0m\n\u001b[0m\u001b[1;32m   2100\u001b[0m                     \u001b[0;32mexcept\u001b[0m \u001b[0mException\u001b[0m\u001b[0;34m:\u001b[0m\u001b[0;34m\u001b[0m\u001b[0;34m\u001b[0m\u001b[0m\n",
      "\u001b[0;31mAttributeError\u001b[0m: 'TypeError' object has no attribute '_render_traceback_'",
      "\nDuring handling of the above exception, another exception occurred:\n",
      "\u001b[0;31mTypeError\u001b[0m                                 Traceback (most recent call last)",
      "\u001b[0;32m~/anaconda3/envs/deepdep/lib/python3.7/site-packages/IPython/core/async_helpers.py\u001b[0m in \u001b[0;36m_pseudo_sync_runner\u001b[0;34m(coro)\u001b[0m\n\u001b[1;32m     76\u001b[0m     \"\"\"\n\u001b[1;32m     77\u001b[0m     \u001b[0;32mtry\u001b[0m\u001b[0;34m:\u001b[0m\u001b[0;34m\u001b[0m\u001b[0;34m\u001b[0m\u001b[0m\n\u001b[0;32m---> 78\u001b[0;31m         \u001b[0mcoro\u001b[0m\u001b[0;34m.\u001b[0m\u001b[0msend\u001b[0m\u001b[0;34m(\u001b[0m\u001b[0;32mNone\u001b[0m\u001b[0;34m)\u001b[0m\u001b[0;34m\u001b[0m\u001b[0;34m\u001b[0m\u001b[0m\n\u001b[0m\u001b[1;32m     79\u001b[0m     \u001b[0;32mexcept\u001b[0m \u001b[0mStopIteration\u001b[0m \u001b[0;32mas\u001b[0m \u001b[0mexc\u001b[0m\u001b[0;34m:\u001b[0m\u001b[0;34m\u001b[0m\u001b[0;34m\u001b[0m\u001b[0m\n\u001b[1;32m     80\u001b[0m         \u001b[0;32mreturn\u001b[0m \u001b[0mexc\u001b[0m\u001b[0;34m.\u001b[0m\u001b[0mvalue\u001b[0m\u001b[0;34m\u001b[0m\u001b[0;34m\u001b[0m\u001b[0m\n",
      "\u001b[0;32m~/anaconda3/envs/deepdep/lib/python3.7/site-packages/IPython/core/interactiveshell.py\u001b[0m in \u001b[0;36mrun_cell_async\u001b[0;34m(self, raw_cell, store_history, silent, shell_futures, transformed_cell, preprocessing_exc_tuple, cell_id)\u001b[0m\n\u001b[1;32m   3256\u001b[0m \u001b[0;34m\u001b[0m\u001b[0m\n\u001b[1;32m   3257\u001b[0m                 has_raised = await self.run_ast_nodes(code_ast.body, cell_name,\n\u001b[0;32m-> 3258\u001b[0;31m                        interactivity=interactivity, compiler=compiler, result=result)\n\u001b[0m\u001b[1;32m   3259\u001b[0m \u001b[0;34m\u001b[0m\u001b[0m\n\u001b[1;32m   3260\u001b[0m                 \u001b[0mself\u001b[0m\u001b[0;34m.\u001b[0m\u001b[0mlast_execution_succeeded\u001b[0m \u001b[0;34m=\u001b[0m \u001b[0;32mnot\u001b[0m \u001b[0mhas_raised\u001b[0m\u001b[0;34m\u001b[0m\u001b[0;34m\u001b[0m\u001b[0m\n",
      "\u001b[0;32m~/anaconda3/envs/deepdep/lib/python3.7/site-packages/IPython/core/interactiveshell.py\u001b[0m in \u001b[0;36mrun_ast_nodes\u001b[0;34m(self, nodelist, cell_name, interactivity, compiler, result)\u001b[0m\n\u001b[1;32m   3490\u001b[0m             \u001b[0;32mif\u001b[0m \u001b[0mresult\u001b[0m\u001b[0;34m:\u001b[0m\u001b[0;34m\u001b[0m\u001b[0;34m\u001b[0m\u001b[0m\n\u001b[1;32m   3491\u001b[0m                 \u001b[0mresult\u001b[0m\u001b[0;34m.\u001b[0m\u001b[0merror_before_exec\u001b[0m \u001b[0;34m=\u001b[0m \u001b[0msys\u001b[0m\u001b[0;34m.\u001b[0m\u001b[0mexc_info\u001b[0m\u001b[0;34m(\u001b[0m\u001b[0;34m)\u001b[0m\u001b[0;34m[\u001b[0m\u001b[0;36m1\u001b[0m\u001b[0;34m]\u001b[0m\u001b[0;34m\u001b[0m\u001b[0;34m\u001b[0m\u001b[0m\n\u001b[0;32m-> 3492\u001b[0;31m             \u001b[0mself\u001b[0m\u001b[0;34m.\u001b[0m\u001b[0mshowtraceback\u001b[0m\u001b[0;34m(\u001b[0m\u001b[0;34m)\u001b[0m\u001b[0;34m\u001b[0m\u001b[0;34m\u001b[0m\u001b[0m\n\u001b[0m\u001b[1;32m   3493\u001b[0m             \u001b[0;32mreturn\u001b[0m \u001b[0;32mTrue\u001b[0m\u001b[0;34m\u001b[0m\u001b[0;34m\u001b[0m\u001b[0m\n\u001b[1;32m   3494\u001b[0m \u001b[0;34m\u001b[0m\u001b[0m\n",
      "\u001b[0;32m~/anaconda3/envs/deepdep/lib/python3.7/site-packages/IPython/core/interactiveshell.py\u001b[0m in \u001b[0;36mshowtraceback\u001b[0;34m(self, exc_tuple, filename, tb_offset, exception_only, running_compiled_code)\u001b[0m\n\u001b[1;32m   2100\u001b[0m                     \u001b[0;32mexcept\u001b[0m \u001b[0mException\u001b[0m\u001b[0;34m:\u001b[0m\u001b[0;34m\u001b[0m\u001b[0;34m\u001b[0m\u001b[0m\n\u001b[1;32m   2101\u001b[0m                         stb = self.InteractiveTB.structured_traceback(etype,\n\u001b[0;32m-> 2102\u001b[0;31m                                             value, tb, tb_offset=tb_offset)\n\u001b[0m\u001b[1;32m   2103\u001b[0m \u001b[0;34m\u001b[0m\u001b[0m\n\u001b[1;32m   2104\u001b[0m                     \u001b[0mself\u001b[0m\u001b[0;34m.\u001b[0m\u001b[0m_showtraceback\u001b[0m\u001b[0;34m(\u001b[0m\u001b[0metype\u001b[0m\u001b[0;34m,\u001b[0m \u001b[0mvalue\u001b[0m\u001b[0;34m,\u001b[0m \u001b[0mstb\u001b[0m\u001b[0;34m)\u001b[0m\u001b[0;34m\u001b[0m\u001b[0;34m\u001b[0m\u001b[0m\n",
      "\u001b[0;32m~/anaconda3/envs/deepdep/lib/python3.7/site-packages/IPython/core/ultratb.py\u001b[0m in \u001b[0;36mstructured_traceback\u001b[0;34m(self, etype, value, tb, tb_offset, number_of_lines_of_context)\u001b[0m\n\u001b[1;32m   1366\u001b[0m             \u001b[0mself\u001b[0m\u001b[0;34m.\u001b[0m\u001b[0mtb\u001b[0m \u001b[0;34m=\u001b[0m \u001b[0mtb\u001b[0m\u001b[0;34m\u001b[0m\u001b[0;34m\u001b[0m\u001b[0m\n\u001b[1;32m   1367\u001b[0m         return FormattedTB.structured_traceback(\n\u001b[0;32m-> 1368\u001b[0;31m             self, etype, value, tb, tb_offset, number_of_lines_of_context)\n\u001b[0m\u001b[1;32m   1369\u001b[0m \u001b[0;34m\u001b[0m\u001b[0m\n\u001b[1;32m   1370\u001b[0m \u001b[0;34m\u001b[0m\u001b[0m\n",
      "\u001b[0;32m~/anaconda3/envs/deepdep/lib/python3.7/site-packages/IPython/core/ultratb.py\u001b[0m in \u001b[0;36mstructured_traceback\u001b[0;34m(self, etype, value, tb, tb_offset, number_of_lines_of_context)\u001b[0m\n\u001b[1;32m   1266\u001b[0m             \u001b[0;31m# Verbose modes need a full traceback\u001b[0m\u001b[0;34m\u001b[0m\u001b[0;34m\u001b[0m\u001b[0;34m\u001b[0m\u001b[0m\n\u001b[1;32m   1267\u001b[0m             return VerboseTB.structured_traceback(\n\u001b[0;32m-> 1268\u001b[0;31m                 \u001b[0mself\u001b[0m\u001b[0;34m,\u001b[0m \u001b[0metype\u001b[0m\u001b[0;34m,\u001b[0m \u001b[0mvalue\u001b[0m\u001b[0;34m,\u001b[0m \u001b[0mtb\u001b[0m\u001b[0;34m,\u001b[0m \u001b[0mtb_offset\u001b[0m\u001b[0;34m,\u001b[0m \u001b[0mnumber_of_lines_of_context\u001b[0m\u001b[0;34m\u001b[0m\u001b[0;34m\u001b[0m\u001b[0m\n\u001b[0m\u001b[1;32m   1269\u001b[0m             )\n\u001b[1;32m   1270\u001b[0m         \u001b[0;32melif\u001b[0m \u001b[0mmode\u001b[0m \u001b[0;34m==\u001b[0m \u001b[0;34m'Minimal'\u001b[0m\u001b[0;34m:\u001b[0m\u001b[0;34m\u001b[0m\u001b[0;34m\u001b[0m\u001b[0m\n",
      "\u001b[0;32m~/anaconda3/envs/deepdep/lib/python3.7/site-packages/IPython/core/ultratb.py\u001b[0m in \u001b[0;36mstructured_traceback\u001b[0;34m(self, etype, evalue, etb, tb_offset, number_of_lines_of_context)\u001b[0m\n\u001b[1;32m   1141\u001b[0m         \u001b[0;32mwhile\u001b[0m \u001b[0mevalue\u001b[0m\u001b[0;34m:\u001b[0m\u001b[0;34m\u001b[0m\u001b[0;34m\u001b[0m\u001b[0m\n\u001b[1;32m   1142\u001b[0m             formatted_exceptions += self.format_exception_as_a_whole(etype, evalue, etb, lines_of_context,\n\u001b[0;32m-> 1143\u001b[0;31m                                                                      chained_exceptions_tb_offset)\n\u001b[0m\u001b[1;32m   1144\u001b[0m             \u001b[0mexception\u001b[0m \u001b[0;34m=\u001b[0m \u001b[0mself\u001b[0m\u001b[0;34m.\u001b[0m\u001b[0mget_parts_of_chained_exception\u001b[0m\u001b[0;34m(\u001b[0m\u001b[0mevalue\u001b[0m\u001b[0;34m)\u001b[0m\u001b[0;34m\u001b[0m\u001b[0;34m\u001b[0m\u001b[0m\n\u001b[1;32m   1145\u001b[0m \u001b[0;34m\u001b[0m\u001b[0m\n",
      "\u001b[0;32m~/anaconda3/envs/deepdep/lib/python3.7/site-packages/IPython/core/ultratb.py\u001b[0m in \u001b[0;36mformat_exception_as_a_whole\u001b[0;34m(self, etype, evalue, etb, number_of_lines_of_context, tb_offset)\u001b[0m\n\u001b[1;32m   1080\u001b[0m \u001b[0;34m\u001b[0m\u001b[0m\n\u001b[1;32m   1081\u001b[0m \u001b[0;34m\u001b[0m\u001b[0m\n\u001b[0;32m-> 1082\u001b[0;31m         \u001b[0mlast_unique\u001b[0m\u001b[0;34m,\u001b[0m \u001b[0mrecursion_repeat\u001b[0m \u001b[0;34m=\u001b[0m \u001b[0mfind_recursion\u001b[0m\u001b[0;34m(\u001b[0m\u001b[0morig_etype\u001b[0m\u001b[0;34m,\u001b[0m \u001b[0mevalue\u001b[0m\u001b[0;34m,\u001b[0m \u001b[0mrecords\u001b[0m\u001b[0;34m)\u001b[0m\u001b[0;34m\u001b[0m\u001b[0;34m\u001b[0m\u001b[0m\n\u001b[0m\u001b[1;32m   1083\u001b[0m \u001b[0;34m\u001b[0m\u001b[0m\n\u001b[1;32m   1084\u001b[0m         \u001b[0mframes\u001b[0m \u001b[0;34m=\u001b[0m \u001b[0mself\u001b[0m\u001b[0;34m.\u001b[0m\u001b[0mformat_records\u001b[0m\u001b[0;34m(\u001b[0m\u001b[0mrecords\u001b[0m\u001b[0;34m,\u001b[0m \u001b[0mlast_unique\u001b[0m\u001b[0;34m,\u001b[0m \u001b[0mrecursion_repeat\u001b[0m\u001b[0;34m)\u001b[0m\u001b[0;34m\u001b[0m\u001b[0;34m\u001b[0m\u001b[0m\n",
      "\u001b[0;32m~/anaconda3/envs/deepdep/lib/python3.7/site-packages/IPython/core/ultratb.py\u001b[0m in \u001b[0;36mfind_recursion\u001b[0;34m(etype, value, records)\u001b[0m\n\u001b[1;32m    380\u001b[0m     \u001b[0;31m# first frame (from in to out) that looks different.\u001b[0m\u001b[0;34m\u001b[0m\u001b[0;34m\u001b[0m\u001b[0;34m\u001b[0m\u001b[0m\n\u001b[1;32m    381\u001b[0m     \u001b[0;32mif\u001b[0m \u001b[0;32mnot\u001b[0m \u001b[0mis_recursion_error\u001b[0m\u001b[0;34m(\u001b[0m\u001b[0metype\u001b[0m\u001b[0;34m,\u001b[0m \u001b[0mvalue\u001b[0m\u001b[0;34m,\u001b[0m \u001b[0mrecords\u001b[0m\u001b[0;34m)\u001b[0m\u001b[0;34m:\u001b[0m\u001b[0;34m\u001b[0m\u001b[0;34m\u001b[0m\u001b[0m\n\u001b[0;32m--> 382\u001b[0;31m         \u001b[0;32mreturn\u001b[0m \u001b[0mlen\u001b[0m\u001b[0;34m(\u001b[0m\u001b[0mrecords\u001b[0m\u001b[0;34m)\u001b[0m\u001b[0;34m,\u001b[0m \u001b[0;36m0\u001b[0m\u001b[0;34m\u001b[0m\u001b[0;34m\u001b[0m\u001b[0m\n\u001b[0m\u001b[1;32m    383\u001b[0m \u001b[0;34m\u001b[0m\u001b[0m\n\u001b[1;32m    384\u001b[0m     \u001b[0;31m# Select filename, lineno, func_name to track frames with\u001b[0m\u001b[0;34m\u001b[0m\u001b[0;34m\u001b[0m\u001b[0;34m\u001b[0m\u001b[0m\n",
      "\u001b[0;31mTypeError\u001b[0m: object of type 'NoneType' has no len()"
     ]
    }
   ],
   "source": [
    "data_exp, sample_names_exp, property_names_exp = load_data(TRAIN_PATH + \"training_custom_exp_training.txt\")\n",
    "if exists(TEMP_PATH + \"train_exp_training.npy\") is False:\n",
    "    np.save(TEMP_PATH + 'train_exp_training.npy', data_exp)"
   ]
  },
  {
   "cell_type": "code",
   "execution_count": null,
   "id": "51acbba0-abc6-4b39-af03-678f895e6576",
   "metadata": {},
   "outputs": [],
   "source": []
  },
  {
   "cell_type": "code",
   "execution_count": null,
   "id": "ac98882d-f104-43d7-bd01-2d308fea3f7a",
   "metadata": {
    "tags": []
   },
   "outputs": [],
   "source": [
    "# Read with databale\n",
    "datatable_df = dt.fread(TRAIN_PATH + \"training_custom_exp_training.txt\", sep=\"\\t\")"
   ]
  },
  {
   "cell_type": "code",
   "execution_count": 12,
   "id": "d65b5405-977b-4f8d-b449-eb9e02c963ee",
   "metadata": {
    "tags": []
   },
   "outputs": [],
   "source": [
    "# Then convert the dataframe into pandas\n",
    "pandas_df = datatable_df.to_pandas()"
   ]
  },
  {
   "cell_type": "code",
   "execution_count": null,
   "id": "6c426afc-bd60-433c-86be-38c981b34776",
   "metadata": {},
   "outputs": [],
   "source": [
    "nparr = DT.to_numpy()"
   ]
  },
  {
   "cell_type": "code",
   "execution_count": 24,
   "id": "0bcc4247-4155-4425-8b30-ceb54a70fed1",
   "metadata": {},
   "outputs": [
    {
     "data": {
      "text/plain": [
       "614727"
      ]
     },
     "execution_count": 24,
     "metadata": {},
     "output_type": "execute_result"
    }
   ],
   "source": []
  },
  {
   "cell_type": "code",
   "execution_count": 19,
   "id": "47ab0fad-289a-47bc-be59-e39ef9170696",
   "metadata": {},
   "outputs": [],
   "source": [
    "sample_names = pandas_df.columns.to_list()[1:]\n",
    "gene_names = pandas_df['Gene'].to_list()"
   ]
  },
  {
   "cell_type": "code",
   "execution_count": null,
   "id": "2a529ba4-5472-4718-872a-af15a0295c9c",
   "metadata": {},
   "outputs": [],
   "source": [
    "data = pandas_df.to_numpy()"
   ]
  },
  {
   "cell_type": "code",
   "execution_count": null,
   "id": "d01b00bb-0451-4ab5-97ec-b451e2c8c7cf",
   "metadata": {},
   "outputs": [],
   "source": []
  },
  {
   "cell_type": "code",
   "execution_count": null,
   "id": "d91a0771-e83e-4503-9abf-ab6278a699d9",
   "metadata": {},
   "outputs": [],
   "source": []
  },
  {
   "cell_type": "code",
   "execution_count": 13,
   "id": "90fc62ae",
   "metadata": {},
   "outputs": [
    {
     "name": "stderr",
     "output_type": "stream",
     "text": [
      "100%|███████████████████████████████████████████████████████████████████████████| 6016/6016 [00:00<00:00, 6453.39it/s]\n",
      "100%|██████████████████████████████████████████████████████████████████████████| 4539/4539 [00:00<00:00, 16297.38it/s]\n",
      "100%|███████████████████████████████████████████████████████████████████████████| 7460/7460 [00:01<00:00, 4418.80it/s]\n",
      "100%|███████████████████████████████████████████████████████████████████████████| 6617/6617 [00:01<00:00, 5167.50it/s]\n",
      "100%|█████████████████████████████████████████████████████████████████████████████████| 1/1 [00:00<00:00, 2221.56it/s]\n",
      "100%|██████████████████████████████████████████████████████████████████████████| 3115/3115 [00:00<00:00, 15862.13it/s]\n"
     ]
    }
   ],
   "source": [
    "if exists(\"prediction/data/ccl_complete_data_501CCL_1298DepOI_614727samples.npz\") is False:\n",
    "    # load TCGA mutation data, substitute here with other genomics\n",
    "    data_exp, sample_names_exp, property_names_exp = load_data(TRAIN_PATH + \"train_exp_training.txt\")\n",
    "    if exists(TEMP_PATH + \"train_exp_training.npy\") is False:\n",
    "        np.save(TEMP_PATH + 'train_exp_training.npy', data_exp)\n",
    "\n",
    "    data_mut, sample_names_mut, property_names_mut = load_data(TRAIN_PATH + \"train_mut_training.txt\")\n",
    "    if exists(TEMP_PATH + \"train_mut_training.npy\") is False:\n",
    "        np.save(TEMP_PATH + 'train_mut_training.npy', data_mut)\n",
    "\n",
    "    data_cna, sample_names_cna, property_names_cna = load_data(TRAIN_PATH + \"train_cna_training.txt\")\n",
    "    if exists(TEMP_PATH + \"train_cna_training.npy\") is False:\n",
    "        np.save(TEMP_PATH + 'train_cna_training.npy', data_cna)\n",
    "\n",
    "    data_meth, sample_names_meth, property_names_meth = load_data(TRAIN_PATH + \"train_meth_training.txt\")\n",
    "    if exists(TEMP_PATH + \"train_meth_training.npy\") is False:\n",
    "        np.save(TEMP_PATH + 'train_meth_training.npy', data_meth)\n",
    "\n",
    "    data_dep, sample_names_dep, property_names_dep = load_data(TRAIN_PATH + \"train_DepScore_training.txt\")\n",
    "    if exists(TEMP_PATH + \"train_DepScore_training.npy\") is False:\n",
    "        np.save(TEMP_PATH + 'train_DepScore_training.npy', data_dep)\n",
    "\n",
    "    data_fprint, sample_names_fprint, property_names_fprint = load_data(TRAIN_PATH + \"train_fingerprint_training.txt\")\n",
    "    if exists(TEMP_PATH + \"train_fingerprint_training.npy\") is False:\n",
    "        np.save(TEMP_PATH + 'train_fingerprint_training.npy', data_fprint)\n",
    "\n",
    "    np.savez_compressed(\"prediction/data/ccl_complete_data_501CCL_1298DepOI_614727samples_custom.npz\", \n",
    "                        data_exp=data_exp, data_mut=data_mut, data_cna=data_cna, data_meth=data_meth,\n",
    "                        data_dep=data_dep, data_fprint=data_fprint)\n",
    "else :\n",
    "    data = np.load(\"prediction/data/ccl_complete_data_501CCL_1298DepOI_614727samples_custom.npz\")\n",
    "    data_exp = data['data_exp']\n",
    "    data_mut = data['data_mut']\n",
    "    data_cna = data['data_cna']\n",
    "    data_meth = data['data_meth']\n",
    "    data_fprint = data['data_fprint']\n",
    "    data_dep = data['data_dep']"
   ]
  },
  {
   "cell_type": "markdown",
   "id": "e40cd71b",
   "metadata": {
    "tags": []
   },
   "source": [
    "## **Build Model**"
   ]
  },
  {
   "cell_type": "markdown",
   "id": "dd18fa6f",
   "metadata": {},
   "source": [
    "* **Pretrained Model load - TCGA**"
   ]
  },
  {
   "cell_type": "code",
   "execution_count": 14,
   "id": "971409bf",
   "metadata": {},
   "outputs": [
    {
     "name": "stdout",
     "output_type": "stream",
     "text": [
      "\n",
      "\n",
      "Datasets successfully loaded.\n"
     ]
    }
   ],
   "source": [
    "premodel_mut = pickle.load(open('prediction/data/premodel_tcga_mut_1000_100_50.pickle', 'rb'))\n",
    "premodel_exp = pickle.load(open('prediction/data/premodel_tcga_exp_500_200_50.pickle', 'rb'))\n",
    "premodel_cna = pickle.load(open('prediction/data/premodel_tcga_cna_500_200_50.pickle', 'rb'))\n",
    "premodel_meth = pickle.load(open('prediction/data/premodel_tcga_meth_500_200_50.pickle', 'rb'))\n",
    "print(\"\\n\\nDatasets successfully loaded.\")"
   ]
  },
  {
   "cell_type": "code",
   "execution_count": 18,
   "id": "a2250bcc",
   "metadata": {},
   "outputs": [],
   "source": [
    "activation_func = 'relu' # for all middle layers\n",
    "activation_func2 = 'linear' # for output layer to output unbounded gene-effect scores\n",
    "init = 'he_uniform'\n",
    "dense_layer_dim = 250\n",
    "batch_size = 500\n",
    "num_epoch = 100\n",
    "num_DepOI = 1298 # 1298 DepOIs as defined in our paper, custom 1227\n",
    "num_ccl = int(data_mut.shape[0]/num_DepOI)\n",
    "split_ratio = 0.7"
   ]
  },
  {
   "cell_type": "code",
   "execution_count": 19,
   "id": "31ea880a",
   "metadata": {},
   "outputs": [
    {
     "name": "stdout",
     "output_type": "stream",
     "text": [
      "\n",
      "\n",
      "Training/validation on 4908 samples (4 CCLs x 1227 DepOIs) and testing on 1227 samples (1 CCLs x 1227 DepOIs).\n",
      "\n",
      "\n"
     ]
    }
   ],
   "source": [
    "# 80% CCLs for training/validation, and 20% for testing\n",
    "id_rand = np.random.permutation(num_ccl)\n",
    "id_cell_train = id_rand[np.arange(0, round(num_ccl * split_ratio))]\n",
    "id_cell_test = id_rand[np.arange(round(num_ccl * split_ratio), num_ccl)]\n",
    "id_train = np.arange(0, num_DepOI) + id_cell_train[0]*num_DepOI\n",
    "for y in id_cell_train:\n",
    "    id_train = np.union1d(id_train, np.arange(0, num_DepOI) + y*num_DepOI)\n",
    "id_test = np.arange(0, num_DepOI) + id_cell_test[0] * num_DepOI\n",
    "for y in id_cell_test:\n",
    "    id_test = np.union1d(id_test, np.arange(0, num_DepOI) + y*num_DepOI)\n",
    "print(\"\\n\\nTraining/validation on %d samples (%d CCLs x %d DepOIs) and testing on %d samples (%d CCLs x %d DepOIs).\\n\\n\" % (\n",
    "    len(id_train), len(id_cell_train), num_DepOI, len(id_test), len(id_cell_test), num_DepOI))"
   ]
  },
  {
   "cell_type": "markdown",
   "id": "d3accc4e",
   "metadata": {},
   "source": [
    "## **Fit & Evaluation Model**"
   ]
  },
  {
   "cell_type": "markdown",
   "id": "a27cb8bb",
   "metadata": {
    "tags": []
   },
   "source": [
    "### **(1) Full Model 4-Omics**"
   ]
  },
  {
   "cell_type": "code",
   "execution_count": null,
   "id": "cdf8a404",
   "metadata": {},
   "outputs": [],
   "source": [
    "train_generator = generator(data_mut[id_train], data_exp[id_train], data_cna[id_train], data_meth[id_train], \n",
    "                                    data_fprint[id_train], data_dep[id_train], batch_size = batch_size)"
   ]
  },
  {
   "cell_type": "code",
   "execution_count": null,
   "id": "71e13dfe",
   "metadata": {},
   "outputs": [],
   "source": [
    "test_generator = generator(data_mut[id_test], data_exp[id_test], data_cna[id_test], data_meth[id_test], \n",
    "                                    data_fprint[id_test], data_dep[id_test], batch_size = batch_size)"
   ]
  },
  {
   "cell_type": "code",
   "execution_count": null,
   "id": "674ffa2c",
   "metadata": {},
   "outputs": [],
   "source": [
    "model = full_model()\n",
    "es = EarlyStopping(monitor='val_loss', min_delta=0, patience=5, verbose=1, mode='min')\n",
    "model.compile(loss='mse', optimizer='adam', metrics=[coeff_determination])\n",
    "history = model.fit(train_generator, \n",
    "                    validation_data=test_generator, \n",
    "                    epochs=num_epoch, verbose=1,         \n",
    "                    callbacks = [es])"
   ]
  },
  {
   "cell_type": "code",
   "execution_count": null,
   "id": "d7dd01a3",
   "metadata": {},
   "outputs": [],
   "source": [
    "SAVE_NAME = \"model_custom_full_0720\"\n",
    "model.save(SAVE_PATH + SAVE_NAME + \".h5\")\n",
    "print(\"\\n\\nFull DeepDEP model saved in %s\\n\\n\" % (SAVE_PATH + SAVE_NAME + \".h5\"))"
   ]
  },
  {
   "cell_type": "code",
   "execution_count": null,
   "id": "10132f3d",
   "metadata": {},
   "outputs": [],
   "source": [
    "model_train_vis(history=history)"
   ]
  },
  {
   "cell_type": "markdown",
   "id": "e0ca3d06",
   "metadata": {},
   "source": [
    "### **(2) Expression-Mutation-CNA Model**"
   ]
  },
  {
   "cell_type": "code",
   "execution_count": null,
   "id": "8d7aeff7",
   "metadata": {},
   "outputs": [],
   "source": [
    "train_generator = generator3(data_mut[id_train], data_exp[id_train], data_cna[id_train], \n",
    "                                    data_fprint[id_train], data_dep[id_train], batch_size = batch_size)"
   ]
  },
  {
   "cell_type": "code",
   "execution_count": null,
   "id": "ebfd38ad",
   "metadata": {},
   "outputs": [],
   "source": [
    "test_generator = generator3(data_mut[id_test], data_exp[id_test], data_cna[id_test],\n",
    "                                    data_fprint[id_test], data_dep[id_test], batch_size = batch_size)"
   ]
  },
  {
   "cell_type": "code",
   "execution_count": null,
   "id": "aefed8dd",
   "metadata": {},
   "outputs": [],
   "source": [
    "model = exp_mut_cna_model()\n",
    "es = EarlyStopping(monitor='val_loss', min_delta=0, patience=5, verbose=1, mode='min')\n",
    "model.compile(loss='mse', optimizer='adam', metrics=[coeff_determination])\n",
    "history = model.fit(train_generator, \n",
    "                    validation_data=test_generator, \n",
    "                    epochs=num_epoch, verbose=1,         \n",
    "                    callbacks = [es])"
   ]
  },
  {
   "cell_type": "code",
   "execution_count": null,
   "id": "f8bd54b7",
   "metadata": {},
   "outputs": [],
   "source": [
    "SAVE_NAME = \"model_custom_mut_exp_cna_0725\"\n",
    "model.save(SAVE_PATH + SAVE_NAME + \".h5\")\n",
    "print(\"\\n\\nFull DeepDEP model saved in %s\\n\\n\" % (SAVE_PATH + SAVE_NAME + \".h5\"))"
   ]
  },
  {
   "cell_type": "code",
   "execution_count": null,
   "id": "d32a3fcc",
   "metadata": {},
   "outputs": [],
   "source": [
    "model_train_vis(history=history)"
   ]
  },
  {
   "cell_type": "markdown",
   "id": "046378bc",
   "metadata": {
    "jp-MarkdownHeadingCollapsed": true,
    "tags": []
   },
   "source": [
    "### **(3) Expression-Mutation Model**"
   ]
  },
  {
   "cell_type": "code",
   "execution_count": null,
   "id": "f69827f5",
   "metadata": {},
   "outputs": [],
   "source": [
    "train_generator = generator2(data_mut[id_train], data_exp[id_train], data_fprint[id_train],\n",
    "                            data_dep[id_train], batch_size = batch_size)"
   ]
  },
  {
   "cell_type": "code",
   "execution_count": null,
   "id": "496568f7",
   "metadata": {},
   "outputs": [],
   "source": [
    "test_generator = generator2(data_mut[id_test], data_exp[id_test], data_fprint[id_test],\n",
    "                           data_dep[id_test], batch_size = batch_size)"
   ]
  },
  {
   "cell_type": "code",
   "execution_count": null,
   "id": "4964f119",
   "metadata": {},
   "outputs": [],
   "source": [
    "model = exp_mut_model()\n",
    "es = EarlyStopping(monitor='val_loss', min_delta=0, patience=5, verbose=1, mode='min')\n",
    "model.compile(loss='mse', optimizer='adam', metrics=[coeff_determination])\n",
    "history = model.fit(train_generator, \n",
    "                    validation_data=test_generator, \n",
    "                    epochs=num_epoch, verbose=1,         \n",
    "                    callbacks = [es])"
   ]
  },
  {
   "cell_type": "code",
   "execution_count": null,
   "id": "da35ff3a",
   "metadata": {},
   "outputs": [],
   "source": [
    "model_train_vis(history=history)"
   ]
  },
  {
   "cell_type": "code",
   "execution_count": null,
   "id": "67109c85",
   "metadata": {},
   "outputs": [],
   "source": [
    "SAVE_NAME = \"model_custom_mut_exp_0720\"\n",
    "model.save(SAVE_PATH + SAVE_NAME + \".h5\")\n",
    "print(\"\\n\\nFull DeepDEP model saved in %s\\n\\n\" % (SAVE_PATH + SAVE_NAME + \".h5\"))"
   ]
  },
  {
   "cell_type": "markdown",
   "id": "bce33018",
   "metadata": {
    "tags": []
   },
   "source": [
    "### **(4) Expression Model**"
   ]
  },
  {
   "cell_type": "code",
   "execution_count": 20,
   "id": "15be141a",
   "metadata": {},
   "outputs": [],
   "source": [
    "train_generator = generator1(data_exp[id_train], data_fprint[id_train],\n",
    "                            data_dep[id_train], batch_size = batch_size)"
   ]
  },
  {
   "cell_type": "code",
   "execution_count": 21,
   "id": "7d8d6efe",
   "metadata": {},
   "outputs": [],
   "source": [
    "test_generator = generator1(data_exp[id_test], data_fprint[id_test],\n",
    "                           data_dep[id_test], batch_size = batch_size)"
   ]
  },
  {
   "cell_type": "code",
   "execution_count": 23,
   "id": "d337bde2",
   "metadata": {
    "collapsed": true,
    "jupyter": {
     "outputs_hidden": true
    },
    "tags": []
   },
   "outputs": [
    {
     "name": "stdout",
     "output_type": "stream",
     "text": [
      "Epoch 1/100\n",
      "10/10 [==============================] - 0s 33ms/step - loss: 13.4187 - coeff_determination: -37.6438 - val_loss: 0.2705 - val_coeff_determination: 0.0355\n",
      "Epoch 2/100\n",
      "10/10 [==============================] - 0s 23ms/step - loss: 0.2991 - coeff_determination: -0.0335 - val_loss: 0.1830 - val_coeff_determination: 0.3314\n",
      "Epoch 3/100\n",
      "10/10 [==============================] - 0s 25ms/step - loss: 0.1916 - coeff_determination: 0.3104 - val_loss: 0.1217 - val_coeff_determination: 0.5487\n",
      "Epoch 4/100\n",
      "10/10 [==============================] - 0s 25ms/step - loss: 0.1135 - coeff_determination: 0.5590 - val_loss: 0.0888 - val_coeff_determination: 0.6605\n",
      "Epoch 5/100\n",
      "10/10 [==============================] - 0s 23ms/step - loss: 0.0751 - coeff_determination: 0.7237 - val_loss: 0.0675 - val_coeff_determination: 0.7426\n",
      "Epoch 6/100\n",
      "10/10 [==============================] - 0s 24ms/step - loss: 0.0574 - coeff_determination: 0.8019 - val_loss: 0.0602 - val_coeff_determination: 0.7720\n",
      "Epoch 7/100\n",
      "10/10 [==============================] - 0s 24ms/step - loss: 0.0522 - coeff_determination: 0.8215 - val_loss: 0.0554 - val_coeff_determination: 0.7903\n",
      "Epoch 8/100\n",
      "10/10 [==============================] - 0s 25ms/step - loss: 0.0394 - coeff_determination: 0.8478 - val_loss: 0.0531 - val_coeff_determination: 0.8010\n",
      "Epoch 9/100\n",
      "10/10 [==============================] - 0s 27ms/step - loss: 0.0379 - coeff_determination: 0.8642 - val_loss: 0.0506 - val_coeff_determination: 0.8095\n",
      "Epoch 10/100\n",
      "10/10 [==============================] - 0s 24ms/step - loss: 0.0359 - coeff_determination: 0.8659 - val_loss: 0.0499 - val_coeff_determination: 0.8106\n",
      "Epoch 11/100\n",
      "10/10 [==============================] - 0s 24ms/step - loss: 0.0358 - coeff_determination: 0.8557 - val_loss: 0.0507 - val_coeff_determination: 0.8088\n",
      "Epoch 12/100\n",
      "10/10 [==============================] - 0s 24ms/step - loss: 0.0363 - coeff_determination: 0.8679 - val_loss: 0.0498 - val_coeff_determination: 0.8141\n",
      "Epoch 13/100\n",
      "10/10 [==============================] - 0s 26ms/step - loss: 0.0363 - coeff_determination: 0.8785 - val_loss: 0.0492 - val_coeff_determination: 0.8154\n",
      "Epoch 14/100\n",
      "10/10 [==============================] - 0s 23ms/step - loss: 0.0359 - coeff_determination: 0.8620 - val_loss: 0.0576 - val_coeff_determination: 0.7848\n",
      "Epoch 15/100\n",
      "10/10 [==============================] - 0s 25ms/step - loss: 0.0404 - coeff_determination: 0.8523 - val_loss: 0.0489 - val_coeff_determination: 0.8169\n",
      "Epoch 16/100\n",
      "10/10 [==============================] - 0s 24ms/step - loss: 0.0349 - coeff_determination: 0.8757 - val_loss: 0.0501 - val_coeff_determination: 0.8132\n",
      "Epoch 17/100\n",
      "10/10 [==============================] - 0s 26ms/step - loss: 0.0371 - coeff_determination: 0.8560 - val_loss: 0.0609 - val_coeff_determination: 0.7753\n",
      "Epoch 18/100\n",
      "10/10 [==============================] - 0s 27ms/step - loss: 0.0410 - coeff_determination: 0.8473 - val_loss: 0.0534 - val_coeff_determination: 0.7990\n",
      "Epoch 19/100\n",
      "10/10 [==============================] - 0s 24ms/step - loss: 0.0353 - coeff_determination: 0.8840 - val_loss: 0.0486 - val_coeff_determination: 0.8176\n",
      "Epoch 20/100\n",
      "10/10 [==============================] - 0s 25ms/step - loss: 0.0344 - coeff_determination: 0.8804 - val_loss: 0.0497 - val_coeff_determination: 0.8132\n",
      "Epoch 21/100\n",
      "10/10 [==============================] - 0s 26ms/step - loss: 0.0322 - coeff_determination: 0.8754 - val_loss: 0.0517 - val_coeff_determination: 0.8065\n",
      "Epoch 22/100\n",
      "10/10 [==============================] - 0s 31ms/step - loss: 0.0338 - coeff_determination: 0.8747 - val_loss: 0.0521 - val_coeff_determination: 0.8039\n",
      "Epoch 23/100\n",
      "10/10 [==============================] - 0s 25ms/step - loss: 0.0360 - coeff_determination: 0.8757 - val_loss: 0.0547 - val_coeff_determination: 0.7979\n",
      "Epoch 24/100\n",
      "10/10 [==============================] - 0s 24ms/step - loss: 0.0359 - coeff_determination: 0.8787 - val_loss: 0.0483 - val_coeff_determination: 0.8189\n",
      "Epoch 25/100\n",
      "10/10 [==============================] - 0s 26ms/step - loss: 0.0308 - coeff_determination: 0.8799 - val_loss: 0.0487 - val_coeff_determination: 0.8168\n",
      "Epoch 26/100\n",
      "10/10 [==============================] - 0s 24ms/step - loss: 0.0305 - coeff_determination: 0.8883 - val_loss: 0.0491 - val_coeff_determination: 0.8152\n",
      "Epoch 27/100\n",
      "10/10 [==============================] - 0s 25ms/step - loss: 0.0296 - coeff_determination: 0.8826 - val_loss: 0.0506 - val_coeff_determination: 0.8095\n",
      "Epoch 28/100\n",
      "10/10 [==============================] - 0s 24ms/step - loss: 0.0329 - coeff_determination: 0.8812 - val_loss: 0.0679 - val_coeff_determination: 0.7531\n",
      "Epoch 29/100\n",
      "10/10 [==============================] - 0s 24ms/step - loss: 0.0429 - coeff_determination: 0.8477 - val_loss: 0.0501 - val_coeff_determination: 0.8122\n",
      "Epoch 00029: early stopping\n"
     ]
    }
   ],
   "source": [
    "with tf.device('/cpu:0'):\n",
    "    model = exp_model()\n",
    "    tf.keras.utils.plot_model(model, show_shapes=True,  show_dtype=True, to_file='model_custom.png')\n",
    "    es = EarlyStopping(monitor='val_loss', min_delta=0, patience=5, verbose=1, mode='min')\n",
    "    model.compile(loss='mse', optimizer='adam', metrics=[coeff_determination])\n",
    "    history = model.fit(train_generator, \n",
    "                        validation_data=test_generator, \n",
    "                        # epochs=num_epoch, \n",
    "                        epochs=100, \n",
    "                        verbose=1,         \n",
    "                        callbacks = [es])"
   ]
  },
  {
   "cell_type": "code",
   "execution_count": 24,
   "id": "4924a0b4",
   "metadata": {},
   "outputs": [
    {
     "data": {
      "image/png": "[encoded data removed]",
      "text/plain": [
       "<Figure size 432x288 with 1 Axes>"
      ]
     },
     "metadata": {
      "needs_background": "light"
     },
     "output_type": "display_data"
    },
    {
     "data": {
      "image/png": "[encoded data removed]",
      "text/plain": [
       "<Figure size 432x288 with 1 Axes>"
      ]
     },
     "metadata": {
      "needs_background": "light"
     },
     "output_type": "display_data"
    }
   ],
   "source": [
    "model_train_vis(history=history)"
   ]
  },
  {
   "cell_type": "code",
   "execution_count": 25,
   "id": "1e680d84",
   "metadata": {},
   "outputs": [
    {
     "name": "stdout",
     "output_type": "stream",
     "text": [
      "\n",
      "\n",
      "Full DeepDEP model saved in prediction/custom_model/model_ccl501_exp_0728.h5\n",
      "\n",
      "\n"
     ]
    }
   ],
   "source": [
    "SAVE_NAME = \"model_ccl501_exp_0728\"\n",
    "model.save(SAVE_PATH + SAVE_NAME + \".h5\")\n",
    "print(\"\\n\\nFull DeepDEP model saved in %s\\n\\n\" % (SAVE_PATH + SAVE_NAME + \".h5\"))"
   ]
  },
  {
   "cell_type": "markdown",
   "id": "3bfebb8d",
   "metadata": {},
   "source": [
    "### **(5) Mutation Model**"
   ]
  },
  {
   "cell_type": "code",
   "execution_count": null,
   "id": "f5e76e8a",
   "metadata": {},
   "outputs": [],
   "source": [
    "train_generator = generator1(data_mut[id_train], data_fprint[id_train],\n",
    "                            data_dep[id_train], batch_size = batch_size)"
   ]
  },
  {
   "cell_type": "code",
   "execution_count": null,
   "id": "86ae7ce2",
   "metadata": {},
   "outputs": [],
   "source": [
    "test_generator = generator1(data_mut[id_test], data_fprint[id_test],\n",
    "                           data_dep[id_test], batch_size = batch_size)"
   ]
  },
  {
   "cell_type": "code",
   "execution_count": null,
   "id": "74168a0e",
   "metadata": {},
   "outputs": [],
   "source": [
    "model = mut_model()\n",
    "es = EarlyStopping(monitor='val_loss', min_delta=0, patience=5, verbose=1, mode='min')\n",
    "model.compile(loss='mse', optimizer='adam', metrics=[coeff_determination])\n",
    "history = model.fit(train_generator, \n",
    "                    validation_data=test_generator, \n",
    "                    epochs=num_epoch, verbose=1,         \n",
    "                    callbacks = [es])"
   ]
  },
  {
   "cell_type": "code",
   "execution_count": null,
   "id": "0017f130",
   "metadata": {},
   "outputs": [],
   "source": [
    "model_train_vis(history=history)"
   ]
  },
  {
   "cell_type": "code",
   "execution_count": null,
   "id": "729abb73",
   "metadata": {},
   "outputs": [],
   "source": [
    "SAVE_NAME = \"model_custom_mut_0720\"\n",
    "model.save(SAVE_PATH + SAVE_NAME + \".h5\")\n",
    "print(\"\\n\\nFull DeepDEP model saved in %s\\n\\n\" % (SAVE_PATH + SAVE_NAME + \".h5\"))"
   ]
  },
  {
   "cell_type": "markdown",
   "id": "c9ae7d88",
   "metadata": {},
   "source": [
    "### **(6) CNA Model**"
   ]
  },
  {
   "cell_type": "code",
   "execution_count": null,
   "id": "7b1dca2f",
   "metadata": {},
   "outputs": [],
   "source": [
    "train_generator = generator1(data_cna[id_train], data_fprint[id_train],\n",
    "                            data_dep[id_train], batch_size = batch_size)"
   ]
  },
  {
   "cell_type": "code",
   "execution_count": null,
   "id": "7bb67039",
   "metadata": {},
   "outputs": [],
   "source": [
    "test_generator = generator1(data_cna[id_test], data_fprint[id_test],\n",
    "                           data_dep[id_test], batch_size = batch_size)"
   ]
  },
  {
   "cell_type": "code",
   "execution_count": null,
   "id": "b3024140",
   "metadata": {},
   "outputs": [],
   "source": [
    "model = mut_model()\n",
    "es = EarlyStopping(monitor='val_loss', min_delta=0, patience=5, verbose=1, mode='min')\n",
    "model.compile(loss='mse', optimizer='adam', metrics=[coeff_determination])\n",
    "history = model.fit(train_generator, \n",
    "                    validation_data=test_generator, \n",
    "                    epochs=num_epoch, verbose=1,         \n",
    "                    callbacks = [es])"
   ]
  },
  {
   "cell_type": "code",
   "execution_count": null,
   "id": "4732afb9",
   "metadata": {},
   "outputs": [],
   "source": [
    "model_train_vis(history=history)"
   ]
  },
  {
   "cell_type": "code",
   "execution_count": null,
   "id": "5f5298da",
   "metadata": {},
   "outputs": [],
   "source": [
    "SAVE_NAME = \"model_custom_cna_0726\"\n",
    "model.save(SAVE_PATH + SAVE_NAME + \".h5\")\n",
    "print(\"\\n\\nFull DeepDEP model saved in %s\\n\\n\" % (SAVE_PATH + SAVE_NAME + \".h5\"))"
   ]
  },
  {
   "cell_type": "code",
   "execution_count": null,
   "id": "afd78b23",
   "metadata": {},
   "outputs": [],
   "source": []
  }
 ],
 "metadata": {
  "kernelspec": {
   "display_name": "DeepDEP",
   "language": "python",
   "name": "deepdep"
  },
  "language_info": {
   "codemirror_mode": {
    "name": "ipython",
    "version": 3
   },
   "file_extension": ".py",
   "mimetype": "text/x-python",
   "name": "python",
   "nbconvert_exporter": "python",
   "pygments_lexer": "ipython3",
   "version": "3.7.13"
  }
 },
 "nbformat": 4,
 "nbformat_minor": 5
}
