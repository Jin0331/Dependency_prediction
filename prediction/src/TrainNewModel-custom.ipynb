{
 "cells": [
  {
   "cell_type": "code",
   "execution_count": null,
   "id": "54a40671-6819-40e7-9010-9b2473ce7c35",
   "metadata": {
    "tags": []
   },
   "outputs": [],
   "source": [
    "from function import *"
   ]
  },
  {
   "cell_type": "code",
   "execution_count": null,
   "id": "fc3892fc",
   "metadata": {},
   "outputs": [],
   "source": [
    "print(os.getcwd())\n",
    "os.chdir(\"/home/wmbio/WORK/gitworking/Dependency_prediction/\")\n",
    "print(os.getcwd())"
   ]
  },
  {
   "cell_type": "markdown",
   "id": "ce458094",
   "metadata": {},
   "source": [
    "## **Data Load & Path**"
   ]
  },
  {
   "cell_type": "code",
   "execution_count": null,
   "id": "97ab4bc3",
   "metadata": {},
   "outputs": [],
   "source": [
    "TRAIN_PATH = \"/home/wmbio/WORK/gitworking/Dependency_prediction/preprocessing/DATA/2022-07-28/\"\n",
    "TEMP_PATH = \"prediction/train_preprocessing/\"\n",
    "SAVE_PATH = \"prediction/custom_model/\"\n",
    "CHECK_PATH = SAVE_PATH + \"checkpoint/\"\n",
    "PREMODEL_PATH = \"prediction/data/premodel_tcga/\""
   ]
  },
  {
   "cell_type": "markdown",
   "id": "d608dd8d-2409-48d1-b58b-79b1f1bb362c",
   "metadata": {},
   "source": [
    "* **All Omics**"
   ]
  },
  {
   "cell_type": "code",
   "execution_count": null,
   "id": "f5ea4ce1-9e3a-407f-b859-d3eaa6bb1601",
   "metadata": {},
   "outputs": [],
   "source": [
    "data_exp, data_mut, data_cna, data_meth, data_fprint, data_dep = trainset_load()\n",
    "gc.collect()\n",
    "\n",
    "# paper\n",
    "# with open('prediction/data/paper/ccl_complete_data_278CCL_1298DepOI_360844samples.pickle', 'rb') as f:\n",
    "#     data_mut, data_exp, data_cna, data_meth, data_dep, data_fprint = pickle.load(f)"
   ]
  },
  {
   "cell_type": "markdown",
   "id": "e40cd71b",
   "metadata": {
    "tags": []
   },
   "source": [
    "## **Build Model**"
   ]
  },
  {
   "cell_type": "markdown",
   "id": "dd18fa6f",
   "metadata": {},
   "source": [
    "* **Pretrained Model load - TCGA**"
   ]
  },
  {
   "cell_type": "code",
   "execution_count": null,
   "id": "971409bf",
   "metadata": {},
   "outputs": [],
   "source": [
    "premodel_mut = pickle.load(open(PREMODEL_PATH + 'premodel_tcga_mut_1000_100_50.pickle', 'rb'))\n",
    "premodel_exp = pickle.load(open(PREMODEL_PATH + 'premodel_tcga_exp_500_200_50.pickle', 'rb'))\n",
    "premodel_cna = pickle.load(open(PREMODEL_PATH + 'premodel_tcga_cna_500_200_50.pickle', 'rb'))\n",
    "premodel_meth = pickle.load(open(PREMODEL_PATH + 'premodel_tcga_meth_500_200_50.pickle', 'rb'))\n",
    "print(\"\\n\\nDatasets successfully loaded.\")"
   ]
  },
  {
   "cell_type": "markdown",
   "id": "c29d8c63-cc70-4071-ae62-ac1b734e31e8",
   "metadata": {},
   "source": [
    "* **Golbal variable**"
   ]
  },
  {
   "cell_type": "code",
   "execution_count": null,
   "id": "a2250bcc",
   "metadata": {},
   "outputs": [],
   "source": [
    "batch_size = 500\n",
    "num_epoch = 100\n",
    "num_DepOI = 1298 # 1298 DepOIs as defined in our paper, custom 1227\n",
    "num_ccl = int(data_exp.shape[0]/num_DepOI)\n",
    "split_ratio = 0.7"
   ]
  },
  {
   "cell_type": "markdown",
   "id": "3d1bb047-516e-4350-b923-5d0dcac08d7c",
   "metadata": {},
   "source": [
    "* **Train / Test split**"
   ]
  },
  {
   "cell_type": "code",
   "execution_count": null,
   "id": "31ea880a",
   "metadata": {},
   "outputs": [],
   "source": [
    "# 80% CCLs for training/validation, and 20% for testing\n",
    "id_rand = np.random.permutation(num_ccl)\n",
    "id_cell_train = id_rand[np.arange(0, round(num_ccl * split_ratio))]\n",
    "id_cell_test = id_rand[np.arange(round(num_ccl * split_ratio), num_ccl)]\n",
    "id_train = np.arange(0, num_DepOI) + id_cell_train[0]*num_DepOI\n",
    "for y in id_cell_train:\n",
    "    id_train = np.union1d(id_train, np.arange(0, num_DepOI) + y*num_DepOI)\n",
    "id_test = np.arange(0, num_DepOI) + id_cell_test[0] * num_DepOI\n",
    "for y in id_cell_test:\n",
    "    id_test = np.union1d(id_test, np.arange(0, num_DepOI) + y*num_DepOI)\n",
    "print(\"\\n\\nTraining/validation on %d samples (%d CCLs x %d DepOIs) and testing on %d samples (%d CCLs x %d DepOIs).\\n\\n\" % (\n",
    "    len(id_train), len(id_cell_train), num_DepOI, len(id_test), len(id_cell_test), num_DepOI))"
   ]
  },
  {
   "cell_type": "markdown",
   "id": "d3accc4e",
   "metadata": {
    "tags": []
   },
   "source": [
    "## **Fit & Evaluation Model**"
   ]
  },
  {
   "cell_type": "markdown",
   "id": "a27cb8bb",
   "metadata": {
    "jp-MarkdownHeadingCollapsed": true,
    "tags": []
   },
   "source": [
    "### **(1) Full Model 4-Omics**"
   ]
  },
  {
   "cell_type": "code",
   "execution_count": null,
   "id": "7666bebc-59a2-4080-addb-0adc636bf20c",
   "metadata": {},
   "outputs": [],
   "source": [
    "with tf.device('/cpu:0'):\n",
    "    K.clear_session()\n",
    "    model = full_model(data_mut=data_mut, data_exp=data_exp, data_cna=data_cna,data_meth=data_meth,\n",
    "                      data_fprint=data_fprint, data_dep=data_dep, id_train=id_train, id_test=id_test,\n",
    "                      premodel_mut=premodel_mut, premodel_exp=premodel_exp, premodel_cna=premodel_cna,\n",
    "                      premodel_meth=premodel_meth, save_path = CHECK_PATH)"
   ]
  },
  {
   "cell_type": "code",
   "execution_count": null,
   "id": "d7605d61-01eb-4fcf-b610-f9e96ca623e1",
   "metadata": {},
   "outputs": [],
   "source": [
    "SAVE_NAME = \"model_full_0801\"\n",
    "model[0].save(SAVE_PATH + SAVE_NAME + \".h5\")\n",
    "print(\"\\n\\nFull DeepDEP model saved in %s\\n\\n\" % (SAVE_PATH + SAVE_NAME + \".h5\"))"
   ]
  },
  {
   "cell_type": "markdown",
   "id": "e0ca3d06",
   "metadata": {
    "jp-MarkdownHeadingCollapsed": true,
    "tags": []
   },
   "source": [
    "### **(2) Expression-Mutation-CNA Model**"
   ]
  },
  {
   "cell_type": "code",
   "execution_count": null,
   "id": "2756db12-67be-4155-adb6-6d7dab3e12f6",
   "metadata": {},
   "outputs": [],
   "source": [
    "with tf.device('/cpu:0'):\n",
    "    K.clear_session()\n",
    "    model = mut_exp_cna_model(data_mut=data_mut, data_exp=data_exp, data_cna=data_cna,\n",
    "                      data_fprint=data_fprint, data_dep=data_dep, id_train=id_train, id_test=id_test,\n",
    "                      premodel_mut=premodel_mut, premodel_exp=premodel_exp, premodel_cna=premodel_cna,\n",
    "                      save_path = CHECK_PATH)"
   ]
  },
  {
   "cell_type": "code",
   "execution_count": null,
   "id": "22748c27-ab14-4e44-86ec-b0eb8e1bb1aa",
   "metadata": {},
   "outputs": [],
   "source": [
    "model_train_vis(history=model[1])"
   ]
  },
  {
   "cell_type": "code",
   "execution_count": null,
   "id": "f8bd54b7",
   "metadata": {},
   "outputs": [],
   "source": [
    "SAVE_NAME = \"model_mut_exp_cna_0801\"\n",
    "model[0].save(SAVE_PATH + SAVE_NAME + \".h5\")\n",
    "print(\"\\n\\nMut_Exp_CNA-DeepDEP model saved in %s\\n\\n\" % (SAVE_PATH + SAVE_NAME + \".h5\"))"
   ]
  },
  {
   "cell_type": "markdown",
   "id": "046378bc",
   "metadata": {
    "tags": []
   },
   "source": [
    "### **(3) Expression-Mutation Model**"
   ]
  },
  {
   "cell_type": "code",
   "execution_count": null,
   "id": "4964f119",
   "metadata": {},
   "outputs": [],
   "source": [
    "with tf.device('/cpu:0'):\n",
    "    K.clear_session()\n",
    "    model = mut_exp_model(data_mut=data_mut, data_exp=data_exp, \n",
    "                      data_fprint=data_fprint, data_dep=data_dep, id_train=id_train, id_test=id_test,\n",
    "                      premodel_mut=premodel_mut, premodel_exp=premodel_exp,\n",
    "                      save_path = CHECK_PATH)"
   ]
  },
  {
   "cell_type": "code",
   "execution_count": null,
   "id": "da35ff3a",
   "metadata": {},
   "outputs": [],
   "source": [
    "model_train_vis(history=model[1])"
   ]
  },
  {
   "cell_type": "code",
   "execution_count": null,
   "id": "67109c85",
   "metadata": {},
   "outputs": [],
   "source": [
    "SAVE_NAME = \"model_mut_exp_0801\"\n",
    "model[0].save(SAVE_PATH + SAVE_NAME + \".h5\")\n",
    "print(\"\\n\\nMut_CNA-DeepDEP model saved in %s\\n\\n\" % (SAVE_PATH + SAVE_NAME + \".h5\"))"
   ]
  },
  {
   "cell_type": "markdown",
   "id": "bce33018",
   "metadata": {
    "tags": []
   },
   "source": [
    "### **(4) Expression Model**"
   ]
  },
  {
   "cell_type": "code",
   "execution_count": null,
   "id": "c7fe7c2e-609a-40a6-882e-4515050f1022",
   "metadata": {},
   "outputs": [],
   "source": [
    "with tf.device('/cpu:0'):\n",
    "    K.clear_session()\n",
    "    model = exp_model(data_exp=data_exp, data_fprint=data_fprint, data_dep=data_dep, \n",
    "                      id_train=id_train, id_test=id_test, premodel_exp=premodel_exp,\n",
    "                      save_path = CHECK_PATH)"
   ]
  },
  {
   "cell_type": "code",
   "execution_count": null,
   "id": "4924a0b4",
   "metadata": {},
   "outputs": [],
   "source": [
    "model_train_vis(history=model[1])"
   ]
  },
  {
   "cell_type": "code",
   "execution_count": null,
   "id": "1e680d84",
   "metadata": {},
   "outputs": [],
   "source": [
    "SAVE_NAME = \"model_exp_0801\"\n",
    "model[0].save(SAVE_PATH + SAVE_NAME + \".h5\")\n",
    "print(\"\\n\\nFull DeepDEP model saved in %s\\n\\n\" % (SAVE_PATH + SAVE_NAME + \".h5\"))"
   ]
  },
  {
   "cell_type": "markdown",
   "id": "3bfebb8d",
   "metadata": {
    "tags": []
   },
   "source": [
    "### **(5) Mutation Model**"
   ]
  },
  {
   "cell_type": "code",
   "execution_count": null,
   "id": "74168a0e",
   "metadata": {},
   "outputs": [],
   "source": [
    "with tf.device('/cpu:0'):\n",
    "    K.clear_session()\n",
    "    model = mut_model(data_mut=data_mut, data_fprint=data_fprint, data_dep=data_dep, \n",
    "                      id_train=id_train, id_test=id_test, premodel_exp=premodel_exp,\n",
    "                      save_path = CHECK_PATH)"
   ]
  },
  {
   "cell_type": "code",
   "execution_count": null,
   "id": "0017f130",
   "metadata": {},
   "outputs": [],
   "source": [
    "model_train_vis(history=model[1])"
   ]
  },
  {
   "cell_type": "code",
   "execution_count": null,
   "id": "729abb73",
   "metadata": {},
   "outputs": [],
   "source": [
    "SAVE_NAME = \"model_mut_0801\"\n",
    "model[0].save(SAVE_PATH + SAVE_NAME + \".h5\")\n",
    "print(\"\\n\\nFull DeepDEP model saved in %s\\n\\n\" % (SAVE_PATH + SAVE_NAME + \".h5\"))"
   ]
  },
  {
   "cell_type": "markdown",
   "id": "c9ae7d88",
   "metadata": {
    "tags": []
   },
   "source": [
    "### **(6) CNA Model**"
   ]
  },
  {
   "cell_type": "code",
   "execution_count": null,
   "id": "b3024140",
   "metadata": {},
   "outputs": [],
   "source": [
    "with tf.device('/cpu:0'):\n",
    "    K.clear_session()\n",
    "    model = mut_model(data_mut=data_mut, data_fprint=data_fprint, data_dep=data_dep, \n",
    "                      id_train=id_train, id_test=id_test, premodel_exp=premodel_exp,\n",
    "                      save_path = CHECK_PATH)"
   ]
  },
  {
   "cell_type": "code",
   "execution_count": null,
   "id": "4732afb9",
   "metadata": {},
   "outputs": [],
   "source": [
    "model_train_vis(history=model[1])"
   ]
  },
  {
   "cell_type": "code",
   "execution_count": null,
   "id": "5f5298da",
   "metadata": {},
   "outputs": [],
   "source": [
    "SAVE_NAME = \"model_cna_0801\"\n",
    "model[0].save(SAVE_PATH + SAVE_NAME + \".h5\")\n",
    "print(\"\\n\\nFull DeepDEP model saved in %s\\n\\n\" % (SAVE_PATH + SAVE_NAME + \".h5\"))"
   ]
  }
 ],
 "metadata": {
  "kernelspec": {
   "display_name": "DeepDEP_paper",
   "language": "python",
   "name": "deepdep_paper"
  },
  "language_info": {
   "codemirror_mode": {
    "name": "ipython",
    "version": 3
   },
   "file_extension": ".py",
   "mimetype": "text/x-python",
   "name": "python",
   "nbconvert_exporter": "python",
   "pygments_lexer": "ipython3",
   "version": "3.5.6"
  }
 },
 "nbformat": 4,
 "nbformat_minor": 5
}
