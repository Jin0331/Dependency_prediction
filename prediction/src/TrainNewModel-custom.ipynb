{
 "cells": [
  {
   "cell_type": "code",
   "execution_count": 1,
   "id": "54a40671-6819-40e7-9010-9b2473ce7c35",
   "metadata": {
    "tags": []
   },
   "outputs": [
    {
     "data": {
      "text/html": [
       "<style type='text/css'>\n",
       ".datatable table.frame { margin-bottom: 0; }\n",
       ".datatable table.frame thead { border-bottom: none; }\n",
       ".datatable table.frame tr.coltypes td {  color: #FFFFFF;  line-height: 6px;  padding: 0 0.5em;}\n",
       ".datatable .bool    { background: #DDDD99; }\n",
       ".datatable .object  { background: #565656; }\n",
       ".datatable .int     { background: #5D9E5D; }\n",
       ".datatable .float   { background: #4040CC; }\n",
       ".datatable .str     { background: #CC4040; }\n",
       ".datatable .row_index {  background: var(--jp-border-color3);  border-right: 1px solid var(--jp-border-color0);  color: var(--jp-ui-font-color3);  font-size: 9px;}\n",
       ".datatable .frame tr.coltypes .row_index {  background: var(--jp-border-color0);}\n",
       ".datatable th:nth-child(2) { padding-left: 12px; }\n",
       ".datatable .hellipsis {  color: var(--jp-cell-editor-border-color);}\n",
       ".datatable .vellipsis {  background: var(--jp-layout-color0);  color: var(--jp-cell-editor-border-color);}\n",
       ".datatable .na {  color: var(--jp-cell-editor-border-color);  font-size: 80%;}\n",
       ".datatable .footer { font-size: 9px; }\n",
       ".datatable .frame_dimensions {  background: var(--jp-border-color3);  border-top: 1px solid var(--jp-border-color0);  color: var(--jp-ui-font-color3);  display: inline-block;  opacity: 0.6;  padding: 1px 10px 1px 5px;}\n",
       "</style>\n"
      ],
      "text/plain": [
       "<IPython.core.display.HTML object>"
      ]
     },
     "metadata": {},
     "output_type": "display_data"
    },
    {
     "name": "stderr",
     "output_type": "stream",
     "text": [
      "/home/wmbio/anaconda3/envs/deepdep_paper/lib/python3.5/site-packages/tensorflow/python/framework/dtypes.py:469: FutureWarning: Passing (type, 1) or '1type' as a synonym of type is deprecated; in a future version of numpy, it will be understood as (type, (1,)) / '(1,)type'.\n",
      "  _np_qint8 = np.dtype([(\"qint8\", np.int8, 1)])\n",
      "/home/wmbio/anaconda3/envs/deepdep_paper/lib/python3.5/site-packages/tensorflow/python/framework/dtypes.py:470: FutureWarning: Passing (type, 1) or '1type' as a synonym of type is deprecated; in a future version of numpy, it will be understood as (type, (1,)) / '(1,)type'.\n",
      "  _np_quint8 = np.dtype([(\"quint8\", np.uint8, 1)])\n",
      "/home/wmbio/anaconda3/envs/deepdep_paper/lib/python3.5/site-packages/tensorflow/python/framework/dtypes.py:471: FutureWarning: Passing (type, 1) or '1type' as a synonym of type is deprecated; in a future version of numpy, it will be understood as (type, (1,)) / '(1,)type'.\n",
      "  _np_qint16 = np.dtype([(\"qint16\", np.int16, 1)])\n",
      "/home/wmbio/anaconda3/envs/deepdep_paper/lib/python3.5/site-packages/tensorflow/python/framework/dtypes.py:472: FutureWarning: Passing (type, 1) or '1type' as a synonym of type is deprecated; in a future version of numpy, it will be understood as (type, (1,)) / '(1,)type'.\n",
      "  _np_quint16 = np.dtype([(\"quint16\", np.uint16, 1)])\n",
      "/home/wmbio/anaconda3/envs/deepdep_paper/lib/python3.5/site-packages/tensorflow/python/framework/dtypes.py:473: FutureWarning: Passing (type, 1) or '1type' as a synonym of type is deprecated; in a future version of numpy, it will be understood as (type, (1,)) / '(1,)type'.\n",
      "  _np_qint32 = np.dtype([(\"qint32\", np.int32, 1)])\n",
      "/home/wmbio/anaconda3/envs/deepdep_paper/lib/python3.5/site-packages/tensorflow/python/framework/dtypes.py:476: FutureWarning: Passing (type, 1) or '1type' as a synonym of type is deprecated; in a future version of numpy, it will be understood as (type, (1,)) / '(1,)type'.\n",
      "  np_resource = np.dtype([(\"resource\", np.ubyte, 1)])\n",
      "/home/wmbio/anaconda3/envs/deepdep_paper/lib/python3.5/site-packages/h5py/__init__.py:36: FutureWarning: Conversion of the second argument of issubdtype from `float` to `np.floating` is deprecated. In future, it will be treated as `np.float64 == np.dtype(float).type`.\n",
      "  from ._conv import register_converters as _register_converters\n",
      "Using TensorFlow backend.\n"
     ]
    }
   ],
   "source": [
    "from function import *"
   ]
  },
  {
   "cell_type": "code",
   "execution_count": 2,
   "id": "fc3892fc",
   "metadata": {},
   "outputs": [
    {
     "name": "stdout",
     "output_type": "stream",
     "text": [
      "/home/wmbio/WORK/gitworking/Dependency_prediction/prediction/src\n",
      "/home/wmbio/WORK/gitworking/Dependency_prediction\n"
     ]
    }
   ],
   "source": [
    "print(os.getcwd())\n",
    "os.chdir(\"/home/wmbio/WORK/gitworking/Dependency_prediction/\")\n",
    "print(os.getcwd())"
   ]
  },
  {
   "cell_type": "markdown",
   "id": "ce458094",
   "metadata": {},
   "source": [
    "## **Data Load & Path**"
   ]
  },
  {
   "cell_type": "code",
   "execution_count": 3,
   "id": "97ab4bc3",
   "metadata": {},
   "outputs": [],
   "source": [
    "TRAIN_PATH = \"/home/wmbio/WORK/gitworking/Dependency_prediction/preprocessing/DATA/2022-07-28/\"\n",
    "TEMP_PATH = \"prediction/train_preprocessing/\"\n",
    "SAVE_PATH = \"prediction/custom_model/\"\n",
    "CHECK_PATH = SAVE_PATH + \"checkpoint/\"\n",
    "PREMODEL_PATH = \"prediction/data/premodel_tcga/\""
   ]
  },
  {
   "cell_type": "markdown",
   "id": "d608dd8d-2409-48d1-b58b-79b1f1bb362c",
   "metadata": {},
   "source": [
    "* **All Omics**"
   ]
  },
  {
   "cell_type": "code",
   "execution_count": 4,
   "id": "f5ea4ce1-9e3a-407f-b859-d3eaa6bb1601",
   "metadata": {},
   "outputs": [
    {
     "data": {
      "text/plain": [
       "0"
      ]
     },
     "execution_count": 4,
     "metadata": {},
     "output_type": "execute_result"
    }
   ],
   "source": [
    "data_exp, data_mut, data_cna, data_meth, data_fprint, data_dep = trainset_load()\n",
    "gc.collect()\n",
    "\n",
    "# paper\n",
    "# with open('prediction/data/paper/ccl_complete_data_278CCL_1298DepOI_360844samples.pickle', 'rb') as f:\n",
    "#     data_mut, data_exp, data_cna, data_meth, data_dep, data_fprint = pickle.load(f)"
   ]
  },
  {
   "cell_type": "markdown",
   "id": "e40cd71b",
   "metadata": {
    "tags": []
   },
   "source": [
    "## **Build Model**"
   ]
  },
  {
   "cell_type": "markdown",
   "id": "dd18fa6f",
   "metadata": {},
   "source": [
    "* **Pretrained Model load - TCGA**"
   ]
  },
  {
   "cell_type": "code",
   "execution_count": 5,
   "id": "971409bf",
   "metadata": {},
   "outputs": [
    {
     "name": "stdout",
     "output_type": "stream",
     "text": [
      "\n",
      "\n",
      "Datasets successfully loaded.\n"
     ]
    }
   ],
   "source": [
    "premodel_mut = pickle.load(open(PREMODEL_PATH + 'premodel_tcga_mut_1000_100_50.pickle', 'rb'))\n",
    "premodel_exp = pickle.load(open(PREMODEL_PATH + 'premodel_tcga_exp_500_200_50.pickle', 'rb'))\n",
    "premodel_cna = pickle.load(open(PREMODEL_PATH + 'premodel_tcga_cna_500_200_50.pickle', 'rb'))\n",
    "premodel_meth = pickle.load(open(PREMODEL_PATH + 'premodel_tcga_meth_500_200_50.pickle', 'rb'))\n",
    "print(\"\\n\\nDatasets successfully loaded.\")"
   ]
  },
  {
   "cell_type": "markdown",
   "id": "c29d8c63-cc70-4071-ae62-ac1b734e31e8",
   "metadata": {},
   "source": [
    "* **Golbal variable**"
   ]
  },
  {
   "cell_type": "code",
   "execution_count": 6,
   "id": "a2250bcc",
   "metadata": {},
   "outputs": [],
   "source": [
    "batch_size = 500\n",
    "num_epoch = 100\n",
    "num_DepOI = 1298 # 1298 DepOIs as defined in our paper, custom 1227\n",
    "num_ccl = int(data_exp.shape[0]/num_DepOI)\n",
    "split_ratio = 0.7"
   ]
  },
  {
   "cell_type": "markdown",
   "id": "3d1bb047-516e-4350-b923-5d0dcac08d7c",
   "metadata": {},
   "source": [
    "* **Train / Test split**"
   ]
  },
  {
   "cell_type": "code",
   "execution_count": 7,
   "id": "31ea880a",
   "metadata": {},
   "outputs": [
    {
     "name": "stdout",
     "output_type": "stream",
     "text": [
      "\n",
      "\n",
      "Training/validation on 429638 samples (331 CCLs x 1298 DepOIs) and testing on 184316 samples (142 CCLs x 1298 DepOIs).\n",
      "\n",
      "\n"
     ]
    }
   ],
   "source": [
    "# 80% CCLs for training/validation, and 20% for testing\n",
    "id_rand = np.random.permutation(num_ccl)\n",
    "id_cell_train = id_rand[np.arange(0, round(num_ccl * split_ratio))]\n",
    "id_cell_test = id_rand[np.arange(round(num_ccl * split_ratio), num_ccl)]\n",
    "id_train = np.arange(0, num_DepOI) + id_cell_train[0]*num_DepOI\n",
    "for y in id_cell_train:\n",
    "    id_train = np.union1d(id_train, np.arange(0, num_DepOI) + y*num_DepOI)\n",
    "id_test = np.arange(0, num_DepOI) + id_cell_test[0] * num_DepOI\n",
    "for y in id_cell_test:\n",
    "    id_test = np.union1d(id_test, np.arange(0, num_DepOI) + y*num_DepOI)\n",
    "print(\"\\n\\nTraining/validation on %d samples (%d CCLs x %d DepOIs) and testing on %d samples (%d CCLs x %d DepOIs).\\n\\n\" % (\n",
    "    len(id_train), len(id_cell_train), num_DepOI, len(id_test), len(id_cell_test), num_DepOI))"
   ]
  },
  {
   "cell_type": "markdown",
   "id": "d3accc4e",
   "metadata": {
    "tags": []
   },
   "source": [
    "## **Fit & Evaluation Model**"
   ]
  },
  {
   "cell_type": "markdown",
   "id": "a27cb8bb",
   "metadata": {
    "jp-MarkdownHeadingCollapsed": true,
    "tags": []
   },
   "source": [
    "### **(1) Full Model 4-Omics**"
   ]
  },
  {
   "cell_type": "code",
   "execution_count": null,
   "id": "7666bebc-59a2-4080-addb-0adc636bf20c",
   "metadata": {},
   "outputs": [],
   "source": [
    "with tf.device('/cpu:0'):\n",
    "    K.clear_session()\n",
    "    model = full_model(data_mut=data_mut, data_exp=data_exp, data_cna=data_cna,data_meth=data_meth,\n",
    "                      data_fprint=data_fprint, data_dep=data_dep, id_train=id_train, id_test=id_test,\n",
    "                      premodel_mut=premodel_mut, premodel_exp=premodel_exp, premodel_cna=premodel_cna,\n",
    "                      premodel_meth=premodel_meth, save_path = CHECK_PATH)"
   ]
  },
  {
   "cell_type": "code",
   "execution_count": null,
   "id": "d7605d61-01eb-4fcf-b610-f9e96ca623e1",
   "metadata": {},
   "outputs": [],
   "source": [
    "SAVE_NAME = \"model_full_0801\"\n",
    "model[0].save(SAVE_PATH + SAVE_NAME + \".h5\")\n",
    "print(\"\\n\\nFull DeepDEP model saved in %s\\n\\n\" % (SAVE_PATH + SAVE_NAME + \".h5\"))"
   ]
  },
  {
   "cell_type": "markdown",
   "id": "e0ca3d06",
   "metadata": {
    "jp-MarkdownHeadingCollapsed": true,
    "tags": []
   },
   "source": [
    "### **(2) Expression-Mutation-CNA Model**"
   ]
  },
  {
   "cell_type": "code",
   "execution_count": null,
   "id": "2756db12-67be-4155-adb6-6d7dab3e12f6",
   "metadata": {},
   "outputs": [],
   "source": [
    "with tf.device('/cpu:0'):\n",
    "    K.clear_session()\n",
    "    model = mut_exp_cna_model(data_mut=data_mut, data_exp=data_exp, data_cna=data_cna,\n",
    "                      data_fprint=data_fprint, data_dep=data_dep, id_train=id_train, id_test=id_test,\n",
    "                      premodel_mut=premodel_mut, premodel_exp=premodel_exp, premodel_cna=premodel_cna,\n",
    "                      save_path = CHECK_PATH)"
   ]
  },
  {
   "cell_type": "code",
   "execution_count": null,
   "id": "22748c27-ab14-4e44-86ec-b0eb8e1bb1aa",
   "metadata": {},
   "outputs": [],
   "source": [
    "model_train_vis(history=model[1])"
   ]
  },
  {
   "cell_type": "code",
   "execution_count": null,
   "id": "f8bd54b7",
   "metadata": {},
   "outputs": [],
   "source": [
    "SAVE_NAME = \"model_mut_exp_cna_0801\"\n",
    "model[0].save(SAVE_PATH + SAVE_NAME + \".h5\")\n",
    "print(\"\\n\\nMut_Exp_CNA-DeepDEP model saved in %s\\n\\n\" % (SAVE_PATH + SAVE_NAME + \".h5\"))"
   ]
  },
  {
   "cell_type": "markdown",
   "id": "046378bc",
   "metadata": {
    "jp-MarkdownHeadingCollapsed": true,
    "tags": []
   },
   "source": [
    "### **(3) Expression-Mutation Model**"
   ]
  },
  {
   "cell_type": "code",
   "execution_count": null,
   "id": "4964f119",
   "metadata": {},
   "outputs": [],
   "source": [
    "with tf.device('/cpu:0'):\n",
    "    K.clear_session()\n",
    "    model = mut_exp_model(data_mut=data_mut, data_exp=data_exp, \n",
    "                      data_fprint=data_fprint, data_dep=data_dep, id_train=id_train, id_test=id_test,\n",
    "                      premodel_mut=premodel_mut, premodel_exp=premodel_exp,\n",
    "                      save_path = CHECK_PATH)"
   ]
  },
  {
   "cell_type": "code",
   "execution_count": null,
   "id": "da35ff3a",
   "metadata": {},
   "outputs": [],
   "source": [
    "model_train_vis(history=model[1])"
   ]
  },
  {
   "cell_type": "code",
   "execution_count": null,
   "id": "67109c85",
   "metadata": {},
   "outputs": [],
   "source": [
    "SAVE_NAME = \"model_mut_exp_0801\"\n",
    "model[0].save(SAVE_PATH + SAVE_NAME + \".h5\")\n",
    "print(\"\\n\\nMut_CNA-DeepDEP model saved in %s\\n\\n\" % (SAVE_PATH + SAVE_NAME + \".h5\"))"
   ]
  },
  {
   "cell_type": "markdown",
   "id": "bce33018",
   "metadata": {
    "tags": []
   },
   "source": [
    "### **(4) Expression Model**"
   ]
  },
  {
   "cell_type": "code",
   "execution_count": 8,
   "id": "c7fe7c2e-609a-40a6-882e-4515050f1022",
   "metadata": {
    "collapsed": true,
    "jupyter": {
     "outputs_hidden": true
    },
    "tags": []
   },
   "outputs": [
    {
     "name": "stdout",
     "output_type": "stream",
     "text": [
      "Train on 334162 samples, validate on 95476 samples\n",
      "Epoch 1/30\n",
      "333800/334162 [============================>.] - ETA: 0s - loss: 0.0865Epoch 00000: val_loss improved from inf to 0.06383, saving model to prediction/custom_model/checkpoint/exp_weights.best.hdf5\n",
      "334162/334162 [==============================] - 78s - loss: 0.0865 - val_loss: 0.0638\n",
      "Epoch 2/30\n",
      "333800/334162 [============================>.] - ETA: 0s - loss: 0.0593Epoch 00001: val_loss improved from 0.06383 to 0.06140, saving model to prediction/custom_model/checkpoint/exp_weights.best.hdf5\n",
      "334162/334162 [==============================] - 72s - loss: 0.0593 - val_loss: 0.0614\n",
      "Epoch 3/30\n",
      "333800/334162 [============================>.] - ETA: 0s - loss: 0.0578Epoch 00002: val_loss improved from 0.06140 to 0.06092, saving model to prediction/custom_model/checkpoint/exp_weights.best.hdf5\n",
      "334162/334162 [==============================] - 72s - loss: 0.0578 - val_loss: 0.0609\n",
      "Epoch 4/30\n",
      "334000/334162 [============================>.] - ETA: 0s - loss: 0.0567Epoch 00003: val_loss improved from 0.06092 to 0.05989, saving model to prediction/custom_model/checkpoint/exp_weights.best.hdf5\n",
      "334162/334162 [==============================] - 72s - loss: 0.0567 - val_loss: 0.0599\n",
      "Epoch 5/30\n",
      "334000/334162 [============================>.] - ETA: 0s - loss: 0.0559Epoch 00004: val_loss did not improve\n",
      "334162/334162 [==============================] - 71s - loss: 0.0559 - val_loss: 0.0606\n",
      "Epoch 6/30\n",
      "333800/334162 [============================>.] - ETA: 0s - loss: 0.0553Epoch 00005: val_loss improved from 0.05989 to 0.05964, saving model to prediction/custom_model/checkpoint/exp_weights.best.hdf5\n",
      "334162/334162 [==============================] - 71s - loss: 0.0553 - val_loss: 0.0596\n",
      "Epoch 7/30\n",
      "333800/334162 [============================>.] - ETA: 0s - loss: 0.0548Epoch 00006: val_loss improved from 0.05964 to 0.05933, saving model to prediction/custom_model/checkpoint/exp_weights.best.hdf5\n",
      "334162/334162 [==============================] - 71s - loss: 0.0548 - val_loss: 0.0593\n",
      "Epoch 8/30\n",
      "333800/334162 [============================>.] - ETA: 0s - loss: 0.0543Epoch 00007: val_loss did not improve\n",
      "334162/334162 [==============================] - 71s - loss: 0.0543 - val_loss: 0.0600\n",
      "Epoch 9/30\n",
      "333800/334162 [============================>.] - ETA: 0s - loss: 0.0540Epoch 00008: val_loss did not improve\n",
      "334162/334162 [==============================] - 71s - loss: 0.0540 - val_loss: 0.0599\n",
      "Epoch 10/30\n",
      "333800/334162 [============================>.] - ETA: 0s - loss: 0.0537Epoch 00009: val_loss improved from 0.05933 to 0.05917, saving model to prediction/custom_model/checkpoint/exp_weights.best.hdf5\n",
      "334162/334162 [==============================] - 71s - loss: 0.0537 - val_loss: 0.0592\n",
      "Epoch 11/30\n",
      "333800/334162 [============================>.] - ETA: 0s - loss: 0.0534Epoch 00010: val_loss did not improve\n",
      "334162/334162 [==============================] - 71s - loss: 0.0534 - val_loss: 0.0592\n",
      "Epoch 12/30\n",
      "333800/334162 [============================>.] - ETA: 0s - loss: 0.0532Epoch 00011: val_loss did not improve\n",
      "334162/334162 [==============================] - 71s - loss: 0.0532 - val_loss: 0.0593\n",
      "Epoch 13/30\n",
      "333800/334162 [============================>.] - ETA: 0s - loss: 0.0530Epoch 00012: val_loss improved from 0.05917 to 0.05887, saving model to prediction/custom_model/checkpoint/exp_weights.best.hdf5\n",
      "334162/334162 [==============================] - 71s - loss: 0.0530 - val_loss: 0.0589\n",
      "Epoch 14/30\n",
      "333800/334162 [============================>.] - ETA: 0s - loss: 0.0529Epoch 00013: val_loss did not improve\n",
      "334162/334162 [==============================] - 71s - loss: 0.0529 - val_loss: 0.0598\n",
      "Epoch 15/30\n",
      "333800/334162 [============================>.] - ETA: 0s - loss: 0.0529Epoch 00014: val_loss did not improve\n",
      "334162/334162 [==============================] - 71s - loss: 0.0529 - val_loss: 0.0591\n",
      "Epoch 16/30\n",
      "333800/334162 [============================>.] - ETA: 0s - loss: 0.0527Epoch 00015: val_loss improved from 0.05887 to 0.05870, saving model to prediction/custom_model/checkpoint/exp_weights.best.hdf5\n",
      "334162/334162 [==============================] - 71s - loss: 0.0527 - val_loss: 0.0587\n",
      "Epoch 17/30\n",
      "333800/334162 [============================>.] - ETA: 0s - loss: 0.0526Epoch 00016: val_loss did not improve\n",
      "334162/334162 [==============================] - 71s - loss: 0.0526 - val_loss: 0.0608\n",
      "Epoch 18/30\n",
      "334000/334162 [============================>.] - ETA: 0s - loss: 0.0525Epoch 00017: val_loss did not improve\n",
      "334162/334162 [==============================] - 71s - loss: 0.0525 - val_loss: 0.0599\n",
      "Epoch 19/30\n",
      "333800/334162 [============================>.] - ETA: 0s - loss: 0.0525Epoch 00018: val_loss did not improve\n",
      "334162/334162 [==============================] - 71s - loss: 0.0525 - val_loss: 0.0590\n",
      "Epoch 20/30\n",
      "333800/334162 [============================>.] - ETA: 0s - loss: 0.0523Epoch 00019: val_loss improved from 0.05870 to 0.05857, saving model to prediction/custom_model/checkpoint/exp_weights.best.hdf5\n",
      "334162/334162 [==============================] - 71s - loss: 0.0523 - val_loss: 0.0586\n",
      "Epoch 21/30\n",
      "333800/334162 [============================>.] - ETA: 0s - loss: 0.0524Epoch 00020: val_loss did not improve\n",
      "334162/334162 [==============================] - 71s - loss: 0.0524 - val_loss: 0.0601\n",
      "Epoch 22/30\n",
      "333800/334162 [============================>.] - ETA: 0s - loss: 0.0521Epoch 00021: val_loss improved from 0.05857 to 0.05850, saving model to prediction/custom_model/checkpoint/exp_weights.best.hdf5\n",
      "334162/334162 [==============================] - 71s - loss: 0.0521 - val_loss: 0.0585\n",
      "Epoch 23/30\n",
      "333800/334162 [============================>.] - ETA: 0s - loss: 0.0522Epoch 00022: val_loss did not improve\n",
      "334162/334162 [==============================] - 71s - loss: 0.0522 - val_loss: 0.0596\n",
      "Epoch 24/30\n",
      "333800/334162 [============================>.] - ETA: 0s - loss: 0.0520Epoch 00023: val_loss did not improve\n",
      "334162/334162 [==============================] - 71s - loss: 0.0520 - val_loss: 0.0587\n",
      "Epoch 25/30\n",
      "333800/334162 [============================>.] - ETA: 0s - loss: 0.0521Epoch 00024: val_loss did not improve\n",
      "334162/334162 [==============================] - 71s - loss: 0.0521 - val_loss: 0.0588\n",
      "Epoch 26/30\n",
      "334000/334162 [============================>.] - ETA: 0s - loss: 0.0520Epoch 00025: val_loss did not improve\n",
      "334162/334162 [==============================] - 71s - loss: 0.0520 - val_loss: 0.0589\n",
      "\n",
      "\n",
      "Exp-DeepDEP model training completed in 34.9 mins.\n",
      "loss:0.0520 valloss:0.0589 testloss:0.0563\n"
     ]
    }
   ],
   "source": [
    "with tf.device('/cpu:0'):\n",
    "    K.clear_session()\n",
    "    model = exp_model(data_exp=data_exp, data_fprint=data_fprint, data_dep=data_dep, \n",
    "                      id_train=id_train, id_test=id_test, premodel_exp=premodel_exp,\n",
    "                      save_path = CHECK_PATH)"
   ]
  },
  {
   "cell_type": "code",
   "execution_count": 9,
   "id": "4924a0b4",
   "metadata": {},
   "outputs": [
    {
     "data": {
      "image/png": "[encoded data removed]",
      "text/plain": [
       "<Figure size 432x288 with 1 Axes>"
      ]
     },
     "metadata": {
      "needs_background": "light"
     },
     "output_type": "display_data"
    }
   ],
   "source": [
    "model_train_vis(history=model[1])"
   ]
  },
  {
   "cell_type": "code",
   "execution_count": 10,
   "id": "1e680d84",
   "metadata": {},
   "outputs": [
    {
     "name": "stdout",
     "output_type": "stream",
     "text": [
      "\n",
      "\\Exp-DeepDEP model saved in prediction/custom_model/model_exp_0801.h5\n",
      "\n",
      "\n"
     ]
    }
   ],
   "source": [
    "SAVE_NAME = \"model_exp_0801\"\n",
    "model[0].save(SAVE_PATH + SAVE_NAME + \".h5\")\n",
    "print(\"\\n\\Exp-DeepDEP model saved in %s\\n\\n\" % (SAVE_PATH + SAVE_NAME + \".h5\"))"
   ]
  },
  {
   "cell_type": "markdown",
   "id": "3bfebb8d",
   "metadata": {
    "tags": []
   },
   "source": [
    "### **(5) Mutation Model**"
   ]
  },
  {
   "cell_type": "code",
   "execution_count": 14,
   "id": "74168a0e",
   "metadata": {},
   "outputs": [
    {
     "name": "stdout",
     "output_type": "stream",
     "text": [
      "Train on 334162 samples, validate on 95476 samples\n",
      "Epoch 1/30\n",
      "334162/334162 [==============================] - 49s - loss: 0.0703 - val_loss: 0.0816\n",
      "Epoch 2/30\n",
      "334162/334162 [==============================] - 49s - loss: 0.0579 - val_loss: 0.0914\n",
      "Epoch 3/30\n",
      "334162/334162 [==============================] - 49s - loss: 0.0556 - val_loss: 0.0727\n",
      "Epoch 4/30\n",
      "334162/334162 [==============================] - 48s - loss: 0.0544 - val_loss: 0.1004\n",
      "Epoch 5/30\n",
      "334162/334162 [==============================] - 49s - loss: 0.0533 - val_loss: 0.0906\n",
      "Epoch 6/30\n",
      "334162/334162 [==============================] - 49s - loss: 0.0519 - val_loss: 0.0703\n",
      "Epoch 7/30\n",
      "334162/334162 [==============================] - 49s - loss: 0.0508 - val_loss: 0.0897\n",
      "Epoch 8/30\n",
      "334162/334162 [==============================] - 48s - loss: 0.0502 - val_loss: 0.0897\n",
      "Epoch 9/30\n",
      "334162/334162 [==============================] - 49s - loss: 0.0496 - val_loss: 0.0934\n",
      "Epoch 10/30\n",
      "334162/334162 [==============================] - 49s - loss: 0.0490 - val_loss: 0.0977\n",
      "\n",
      "\n",
      "Mut-DeepDEP model training completed in 8.4 mins.\n",
      "loss:0.0490 valloss:0.0977 testloss:0.0650\n"
     ]
    }
   ],
   "source": [
    "with tf.device('/cpu:0'):\n",
    "    K.clear_session()\n",
    "    model = mut_model(data_mut=data_mut, data_fprint=data_fprint, data_dep=data_dep, \n",
    "                      id_train=id_train, id_test=id_test, premodel_mut=premodel_mut,\n",
    "                      save_path = CHECK_PATH)"
   ]
  },
  {
   "cell_type": "code",
   "execution_count": 15,
   "id": "0017f130",
   "metadata": {},
   "outputs": [
    {
     "data": {
      "image/png": "[encoded data removed]",
      "text/plain": [
       "<Figure size 432x288 with 1 Axes>"
      ]
     },
     "metadata": {
      "needs_background": "light"
     },
     "output_type": "display_data"
    }
   ],
   "source": [
    "model_train_vis(history=model[1])"
   ]
  },
  {
   "cell_type": "code",
   "execution_count": 16,
   "id": "729abb73",
   "metadata": {},
   "outputs": [
    {
     "name": "stdout",
     "output_type": "stream",
     "text": [
      "\n",
      "\n",
      "Full DeepDEP model saved in prediction/custom_model/model_mut_0801.h5\n",
      "\n",
      "\n"
     ]
    }
   ],
   "source": [
    "SAVE_NAME = \"model_mut_0801\"\n",
    "model[0].save(SAVE_PATH + SAVE_NAME + \".h5\")\n",
    "print(\"\\n\\nFull DeepDEP model saved in %s\\n\\n\" % (SAVE_PATH + SAVE_NAME + \".h5\"))"
   ]
  },
  {
   "cell_type": "markdown",
   "id": "c9ae7d88",
   "metadata": {
    "tags": []
   },
   "source": [
    "### **(6) CNA Model**"
   ]
  },
  {
   "cell_type": "code",
   "execution_count": null,
   "id": "b3024140",
   "metadata": {},
   "outputs": [
    {
     "name": "stdout",
     "output_type": "stream",
     "text": [
      "Train on 334162 samples, validate on 95476 samples\n",
      "Epoch 1/30\n",
      "334000/334162 [============================>.] - ETA: 0s - loss: 2.7902Epoch 00000: val_loss improved from inf to 0.06551, saving model to prediction/custom_model/checkpoint/cna_weights.best.hdf5\n",
      "334162/334162 [==============================] - 50s - loss: 2.7889 - val_loss: 0.0655\n",
      "Epoch 2/30\n",
      "334000/334162 [============================>.] - ETA: 0s - loss: 0.0617Epoch 00001: val_loss improved from 0.06551 to 0.06351, saving model to prediction/custom_model/checkpoint/cna_weights.best.hdf5\n",
      "334162/334162 [==============================] - 50s - loss: 0.0617 - val_loss: 0.0635\n",
      "Epoch 3/30\n",
      "334000/334162 [============================>.] - ETA: 0s - loss: 0.0606Epoch 00002: val_loss improved from 0.06351 to 0.06335, saving model to prediction/custom_model/checkpoint/cna_weights.best.hdf5\n",
      "334162/334162 [==============================] - 50s - loss: 0.0606 - val_loss: 0.0633\n",
      "Epoch 4/30\n",
      "334000/334162 [============================>.] - ETA: 0s - loss: 0.0600Epoch 00003: val_loss improved from 0.06335 to 0.06253, saving model to prediction/custom_model/checkpoint/cna_weights.best.hdf5\n",
      "334162/334162 [==============================] - 51s - loss: 0.0600 - val_loss: 0.0625\n",
      "Epoch 5/30\n",
      "334000/334162 [============================>.] - ETA: 0s - loss: 0.0597Epoch 00004: val_loss improved from 0.06253 to 0.06177, saving model to prediction/custom_model/checkpoint/cna_weights.best.hdf5\n",
      "334162/334162 [==============================] - 51s - loss: 0.0596 - val_loss: 0.0618\n",
      "Epoch 6/30\n",
      "334000/334162 [============================>.] - ETA: 0s - loss: 0.0594Epoch 00005: val_loss did not improve\n",
      "334162/334162 [==============================] - 50s - loss: 0.0594 - val_loss: 0.0636\n",
      "Epoch 7/30\n",
      "334000/334162 [============================>.] - ETA: 0s - loss: 0.0594Epoch 00006: val_loss did not improve\n",
      "334162/334162 [==============================] - 50s - loss: 0.0594 - val_loss: 0.0646\n",
      "Epoch 8/30\n",
      "334000/334162 [============================>.] - ETA: 0s - loss: 0.0589Epoch 00007: val_loss did not improve\n",
      "334162/334162 [==============================] - 50s - loss: 0.0589 - val_loss: 0.0634\n",
      "Epoch 9/30\n",
      "334000/334162 [============================>.] - ETA: 0s - loss: 0.0592Epoch 00008: val_loss did not improve\n",
      "334162/334162 [==============================] - 50s - loss: 0.0592 - val_loss: 0.0636\n"
     ]
    }
   ],
   "source": [
    "with tf.device('/cpu:0'):\n",
    "    K.clear_session()\n",
    "    model = cna_model(data_cna=data_cna, data_fprint=data_fprint, data_dep=data_dep, \n",
    "                      id_train=id_train, id_test=id_test, premodel_cna=premodel_cna,\n",
    "                      save_path = CHECK_PATH)"
   ]
  },
  {
   "cell_type": "code",
   "execution_count": null,
   "id": "4732afb9",
   "metadata": {},
   "outputs": [],
   "source": [
    "model_train_vis(history=model[1])"
   ]
  },
  {
   "cell_type": "code",
   "execution_count": null,
   "id": "5f5298da",
   "metadata": {},
   "outputs": [],
   "source": [
    "SAVE_NAME = \"model_cna_0801\"\n",
    "model[0].save(SAVE_PATH + SAVE_NAME + \".h5\")\n",
    "print(\"\\n\\nFull DeepDEP model saved in %s\\n\\n\" % (SAVE_PATH + SAVE_NAME + \".h5\"))"
   ]
  },
  {
   "cell_type": "markdown",
   "id": "d15475fe-7e39-443b-9d03-731422f4acbc",
   "metadata": {
    "tags": []
   },
   "source": [
    "### **(7) Meth Model**"
   ]
  },
  {
   "cell_type": "code",
   "execution_count": null,
   "id": "f6e70392-e5a1-4cb4-b2d2-753e867f35e3",
   "metadata": {},
   "outputs": [],
   "source": [
    "with tf.device('/cpu:0'):\n",
    "    K.clear_session()\n",
    "    model = meth_model(data_meth=data_meth, data_fprint=data_fprint, data_dep=data_dep, \n",
    "                      id_train=id_train, id_test=id_test, premodel_meth=premodel_meth,\n",
    "                      save_path = CHECK_PATH)"
   ]
  },
  {
   "cell_type": "code",
   "execution_count": null,
   "id": "b3f2d82d-2fb2-4215-89e9-413ebd3e0471",
   "metadata": {},
   "outputs": [],
   "source": [
    "model_train_vis(history=model[1])"
   ]
  },
  {
   "cell_type": "code",
   "execution_count": null,
   "id": "4b86ed68-ed1c-4771-8a20-cc19b407348a",
   "metadata": {},
   "outputs": [],
   "source": [
    "SAVE_NAME = \"model_cna_0801\"\n",
    "model[0].save(SAVE_PATH + SAVE_NAME + \".h5\")\n",
    "print(\"\\n\\nFull DeepDEP model saved in %s\\n\\n\" % (SAVE_PATH + SAVE_NAME + \".h5\"))"
   ]
  }
 ],
 "metadata": {
  "kernelspec": {
   "display_name": "DeepDEP_paper",
   "language": "python",
   "name": "deepdep_paper"
  },
  "language_info": {
   "codemirror_mode": {
    "name": "ipython",
    "version": 3
   },
   "file_extension": ".py",
   "mimetype": "text/x-python",
   "name": "python",
   "nbconvert_exporter": "python",
   "pygments_lexer": "ipython3",
   "version": "3.5.6"
  }
 },
 "nbformat": 4,
 "nbformat_minor": 5
}
