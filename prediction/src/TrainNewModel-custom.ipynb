{
 "cells": [
  {
   "cell_type": "code",
   "execution_count": 1,
   "id": "54a40671-6819-40e7-9010-9b2473ce7c35",
   "metadata": {
    "tags": []
   },
   "outputs": [
    {
     "data": {
      "text/html": [
       "<style type='text/css'>\n",
       ".datatable table.frame { margin-bottom: 0; }\n",
       ".datatable table.frame thead { border-bottom: none; }\n",
       ".datatable table.frame tr.coltypes td {  color: #FFFFFF;  line-height: 6px;  padding: 0 0.5em;}\n",
       ".datatable .bool    { background: #DDDD99; }\n",
       ".datatable .object  { background: #565656; }\n",
       ".datatable .int     { background: #5D9E5D; }\n",
       ".datatable .float   { background: #4040CC; }\n",
       ".datatable .str     { background: #CC4040; }\n",
       ".datatable .row_index {  background: var(--jp-border-color3);  border-right: 1px solid var(--jp-border-color0);  color: var(--jp-ui-font-color3);  font-size: 9px;}\n",
       ".datatable .frame tr.coltypes .row_index {  background: var(--jp-border-color0);}\n",
       ".datatable th:nth-child(2) { padding-left: 12px; }\n",
       ".datatable .hellipsis {  color: var(--jp-cell-editor-border-color);}\n",
       ".datatable .vellipsis {  background: var(--jp-layout-color0);  color: var(--jp-cell-editor-border-color);}\n",
       ".datatable .na {  color: var(--jp-cell-editor-border-color);  font-size: 80%;}\n",
       ".datatable .footer { font-size: 9px; }\n",
       ".datatable .frame_dimensions {  background: var(--jp-border-color3);  border-top: 1px solid var(--jp-border-color0);  color: var(--jp-ui-font-color3);  display: inline-block;  opacity: 0.6;  padding: 1px 10px 1px 5px;}\n",
       "</style>\n"
      ],
      "text/plain": [
       "<IPython.core.display.HTML object>"
      ]
     },
     "metadata": {},
     "output_type": "display_data"
    },
    {
     "name": "stderr",
     "output_type": "stream",
     "text": [
      "/home/wmbio/anaconda3/envs/deepdep_paper/lib/python3.5/site-packages/tensorflow/python/framework/dtypes.py:469: FutureWarning: Passing (type, 1) or '1type' as a synonym of type is deprecated; in a future version of numpy, it will be understood as (type, (1,)) / '(1,)type'.\n",
      "  _np_qint8 = np.dtype([(\"qint8\", np.int8, 1)])\n",
      "/home/wmbio/anaconda3/envs/deepdep_paper/lib/python3.5/site-packages/tensorflow/python/framework/dtypes.py:470: FutureWarning: Passing (type, 1) or '1type' as a synonym of type is deprecated; in a future version of numpy, it will be understood as (type, (1,)) / '(1,)type'.\n",
      "  _np_quint8 = np.dtype([(\"quint8\", np.uint8, 1)])\n",
      "/home/wmbio/anaconda3/envs/deepdep_paper/lib/python3.5/site-packages/tensorflow/python/framework/dtypes.py:471: FutureWarning: Passing (type, 1) or '1type' as a synonym of type is deprecated; in a future version of numpy, it will be understood as (type, (1,)) / '(1,)type'.\n",
      "  _np_qint16 = np.dtype([(\"qint16\", np.int16, 1)])\n",
      "/home/wmbio/anaconda3/envs/deepdep_paper/lib/python3.5/site-packages/tensorflow/python/framework/dtypes.py:472: FutureWarning: Passing (type, 1) or '1type' as a synonym of type is deprecated; in a future version of numpy, it will be understood as (type, (1,)) / '(1,)type'.\n",
      "  _np_quint16 = np.dtype([(\"quint16\", np.uint16, 1)])\n",
      "/home/wmbio/anaconda3/envs/deepdep_paper/lib/python3.5/site-packages/tensorflow/python/framework/dtypes.py:473: FutureWarning: Passing (type, 1) or '1type' as a synonym of type is deprecated; in a future version of numpy, it will be understood as (type, (1,)) / '(1,)type'.\n",
      "  _np_qint32 = np.dtype([(\"qint32\", np.int32, 1)])\n",
      "/home/wmbio/anaconda3/envs/deepdep_paper/lib/python3.5/site-packages/tensorflow/python/framework/dtypes.py:476: FutureWarning: Passing (type, 1) or '1type' as a synonym of type is deprecated; in a future version of numpy, it will be understood as (type, (1,)) / '(1,)type'.\n",
      "  np_resource = np.dtype([(\"resource\", np.ubyte, 1)])\n",
      "/home/wmbio/anaconda3/envs/deepdep_paper/lib/python3.5/site-packages/h5py/__init__.py:36: FutureWarning: Conversion of the second argument of issubdtype from `float` to `np.floating` is deprecated. In future, it will be treated as `np.float64 == np.dtype(float).type`.\n",
      "  from ._conv import register_converters as _register_converters\n",
      "Using TensorFlow backend.\n"
     ]
    }
   ],
   "source": [
    "from function import *"
   ]
  },
  {
   "cell_type": "code",
   "execution_count": 2,
   "id": "fc3892fc",
   "metadata": {},
   "outputs": [
    {
     "name": "stdout",
     "output_type": "stream",
     "text": [
      "/home/wmbio/WORK/gitworking/Dependency_prediction/prediction/src\n",
      "/home/wmbio/WORK/gitworking/Dependency_prediction\n"
     ]
    }
   ],
   "source": [
    "print(os.getcwd())\n",
    "os.chdir(\"/home/wmbio/WORK/gitworking/Dependency_prediction/\")\n",
    "print(os.getcwd())"
   ]
  },
  {
   "cell_type": "markdown",
   "id": "ce458094",
   "metadata": {},
   "source": [
    "## **Data Load & Path**"
   ]
  },
  {
   "cell_type": "code",
   "execution_count": 3,
   "id": "97ab4bc3",
   "metadata": {},
   "outputs": [],
   "source": [
    "TRAIN_PATH = \"/home/wmbio/WORK/gitworking/Dependency_prediction/preprocessing/DATA/2022-07-28/\"\n",
    "TEMP_PATH = \"prediction/train_preprocessing/\"\n",
    "SAVE_PATH = \"prediction/custom_model/\"\n",
    "PREMODEL_PATH = \"prediction/data/premodel_tcga/\""
   ]
  },
  {
   "cell_type": "markdown",
   "id": "d608dd8d-2409-48d1-b58b-79b1f1bb362c",
   "metadata": {},
   "source": [
    "* **All Omics**"
   ]
  },
  {
   "cell_type": "code",
   "execution_count": 4,
   "id": "f5ea4ce1-9e3a-407f-b859-d3eaa6bb1601",
   "metadata": {},
   "outputs": [],
   "source": [
    "data_exp, data_mut, data_cna, data_meth, data_fprint, data_dep = trainset_load()\n",
    "\n",
    "# paper\n",
    "# with open('prediction/data/paper/ccl_complete_data_278CCL_1298DepOI_360844samples.pickle', 'rb') as f:\n",
    "#     data_mut, data_exp, data_cna, data_meth, data_dep, data_fprint = pickle.load(f)"
   ]
  },
  {
   "cell_type": "code",
   "execution_count": 5,
   "id": "76dd8cc7-e489-4695-8d41-cca23b9a3991",
   "metadata": {},
   "outputs": [
    {
     "data": {
      "text/plain": [
       "0"
      ]
     },
     "execution_count": 5,
     "metadata": {},
     "output_type": "execute_result"
    }
   ],
   "source": [
    "gc.collect()"
   ]
  },
  {
   "cell_type": "markdown",
   "id": "34489202-bb95-436d-8985-e9efaa5ac714",
   "metadata": {},
   "source": [
    "* **Expression**"
   ]
  },
  {
   "cell_type": "code",
   "execution_count": null,
   "id": "b7b268fa-c669-4008-a473-d111423334ee",
   "metadata": {},
   "outputs": [],
   "source": [
    "data_dep = np.load(TEMP_PATH + \"training_custom\" + \"_DepScore_training.npy\")\n",
    "data_exp = np.load(TEMP_PATH + \"training_custom\" + \"_exp_training.npy\")\n",
    "data_fprint = np.load(TEMP_PATH + \"training_custom\" + \"_fingerprint_training.npy\")"
   ]
  },
  {
   "cell_type": "markdown",
   "id": "e40cd71b",
   "metadata": {
    "tags": []
   },
   "source": [
    "## **Build Model**"
   ]
  },
  {
   "cell_type": "markdown",
   "id": "dd18fa6f",
   "metadata": {},
   "source": [
    "* **Pretrained Model load - TCGA**"
   ]
  },
  {
   "cell_type": "code",
   "execution_count": 6,
   "id": "971409bf",
   "metadata": {},
   "outputs": [
    {
     "name": "stdout",
     "output_type": "stream",
     "text": [
      "\n",
      "\n",
      "Datasets successfully loaded.\n"
     ]
    }
   ],
   "source": [
    "premodel_mut = pickle.load(open(PREMODEL_PATH + 'premodel_tcga_mut_1000_100_50.pickle', 'rb'))\n",
    "premodel_exp = pickle.load(open(PREMODEL_PATH + 'premodel_tcga_exp_500_200_50.pickle', 'rb'))\n",
    "premodel_cna = pickle.load(open(PREMODEL_PATH + 'premodel_tcga_cna_500_200_50.pickle', 'rb'))\n",
    "premodel_meth = pickle.load(open(PREMODEL_PATH + 'premodel_tcga_meth_500_200_50.pickle', 'rb'))\n",
    "print(\"\\n\\nDatasets successfully loaded.\")"
   ]
  },
  {
   "cell_type": "markdown",
   "id": "c29d8c63-cc70-4071-ae62-ac1b734e31e8",
   "metadata": {},
   "source": [
    "* **Golbal variable**"
   ]
  },
  {
   "cell_type": "code",
   "execution_count": 7,
   "id": "a2250bcc",
   "metadata": {},
   "outputs": [],
   "source": [
    "batch_size = 500\n",
    "num_epoch = 100\n",
    "num_DepOI = 1298 # 1298 DepOIs as defined in our paper, custom 1227\n",
    "num_ccl = int(data_exp.shape[0]/num_DepOI)\n",
    "split_ratio = 0.7"
   ]
  },
  {
   "cell_type": "markdown",
   "id": "3d1bb047-516e-4350-b923-5d0dcac08d7c",
   "metadata": {},
   "source": [
    "* **Train / Test split**"
   ]
  },
  {
   "cell_type": "code",
   "execution_count": 8,
   "id": "31ea880a",
   "metadata": {},
   "outputs": [
    {
     "name": "stdout",
     "output_type": "stream",
     "text": [
      "\n",
      "\n",
      "Training/validation on 429638 samples (331 CCLs x 1298 DepOIs) and testing on 184316 samples (142 CCLs x 1298 DepOIs).\n",
      "\n",
      "\n"
     ]
    }
   ],
   "source": [
    "# 80% CCLs for training/validation, and 20% for testing\n",
    "id_rand = np.random.permutation(num_ccl)\n",
    "id_cell_train = id_rand[np.arange(0, round(num_ccl * split_ratio))]\n",
    "id_cell_test = id_rand[np.arange(round(num_ccl * split_ratio), num_ccl)]\n",
    "id_train = np.arange(0, num_DepOI) + id_cell_train[0]*num_DepOI\n",
    "for y in id_cell_train:\n",
    "    id_train = np.union1d(id_train, np.arange(0, num_DepOI) + y*num_DepOI)\n",
    "id_test = np.arange(0, num_DepOI) + id_cell_test[0] * num_DepOI\n",
    "for y in id_cell_test:\n",
    "    id_test = np.union1d(id_test, np.arange(0, num_DepOI) + y*num_DepOI)\n",
    "print(\"\\n\\nTraining/validation on %d samples (%d CCLs x %d DepOIs) and testing on %d samples (%d CCLs x %d DepOIs).\\n\\n\" % (\n",
    "    len(id_train), len(id_cell_train), num_DepOI, len(id_test), len(id_cell_test), num_DepOI))"
   ]
  },
  {
   "cell_type": "markdown",
   "id": "d3accc4e",
   "metadata": {},
   "source": [
    "## **Fit & Evaluation Model**"
   ]
  },
  {
   "cell_type": "markdown",
   "id": "a27cb8bb",
   "metadata": {
    "tags": []
   },
   "source": [
    "### **(1) Full Model 4-Omics**"
   ]
  },
  {
   "cell_type": "code",
   "execution_count": null,
   "id": "7666bebc-59a2-4080-addb-0adc636bf20c",
   "metadata": {},
   "outputs": [
    {
     "name": "stdout",
     "output_type": "stream",
     "text": [
      "Train on 334162 samples, validate on 95476 samples\n",
      "Epoch 1/30\n",
      "334162/334162 [==============================] - 257s - loss: 0.7763 - val_loss: 0.1875\n",
      "Epoch 2/30\n",
      "   500/334162 [..............................] - ETA: 120s - loss: 0.0614"
     ]
    },
    {
     "name": "stderr",
     "output_type": "stream",
     "text": [
      "/home/wmbio/anaconda3/envs/deepdep_paper/lib/python3.5/site-packages/keras/callbacks.py:361: RuntimeWarning: Can save best model only with val_los available, skipping.\n",
      "  'skipping.' % (self.monitor), RuntimeWarning)\n"
     ]
    },
    {
     "name": "stdout",
     "output_type": "stream",
     "text": [
      "334162/334162 [==============================] - 128s - loss: 0.0595 - val_loss: 0.2041\n",
      "Epoch 3/30\n",
      "334162/334162 [==============================] - 127s - loss: 0.0571 - val_loss: 0.1879\n",
      "Epoch 4/30\n",
      "285500/334162 [========================>.....] - ETA: 16s - loss: 0.0549"
     ]
    }
   ],
   "source": [
    "with tf.device('/cpu:0'):\n",
    "    K.clear_session()\n",
    "    model = full_model(data_mut=data_mut, data_exp=data_exp, data_cna=data_cna,data_meth=data_meth,\n",
    "                      data_fprint=data_fprint, data_dep=data_dep, id_train=id_train, id_test=id_test,\n",
    "                      premodel_mut=premodel_mut, premodel_exp=premodel_exp, premodel_cna=premodel_cna,\n",
    "                      premodel_meth=premodel_meth, save_path = SAVE_PATH)"
   ]
  },
  {
   "cell_type": "code",
   "execution_count": null,
   "id": "10132f3d",
   "metadata": {},
   "outputs": [],
   "source": [
    "model_train_vis(history=history)"
   ]
  },
  {
   "cell_type": "markdown",
   "id": "e0ca3d06",
   "metadata": {
    "jp-MarkdownHeadingCollapsed": true,
    "tags": []
   },
   "source": [
    "### **(2) Expression-Mutation-CNA Model**"
   ]
  },
  {
   "cell_type": "code",
   "execution_count": null,
   "id": "8d7aeff7",
   "metadata": {},
   "outputs": [],
   "source": [
    "train_generator = generator3(data_mut[id_train], data_exp[id_train], data_cna[id_train], \n",
    "                                    data_fprint[id_train], data_dep[id_train], batch_size = batch_size)"
   ]
  },
  {
   "cell_type": "code",
   "execution_count": null,
   "id": "ebfd38ad",
   "metadata": {},
   "outputs": [],
   "source": [
    "test_generator = generator3(data_mut[id_test], data_exp[id_test], data_cna[id_test],\n",
    "                                    data_fprint[id_test], data_dep[id_test], batch_size = batch_size)"
   ]
  },
  {
   "cell_type": "code",
   "execution_count": null,
   "id": "8846c8ee-ff9c-4fc6-a774-15f620042247",
   "metadata": {},
   "outputs": [],
   "source": [
    "model = exp_mut_cna_model()\n",
    "tf.keras.utils.plot_model(model, show_shapes=True,  show_dtype=True, to_file='model_custom.png')"
   ]
  },
  {
   "cell_type": "code",
   "execution_count": null,
   "id": "aa030efb-c90d-4526-9e11-089ff6fb271d",
   "metadata": {},
   "outputs": [],
   "source": [
    "es = EarlyStopping(monitor='val_loss', min_delta=0, patience=5, verbose=1, mode='min')\n",
    "model.compile(loss='mse', optimizer='adam', metrics=[coeff_determination])\n",
    "history = model.fit(train_generator, \n",
    "                    validation_data=test_generator, \n",
    "                    epochs=num_epoch, verbose=1,         \n",
    "                    callbacks = [es])"
   ]
  },
  {
   "cell_type": "code",
   "execution_count": null,
   "id": "f8bd54b7",
   "metadata": {},
   "outputs": [],
   "source": [
    "SAVE_NAME = \"model_custom_mut_exp_cna_0725\"\n",
    "model.save(SAVE_PATH + SAVE_NAME + \".h5\")\n",
    "print(\"\\n\\nFull DeepDEP model saved in %s\\n\\n\" % (SAVE_PATH + SAVE_NAME + \".h5\"))"
   ]
  },
  {
   "cell_type": "code",
   "execution_count": null,
   "id": "d32a3fcc",
   "metadata": {},
   "outputs": [],
   "source": [
    "model_train_vis(history=history)"
   ]
  },
  {
   "cell_type": "code",
   "execution_count": null,
   "id": "696f52da-6b48-4b4b-a823-9e1261d6f617",
   "metadata": {},
   "outputs": [],
   "source": []
  },
  {
   "cell_type": "markdown",
   "id": "046378bc",
   "metadata": {
    "jp-MarkdownHeadingCollapsed": true,
    "tags": []
   },
   "source": [
    "### **(3) Expression-Mutation Model**"
   ]
  },
  {
   "cell_type": "code",
   "execution_count": null,
   "id": "f69827f5",
   "metadata": {},
   "outputs": [],
   "source": [
    "train_generator = generator2(data_mut[id_train], data_exp[id_train], data_fprint[id_train],\n",
    "                            data_dep[id_train], batch_size = batch_size)"
   ]
  },
  {
   "cell_type": "code",
   "execution_count": null,
   "id": "496568f7",
   "metadata": {},
   "outputs": [],
   "source": [
    "test_generator = generator2(data_mut[id_test], data_exp[id_test], data_fprint[id_test],\n",
    "                           data_dep[id_test], batch_size = batch_size)"
   ]
  },
  {
   "cell_type": "code",
   "execution_count": null,
   "id": "4964f119",
   "metadata": {},
   "outputs": [],
   "source": [
    "model = exp_mut_model()\n",
    "es = EarlyStopping(monitor='val_loss', min_delta=0, patience=5, verbose=1, mode='min')\n",
    "model.compile(loss='mse', optimizer='adam', metrics=[coeff_determination])\n",
    "history = model.fit(train_generator, \n",
    "                    validation_data=test_generator, \n",
    "                    epochs=num_epoch, verbose=1,         \n",
    "                    callbacks = [es])"
   ]
  },
  {
   "cell_type": "code",
   "execution_count": null,
   "id": "da35ff3a",
   "metadata": {},
   "outputs": [],
   "source": [
    "model_train_vis(history=history)"
   ]
  },
  {
   "cell_type": "code",
   "execution_count": null,
   "id": "67109c85",
   "metadata": {},
   "outputs": [],
   "source": [
    "SAVE_NAME = \"model_custom_mut_exp_0720\"\n",
    "model.save(SAVE_PATH + SAVE_NAME + \".h5\")\n",
    "print(\"\\n\\nFull DeepDEP model saved in %s\\n\\n\" % (SAVE_PATH + SAVE_NAME + \".h5\"))"
   ]
  },
  {
   "cell_type": "markdown",
   "id": "bce33018",
   "metadata": {
    "tags": []
   },
   "source": [
    "### **(4) Expression Model**"
   ]
  },
  {
   "cell_type": "code",
   "execution_count": null,
   "id": "c7fe7c2e-609a-40a6-882e-4515050f1022",
   "metadata": {},
   "outputs": [],
   "source": [
    "with tf.device('/cpu:0'):\n",
    "    K.clear_session()\n",
    "    model = exp_model(data_exp=data_exp, data_fprint=data_fprint, data_dep=data_dep, \n",
    "                      id_train=id_train, id_test=id_test, premodel_exp=premodel_exp)"
   ]
  },
  {
   "cell_type": "code",
   "execution_count": null,
   "id": "4924a0b4",
   "metadata": {},
   "outputs": [],
   "source": [
    "model_train_vis(history=history)"
   ]
  },
  {
   "cell_type": "code",
   "execution_count": null,
   "id": "1e680d84",
   "metadata": {},
   "outputs": [],
   "source": [
    "SAVE_NAME = \"model_ccl501_exp_0801\"\n",
    "model.save(SAVE_PATH + SAVE_NAME + \".h5\")\n",
    "print(\"\\n\\nFull DeepDEP model saved in %s\\n\\n\" % (SAVE_PATH + SAVE_NAME + \".h5\"))"
   ]
  },
  {
   "cell_type": "markdown",
   "id": "3bfebb8d",
   "metadata": {
    "jp-MarkdownHeadingCollapsed": true,
    "tags": []
   },
   "source": [
    "### **(5) Mutation Model**"
   ]
  },
  {
   "cell_type": "code",
   "execution_count": null,
   "id": "f5e76e8a",
   "metadata": {},
   "outputs": [],
   "source": [
    "train_generator = generator1(data_mut[id_train], data_fprint[id_train],\n",
    "                            data_dep[id_train], batch_size = batch_size)"
   ]
  },
  {
   "cell_type": "code",
   "execution_count": null,
   "id": "86ae7ce2",
   "metadata": {},
   "outputs": [],
   "source": [
    "test_generator = generator1(data_mut[id_test], data_fprint[id_test],\n",
    "                           data_dep[id_test], batch_size = batch_size)"
   ]
  },
  {
   "cell_type": "code",
   "execution_count": null,
   "id": "74168a0e",
   "metadata": {},
   "outputs": [],
   "source": [
    "model = mut_model()\n",
    "es = EarlyStopping(monitor='val_loss', min_delta=0, patience=5, verbose=1, mode='min')\n",
    "model.compile(loss='mse', optimizer='adam', metrics=[coeff_determination])\n",
    "history = model.fit(train_generator, \n",
    "                    validation_data=test_generator, \n",
    "                    epochs=num_epoch, verbose=1,         \n",
    "                    callbacks = [es])"
   ]
  },
  {
   "cell_type": "code",
   "execution_count": null,
   "id": "0017f130",
   "metadata": {},
   "outputs": [],
   "source": [
    "model_train_vis(history=history)"
   ]
  },
  {
   "cell_type": "code",
   "execution_count": null,
   "id": "729abb73",
   "metadata": {},
   "outputs": [],
   "source": [
    "SAVE_NAME = \"model_custom_mut_0720\"\n",
    "model.save(SAVE_PATH + SAVE_NAME + \".h5\")\n",
    "print(\"\\n\\nFull DeepDEP model saved in %s\\n\\n\" % (SAVE_PATH + SAVE_NAME + \".h5\"))"
   ]
  },
  {
   "cell_type": "markdown",
   "id": "c9ae7d88",
   "metadata": {
    "jp-MarkdownHeadingCollapsed": true,
    "tags": []
   },
   "source": [
    "### **(6) CNA Model**"
   ]
  },
  {
   "cell_type": "code",
   "execution_count": null,
   "id": "7b1dca2f",
   "metadata": {},
   "outputs": [],
   "source": [
    "train_generator = generator1(data_cna[id_train], data_fprint[id_train],\n",
    "                            data_dep[id_train], batch_size = batch_size)"
   ]
  },
  {
   "cell_type": "code",
   "execution_count": null,
   "id": "7bb67039",
   "metadata": {},
   "outputs": [],
   "source": [
    "test_generator = generator1(data_cna[id_test], data_fprint[id_test],\n",
    "                           data_dep[id_test], batch_size = batch_size)"
   ]
  },
  {
   "cell_type": "code",
   "execution_count": null,
   "id": "b3024140",
   "metadata": {},
   "outputs": [],
   "source": [
    "model = mut_model()\n",
    "es = EarlyStopping(monitor='val_loss', min_delta=0, patience=5, verbose=1, mode='min')\n",
    "model.compile(loss='mse', optimizer='adam', metrics=[coeff_determination])\n",
    "history = model.fit(train_generator, \n",
    "                    validation_data=test_generator, \n",
    "                    epochs=num_epoch, verbose=1,         \n",
    "                    callbacks = [es])"
   ]
  },
  {
   "cell_type": "code",
   "execution_count": null,
   "id": "4732afb9",
   "metadata": {},
   "outputs": [],
   "source": [
    "model_train_vis(history=history)"
   ]
  },
  {
   "cell_type": "code",
   "execution_count": null,
   "id": "5f5298da",
   "metadata": {},
   "outputs": [],
   "source": [
    "SAVE_NAME = \"model_custom_cna_0726\"\n",
    "model.save(SAVE_PATH + SAVE_NAME + \".h5\")\n",
    "print(\"\\n\\nFull DeepDEP model saved in %s\\n\\n\" % (SAVE_PATH + SAVE_NAME + \".h5\"))"
   ]
  },
  {
   "cell_type": "code",
   "execution_count": null,
   "id": "1deacbd1-4ce3-4d99-b9e8-19759a612dd7",
   "metadata": {},
   "outputs": [],
   "source": []
  },
  {
   "cell_type": "markdown",
   "id": "ad5cafdf-d873-435a-8724-a31908951cf7",
   "metadata": {},
   "source": [
    "### (7) **Paper - exp**"
   ]
  },
  {
   "cell_type": "code",
   "execution_count": null,
   "id": "6ff60fd6-949b-4dac-93d9-be2ff4fe6777",
   "metadata": {},
   "outputs": [],
   "source": [
    "activation_func = 'relu' # for all middle layers\n",
    "activation_func2 = 'linear' # for output layer to output unbounded gene-effect scores\n",
    "init = 'he_uniform'\n",
    "dense_layer_dim = 250\n",
    "model_exp = models.Sequential()\n",
    "model_exp.add(Dense(output_dim=500, input_dim=premodel_exp[0][0].shape[0], activation=activation_func,\n",
    "                    weights=premodel_exp[0], trainable=True))\n",
    "model_exp.add(Dense(output_dim=200, input_dim=500, activation=activation_func, weights=premodel_exp[1],\n",
    "                    trainable=True))\n",
    "model_exp.add(Dense(output_dim=50, input_dim=200, activation=activation_func, weights=premodel_exp[2],\n",
    "                    trainable=True))\n",
    "\n",
    "model_gene = models.Sequential()\n",
    "model_gene.add(Dense(output_dim=1000, input_dim=data_fprint.shape[1], activation=activation_func, init=init,\n",
    "                     trainable=True))\n",
    "model_gene.add(Dense(output_dim=100, input_dim=1000, activation=activation_func, init=init, trainable=True))\n",
    "model_gene.add(Dense(output_dim=50, input_dim=100, activation=activation_func, init=init, trainable=True))\n",
    "\n",
    "model_final = models.Sequential()\n",
    "model_final.add(Merge([model_exp, model_gene], mode='concat'))\n",
    "model_final.add(Dense(output_dim=dense_layer_dim, input_dim=100, activation=activation_func, init=init))\n",
    "model_final.add(Dense(output_dim=dense_layer_dim, input_dim=dense_layer_dim, activation=activation_func, init=init))\n",
    "model_final.add(Dense(output_dim=1, input_dim=dense_layer_dim, activation=activation_func2, init=init))"
   ]
  },
  {
   "cell_type": "code",
   "execution_count": null,
   "id": "3d2188ff-941c-4002-b6bb-8f6a80829329",
   "metadata": {},
   "outputs": [],
   "source": [
    "history = EarlyStopping(monitor='val_loss', min_delta=0, patience=3, verbose=0, mode='min')\n",
    "model_final.compile(loss='mse', optimizer='adam')\n",
    "model_final.fit([data_exp[id_train], data_fprint[id_train]], data_dep[id_train], nb_epoch=10,\n",
    "                validation_split=1/9, batch_size=batch_size, shuffle=True, callbacks=[history])\n",
    "cost_testing = model_final.evaluate(\n",
    "    [data_exp[id_test], data_fprint[id_test]], data_dep[id_test], verbose=0, batch_size=batch_size)"
   ]
  },
  {
   "cell_type": "code",
   "execution_count": null,
   "id": "902715c0-731b-4eae-9066-20f083c01137",
   "metadata": {},
   "outputs": [],
   "source": [
    "SAVE_NAME = \"model_ccl501_exp_0801-2\"\n",
    "model_final.save(SAVE_PATH + SAVE_NAME + \".h5\")\n",
    "print(\"\\n\\nFull DeepDEP model saved in %s\\n\\n\" % (SAVE_PATH + SAVE_NAME + \".h5\"))"
   ]
  },
  {
   "cell_type": "code",
   "execution_count": null,
   "id": "a5c9cc31-9421-4423-8a52-fed4b298ad69",
   "metadata": {},
   "outputs": [],
   "source": []
  }
 ],
 "metadata": {
  "kernelspec": {
   "display_name": "DeepDEP_paper",
   "language": "python",
   "name": "deepdep_paper"
  },
  "language_info": {
   "codemirror_mode": {
    "name": "ipython",
    "version": 3
   },
   "file_extension": ".py",
   "mimetype": "text/x-python",
   "name": "python",
   "nbconvert_exporter": "python",
   "pygments_lexer": "ipython3",
   "version": "3.5.6"
  }
 },
 "nbformat": 4,
 "nbformat_minor": 5
}
