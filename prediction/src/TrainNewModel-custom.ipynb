{
 "cells": [
  {
   "cell_type": "code",
   "execution_count": 2,
   "id": "54a40671-6819-40e7-9010-9b2473ce7c35",
   "metadata": {},
   "outputs": [
    {
     "name": "stderr",
     "output_type": "stream",
     "text": [
      "2022-07-29 10:34:10.288405: I tensorflow/stream_executor/platform/default/dso_loader.cc:49] Successfully opened dynamic library libcudart.so.10.1\n"
     ]
    },
    {
     "data": {
      "text/html": [
       "<style type='text/css'>\n",
       ".datatable table.frame { margin-bottom: 0; }\n",
       ".datatable table.frame thead { border-bottom: none; }\n",
       ".datatable table.frame tr.coltypes td {  color: #FFFFFF;  line-height: 6px;  padding: 0 0.5em;}\n",
       ".datatable .bool    { background: #DDDD99; }\n",
       ".datatable .object  { background: #565656; }\n",
       ".datatable .int     { background: #5D9E5D; }\n",
       ".datatable .float   { background: #4040CC; }\n",
       ".datatable .str     { background: #CC4040; }\n",
       ".datatable .time    { background: #40CC40; }\n",
       ".datatable .row_index {  background: var(--jp-border-color3);  border-right: 1px solid var(--jp-border-color0);  color: var(--jp-ui-font-color3);  font-size: 9px;}\n",
       ".datatable .frame tbody td { text-align: left; }\n",
       ".datatable .frame tr.coltypes .row_index {  background: var(--jp-border-color0);}\n",
       ".datatable th:nth-child(2) { padding-left: 12px; }\n",
       ".datatable .hellipsis {  color: var(--jp-cell-editor-border-color);}\n",
       ".datatable .vellipsis {  background: var(--jp-layout-color0);  color: var(--jp-cell-editor-border-color);}\n",
       ".datatable .na {  color: var(--jp-cell-editor-border-color);  font-size: 80%;}\n",
       ".datatable .sp {  opacity: 0.25;}\n",
       ".datatable .footer { font-size: 9px; }\n",
       ".datatable .frame_dimensions {  background: var(--jp-border-color3);  border-top: 1px solid var(--jp-border-color0);  color: var(--jp-ui-font-color3);  display: inline-block;  opacity: 0.6;  padding: 1px 10px 1px 5px;}\n",
       "</style>\n"
      ],
      "text/plain": [
       "<IPython.core.display.HTML object>"
      ]
     },
     "metadata": {},
     "output_type": "display_data"
    }
   ],
   "source": [
    "from function import *"
   ]
  },
  {
   "cell_type": "code",
   "execution_count": 3,
   "id": "fc3892fc",
   "metadata": {},
   "outputs": [
    {
     "name": "stdout",
     "output_type": "stream",
     "text": [
      "/home/wmbio/WORK/gitworking/Dependency_prediction/prediction/src\n",
      "/home/wmbio/WORK/gitworking/Dependency_prediction\n"
     ]
    }
   ],
   "source": [
    "print(os.getcwd())\n",
    "os.chdir(\"/home/wmbio/WORK/gitworking/Dependency_prediction/\")\n",
    "print(os.getcwd())"
   ]
  },
  {
   "cell_type": "markdown",
   "id": "ce458094",
   "metadata": {},
   "source": [
    "## **Data Load & Path**"
   ]
  },
  {
   "cell_type": "code",
   "execution_count": 4,
   "id": "97ab4bc3",
   "metadata": {},
   "outputs": [],
   "source": [
    "TRAIN_PATH = \"/home/wmbio/WORK/gitworking/Dependency_prediction/preprocessing/DATA/2022-07-28/\"\n",
    "TEMP_PATH = \"prediction/train_preprocessing/\"\n",
    "SAVE_PATH = \"prediction/custom_model/\""
   ]
  },
  {
   "cell_type": "code",
   "execution_count": null,
   "id": "0beca5ec-dba7-4355-a45b-f9b67a740947",
   "metadata": {},
   "outputs": [],
   "source": []
  },
  {
   "cell_type": "code",
   "execution_count": null,
   "id": "82e1b4a7-c41d-4ed3-a15c-a90412763da6",
   "metadata": {},
   "outputs": [],
   "source": [
    "def trainset_load(npz_path=\"prediction/data/ccl_complete_data_501CCL_1298DepOI_614727samples.npz\", \n",
    "                  filename=\"training_custom\"):\n",
    "    \n",
    "    if exists(npz_path) is False:\n",
    "        # expression\n",
    "        if exists(TEMP_PATH + filename + \"_exp_training.npy\") is False:\n",
    "            data_exp, sample_names_exp, property_names_exp = load_data(TRAIN_PATH + filename + \"_exp_training.txt\")\n",
    "            np.save(TEMP_PATH + filename + \"_exp_training.npy\", data_exp)\n",
    "        else:\n",
    "            data_exp = np.load(TEMP_PATH + filename + \"_exp_training.npy\")\n",
    "        print(\"exp load.. completed\")    \n",
    "\n",
    "        # mutation\n",
    "        if exists(TEMP_PATH + filename + \"_mut_training.npy\") is False:\n",
    "            data_mut, sample_names_mut, property_names_mut = load_data(TRAIN_PATH + filename + \"_mut_training.txt\")\n",
    "            np.save(TEMP_PATH + filename + \"_mut_training.npy\", data_mut)\n",
    "        else:\n",
    "            data_mut = np.load(TEMP_PATH + filename + \"_mut_training.npy\")\n",
    "        print(\"mut load.. completed\")\n",
    "\n",
    "        # copy number alteration\n",
    "        if exists(TEMP_PATH + filename + \"_cna_training.npy\") is False:\n",
    "            data_cna, sample_names_cna, property_names_cna = load_data(TRAIN_PATH + filename + \"_cna_training.txt\")\n",
    "            np.save(TEMP_PATH + filename + \"_cna_training.npy\", data_cna)\n",
    "        else:\n",
    "            data_cna = np.load(TEMP_PATH + filename + \"_cna_training.npy\")\n",
    "        print(\"cna load.. completed\")\n",
    "\n",
    "        # methylation\n",
    "        if exists(TEMP_PATH + filename + \"_meth_training.npy\") is False:\n",
    "            data_meth, sample_names_meth, property_names_meth = load_data(TRAIN_PATH + filename + \"_meth_training.txt\")\n",
    "            np.save(TEMP_PATH + filename + \"_meth_training.npy\", data_meth)\n",
    "        else:\n",
    "            data_meth = np.load(TEMP_PATH + filename + \"_meth_training.npy\")\n",
    "        print(\"meth load.. completed\")\n",
    "\n",
    "        # dependency score\n",
    "        if exists(TEMP_PATH + filename + \"_DepScore_training.npy\") is False:\n",
    "            data_dep, sample_names_dep, property_names_dep = load_data(TRAIN_PATH + filename + \"_DepScore_training.txt\")\n",
    "            np.save(TEMP_PATH + filename + \"_DepScore_training.npy\", data_dep)\n",
    "        else:\n",
    "            data_dep = np.load(TEMP_PATH + filename + \"_DepScore_training.npy\")\n",
    "        print(\"dep load.. completed\")\n",
    "\n",
    "        # fingerprint\n",
    "        if exists(TEMP_PATH + filename + \"_fingerprint_training.npy\") is False:\n",
    "            data_fprint, sample_names_fprint, property_names_fprint = load_data(TRAIN_PATH + filename + \"_fingerprint_training.txt\")\n",
    "            np.save(TEMP_PATH + filename + \"_fingerprint_training.npy\", data_fprint)\n",
    "        else:\n",
    "            data_fprint = np.load(TEMP_PATH + filename + \"_fingerprint_training.npy\")\n",
    "        print(\"fingerprint load.. completed\")\n",
    "\n",
    "        np.savez_compressed(npz_path, \n",
    "                            data_exp=data_exp, data_mut=data_mut, data_cna=data_cna, data_meth=data_meth,\n",
    "                            data_dep=data_dep, data_fprint=data_fprint)\n",
    "    else :\n",
    "        data = np.load(npz_path)\n",
    "        data_exp = data['data_exp']\n",
    "        data_mut = data['data_mut']\n",
    "        data_cna = data['data_cna']\n",
    "        data_meth = data['data_meth']\n",
    "        data_fprint = data['data_fprint']\n",
    "        data_dep = data['data_dep']\n",
    "        \n",
    "    return data_exp, data_mut, data_cna, data_meth, data_fprint, data_dep"
   ]
  },
  {
   "cell_type": "code",
   "execution_count": null,
   "id": "8489dda5-a12d-402e-a3fd-16ca559551a5",
   "metadata": {},
   "outputs": [],
   "source": []
  },
  {
   "cell_type": "code",
   "execution_count": 6,
   "id": "f5ea4ce1-9e3a-407f-b859-d3eaa6bb1601",
   "metadata": {},
   "outputs": [
    {
     "ename": "NameError",
     "evalue": "name 'filename' is not defined",
     "output_type": "error",
     "traceback": [
      "\u001b[0;31m---------------------------------------------------------------------------\u001b[0m",
      "\u001b[0;31mNameError\u001b[0m                                 Traceback (most recent call last)",
      "\u001b[0;32m/tmp/ipykernel_3967204/785025979.py\u001b[0m in \u001b[0;36m<module>\u001b[0;34m\u001b[0m\n\u001b[0;32m----> 1\u001b[0;31m \u001b[0mdata_cna\u001b[0m\u001b[0;34m,\u001b[0m \u001b[0msample_names_cna\u001b[0m\u001b[0;34m,\u001b[0m \u001b[0mproperty_names_cna\u001b[0m \u001b[0;34m=\u001b[0m \u001b[0mload_data\u001b[0m\u001b[0;34m(\u001b[0m\u001b[0mTRAIN_PATH\u001b[0m \u001b[0;34m+\u001b[0m \u001b[0mfilename\u001b[0m \u001b[0;34m+\u001b[0m \u001b[0;34m\"_cna_training.txt\"\u001b[0m\u001b[0;34m)\u001b[0m\u001b[0;34m\u001b[0m\u001b[0;34m\u001b[0m\u001b[0m\n\u001b[0m",
      "\u001b[0;31mNameError\u001b[0m: name 'filename' is not defined"
     ]
    }
   ],
   "source": [
    "data_cna, sample_names_cna, property_names_cna = load_data(TRAIN_PATH + training_custom + \"_cna_training.txt\")"
   ]
  },
  {
   "cell_type": "code",
   "execution_count": null,
   "id": "008e0316-a825-4639-9c3f-5b2c1917278b",
   "metadata": {},
   "outputs": [],
   "source": []
  },
  {
   "cell_type": "code",
   "execution_count": null,
   "id": "d28ad468-fb51-438c-8794-0c5f31e05805",
   "metadata": {},
   "outputs": [],
   "source": []
  },
  {
   "cell_type": "code",
   "execution_count": 7,
   "id": "f9838875-a0d5-429e-834a-a82720486715",
   "metadata": {},
   "outputs": [],
   "source": [
    "df_dt = dt.fread(TRAIN_PATH + \"training_custom_cna_training.txt\", sep=\"\\t\")"
   ]
  },
  {
   "cell_type": "code",
   "execution_count": 8,
   "id": "88062bc8-b36f-4adf-93a3-15c72795c02c",
   "metadata": {},
   "outputs": [
    {
     "data": {
      "text/html": [
       "<div class='datatable'>\n",
       "  <table class='frame'>\n",
       "  <thead>\n",
       "    <tr class='colnames'><td class='row_index'></td><th>Bin</th><th>C1G1</th><th>C1G2</th><th>C1G3</th><th>C1G4</th><th>C1G5</th><th>C1G6</th><th>C1G7</th><th>C1G8</th><th>C1G9</th><th class='vellipsis'>&hellip;</th><th>C501G1223</th><th>C501G1224</th><th>C501G1225</th><th>C501G1226</th><th>C501G1227</th></tr>\n",
       "    <tr class='coltypes'><td class='row_index'></td><td class='str' title='str32'>&#x25AA;&#x25AA;&#x25AA;&#x25AA;</td><td class='void' title='void'></td><td class='void' title='void'></td><td class='void' title='void'></td><td class='void' title='void'></td><td class='void' title='void'></td><td class='void' title='void'></td><td class='void' title='void'></td><td class='void' title='void'></td><td class='void' title='void'></td><td></td><td class='void' title='void'></td><td class='void' title='void'></td><td class='void' title='void'></td><td class='void' title='void'></td><td class='void' title='void'></td></tr>\n",
       "  </thead>\n",
       "  <tbody>\n",
       "    <tr><td class='row_index'>0</td><td>chr7_5473to5474_10k</td><td><span class=na>(unknown)</span></td><td><span class=na>(unknown)</span></td><td><span class=na>(unknown)</span></td><td><span class=na>(unknown)</span></td><td><span class=na>(unknown)</span></td><td><span class=na>(unknown)</span></td><td><span class=na>(unknown)</span></td><td><span class=na>(unknown)</span></td><td><span class=na>(unknown)</span></td><td class=vellipsis>&hellip;</td><td><span class=na>(unknown)</span></td><td><span class=na>(unknown)</span></td><td><span class=na>(unknown)</span></td><td><span class=na>(unknown)</span></td><td><span class=na>(unknown)</span></td></tr>\n",
       "    <tr><td class='row_index'>1</td><td>chr7_5474to5475_10k</td><td><span class=na>(unknown)</span></td><td><span class=na>(unknown)</span></td><td><span class=na>(unknown)</span></td><td><span class=na>(unknown)</span></td><td><span class=na>(unknown)</span></td><td><span class=na>(unknown)</span></td><td><span class=na>(unknown)</span></td><td><span class=na>(unknown)</span></td><td><span class=na>(unknown)</span></td><td class=vellipsis>&hellip;</td><td><span class=na>(unknown)</span></td><td><span class=na>(unknown)</span></td><td><span class=na>(unknown)</span></td><td><span class=na>(unknown)</span></td><td><span class=na>(unknown)</span></td></tr>\n",
       "    <tr><td class='row_index'>2</td><td>chr7_5475to5476_10k</td><td><span class=na>(unknown)</span></td><td><span class=na>(unknown)</span></td><td><span class=na>(unknown)</span></td><td><span class=na>(unknown)</span></td><td><span class=na>(unknown)</span></td><td><span class=na>(unknown)</span></td><td><span class=na>(unknown)</span></td><td><span class=na>(unknown)</span></td><td><span class=na>(unknown)</span></td><td class=vellipsis>&hellip;</td><td><span class=na>(unknown)</span></td><td><span class=na>(unknown)</span></td><td><span class=na>(unknown)</span></td><td><span class=na>(unknown)</span></td><td><span class=na>(unknown)</span></td></tr>\n",
       "    <tr><td class='row_index'>3</td><td>chr7_5476to5477_10k</td><td><span class=na>(unknown)</span></td><td><span class=na>(unknown)</span></td><td><span class=na>(unknown)</span></td><td><span class=na>(unknown)</span></td><td><span class=na>(unknown)</span></td><td><span class=na>(unknown)</span></td><td><span class=na>(unknown)</span></td><td><span class=na>(unknown)</span></td><td><span class=na>(unknown)</span></td><td class=vellipsis>&hellip;</td><td><span class=na>(unknown)</span></td><td><span class=na>(unknown)</span></td><td><span class=na>(unknown)</span></td><td><span class=na>(unknown)</span></td><td><span class=na>(unknown)</span></td></tr>\n",
       "    <tr><td class='row_index'>4</td><td>chr7_5477to5478_10k</td><td><span class=na>(unknown)</span></td><td><span class=na>(unknown)</span></td><td><span class=na>(unknown)</span></td><td><span class=na>(unknown)</span></td><td><span class=na>(unknown)</span></td><td><span class=na>(unknown)</span></td><td><span class=na>(unknown)</span></td><td><span class=na>(unknown)</span></td><td><span class=na>(unknown)</span></td><td class=vellipsis>&hellip;</td><td><span class=na>(unknown)</span></td><td><span class=na>(unknown)</span></td><td><span class=na>(unknown)</span></td><td><span class=na>(unknown)</span></td><td><span class=na>(unknown)</span></td></tr>\n",
       "    <tr><td class='row_index'>5</td><td>chr7_5478to5479_10k</td><td><span class=na>(unknown)</span></td><td><span class=na>(unknown)</span></td><td><span class=na>(unknown)</span></td><td><span class=na>(unknown)</span></td><td><span class=na>(unknown)</span></td><td><span class=na>(unknown)</span></td><td><span class=na>(unknown)</span></td><td><span class=na>(unknown)</span></td><td><span class=na>(unknown)</span></td><td class=vellipsis>&hellip;</td><td><span class=na>(unknown)</span></td><td><span class=na>(unknown)</span></td><td><span class=na>(unknown)</span></td><td><span class=na>(unknown)</span></td><td><span class=na>(unknown)</span></td></tr>\n",
       "    <tr><td class='row_index'>6</td><td>chr7_5479to5480_10k</td><td><span class=na>(unknown)</span></td><td><span class=na>(unknown)</span></td><td><span class=na>(unknown)</span></td><td><span class=na>(unknown)</span></td><td><span class=na>(unknown)</span></td><td><span class=na>(unknown)</span></td><td><span class=na>(unknown)</span></td><td><span class=na>(unknown)</span></td><td><span class=na>(unknown)</span></td><td class=vellipsis>&hellip;</td><td><span class=na>(unknown)</span></td><td><span class=na>(unknown)</span></td><td><span class=na>(unknown)</span></td><td><span class=na>(unknown)</span></td><td><span class=na>(unknown)</span></td></tr>\n",
       "    <tr><td class='row_index'>7</td><td>chr7_5480to5481_10k</td><td><span class=na>(unknown)</span></td><td><span class=na>(unknown)</span></td><td><span class=na>(unknown)</span></td><td><span class=na>(unknown)</span></td><td><span class=na>(unknown)</span></td><td><span class=na>(unknown)</span></td><td><span class=na>(unknown)</span></td><td><span class=na>(unknown)</span></td><td><span class=na>(unknown)</span></td><td class=vellipsis>&hellip;</td><td><span class=na>(unknown)</span></td><td><span class=na>(unknown)</span></td><td><span class=na>(unknown)</span></td><td><span class=na>(unknown)</span></td><td><span class=na>(unknown)</span></td></tr>\n",
       "    <tr><td class='row_index'>8</td><td>chr7_5481to5482_10k</td><td><span class=na>(unknown)</span></td><td><span class=na>(unknown)</span></td><td><span class=na>(unknown)</span></td><td><span class=na>(unknown)</span></td><td><span class=na>(unknown)</span></td><td><span class=na>(unknown)</span></td><td><span class=na>(unknown)</span></td><td><span class=na>(unknown)</span></td><td><span class=na>(unknown)</span></td><td class=vellipsis>&hellip;</td><td><span class=na>(unknown)</span></td><td><span class=na>(unknown)</span></td><td><span class=na>(unknown)</span></td><td><span class=na>(unknown)</span></td><td><span class=na>(unknown)</span></td></tr>\n",
       "    <tr><td class='row_index'>9</td><td>chr7_5482to5483_10k</td><td><span class=na>(unknown)</span></td><td><span class=na>(unknown)</span></td><td><span class=na>(unknown)</span></td><td><span class=na>(unknown)</span></td><td><span class=na>(unknown)</span></td><td><span class=na>(unknown)</span></td><td><span class=na>(unknown)</span></td><td><span class=na>(unknown)</span></td><td><span class=na>(unknown)</span></td><td class=vellipsis>&hellip;</td><td><span class=na>(unknown)</span></td><td><span class=na>(unknown)</span></td><td><span class=na>(unknown)</span></td><td><span class=na>(unknown)</span></td><td><span class=na>(unknown)</span></td></tr>\n",
       "    <tr><td class='row_index'>10</td><td>chr7_5483to5484_10k</td><td><span class=na>(unknown)</span></td><td><span class=na>(unknown)</span></td><td><span class=na>(unknown)</span></td><td><span class=na>(unknown)</span></td><td><span class=na>(unknown)</span></td><td><span class=na>(unknown)</span></td><td><span class=na>(unknown)</span></td><td><span class=na>(unknown)</span></td><td><span class=na>(unknown)</span></td><td class=vellipsis>&hellip;</td><td><span class=na>(unknown)</span></td><td><span class=na>(unknown)</span></td><td><span class=na>(unknown)</span></td><td><span class=na>(unknown)</span></td><td><span class=na>(unknown)</span></td></tr>\n",
       "    <tr><td class='row_index'>11</td><td>chr7_5484to5485_10k</td><td><span class=na>(unknown)</span></td><td><span class=na>(unknown)</span></td><td><span class=na>(unknown)</span></td><td><span class=na>(unknown)</span></td><td><span class=na>(unknown)</span></td><td><span class=na>(unknown)</span></td><td><span class=na>(unknown)</span></td><td><span class=na>(unknown)</span></td><td><span class=na>(unknown)</span></td><td class=vellipsis>&hellip;</td><td><span class=na>(unknown)</span></td><td><span class=na>(unknown)</span></td><td><span class=na>(unknown)</span></td><td><span class=na>(unknown)</span></td><td><span class=na>(unknown)</span></td></tr>\n",
       "    <tr><td class='row_index'>12</td><td>chr7_5485to5486_10k</td><td><span class=na>(unknown)</span></td><td><span class=na>(unknown)</span></td><td><span class=na>(unknown)</span></td><td><span class=na>(unknown)</span></td><td><span class=na>(unknown)</span></td><td><span class=na>(unknown)</span></td><td><span class=na>(unknown)</span></td><td><span class=na>(unknown)</span></td><td><span class=na>(unknown)</span></td><td class=vellipsis>&hellip;</td><td><span class=na>(unknown)</span></td><td><span class=na>(unknown)</span></td><td><span class=na>(unknown)</span></td><td><span class=na>(unknown)</span></td><td><span class=na>(unknown)</span></td></tr>\n",
       "    <tr><td class='row_index'>13</td><td>chr7_5486to5487_10k</td><td><span class=na>(unknown)</span></td><td><span class=na>(unknown)</span></td><td><span class=na>(unknown)</span></td><td><span class=na>(unknown)</span></td><td><span class=na>(unknown)</span></td><td><span class=na>(unknown)</span></td><td><span class=na>(unknown)</span></td><td><span class=na>(unknown)</span></td><td><span class=na>(unknown)</span></td><td class=vellipsis>&hellip;</td><td><span class=na>(unknown)</span></td><td><span class=na>(unknown)</span></td><td><span class=na>(unknown)</span></td><td><span class=na>(unknown)</span></td><td><span class=na>(unknown)</span></td></tr>\n",
       "    <tr><td class='row_index'>14</td><td>chr7_5487to5488_10k</td><td><span class=na>(unknown)</span></td><td><span class=na>(unknown)</span></td><td><span class=na>(unknown)</span></td><td><span class=na>(unknown)</span></td><td><span class=na>(unknown)</span></td><td><span class=na>(unknown)</span></td><td><span class=na>(unknown)</span></td><td><span class=na>(unknown)</span></td><td><span class=na>(unknown)</span></td><td class=vellipsis>&hellip;</td><td><span class=na>(unknown)</span></td><td><span class=na>(unknown)</span></td><td><span class=na>(unknown)</span></td><td><span class=na>(unknown)</span></td><td><span class=na>(unknown)</span></td></tr>\n",
       "    <tr><td class='row_index'>&#x22EE;</td><td class='hellipsis'>&#x22EE;</td><td class='hellipsis'>&#x22EE;</td><td class='hellipsis'>&#x22EE;</td><td class='hellipsis'>&#x22EE;</td><td class='hellipsis'>&#x22EE;</td><td class='hellipsis'>&#x22EE;</td><td class='hellipsis'>&#x22EE;</td><td class='hellipsis'>&#x22EE;</td><td class='hellipsis'>&#x22EE;</td><td class='hellipsis'>&#x22EE;</td><td class='hellipsis'>&#x22F1;</td><td class='hellipsis'>&#x22EE;</td><td class='hellipsis'>&#x22EE;</td><td class='hellipsis'>&#x22EE;</td><td class='hellipsis'>&#x22EE;</td><td class='hellipsis'>&#x22EE;</td></tr>\n",
       "    <tr><td class='row_index'>7455</td><td>chr11_6949to6950_10k</td><td><span class=na>(unknown)</span></td><td><span class=na>(unknown)</span></td><td><span class=na>(unknown)</span></td><td><span class=na>(unknown)</span></td><td><span class=na>(unknown)</span></td><td><span class=na>(unknown)</span></td><td><span class=na>(unknown)</span></td><td><span class=na>(unknown)</span></td><td><span class=na>(unknown)</span></td><td class=vellipsis>&hellip;</td><td><span class=na>(unknown)</span></td><td><span class=na>(unknown)</span></td><td><span class=na>(unknown)</span></td><td><span class=na>(unknown)</span></td><td><span class=na>(unknown)</span></td></tr>\n",
       "    <tr><td class='row_index'>7456</td><td>chr11_6950to6951_10k</td><td><span class=na>(unknown)</span></td><td><span class=na>(unknown)</span></td><td><span class=na>(unknown)</span></td><td><span class=na>(unknown)</span></td><td><span class=na>(unknown)</span></td><td><span class=na>(unknown)</span></td><td><span class=na>(unknown)</span></td><td><span class=na>(unknown)</span></td><td><span class=na>(unknown)</span></td><td class=vellipsis>&hellip;</td><td><span class=na>(unknown)</span></td><td><span class=na>(unknown)</span></td><td><span class=na>(unknown)</span></td><td><span class=na>(unknown)</span></td><td><span class=na>(unknown)</span></td></tr>\n",
       "    <tr><td class='row_index'>7457</td><td>chr11_6951to6952_10k</td><td><span class=na>(unknown)</span></td><td><span class=na>(unknown)</span></td><td><span class=na>(unknown)</span></td><td><span class=na>(unknown)</span></td><td><span class=na>(unknown)</span></td><td><span class=na>(unknown)</span></td><td><span class=na>(unknown)</span></td><td><span class=na>(unknown)</span></td><td><span class=na>(unknown)</span></td><td class=vellipsis>&hellip;</td><td><span class=na>(unknown)</span></td><td><span class=na>(unknown)</span></td><td><span class=na>(unknown)</span></td><td><span class=na>(unknown)</span></td><td><span class=na>(unknown)</span></td></tr>\n",
       "    <tr><td class='row_index'>7458</td><td>chr11_6952to6953_10k</td><td><span class=na>(unknown)</span></td><td><span class=na>(unknown)</span></td><td><span class=na>(unknown)</span></td><td><span class=na>(unknown)</span></td><td><span class=na>(unknown)</span></td><td><span class=na>(unknown)</span></td><td><span class=na>(unknown)</span></td><td><span class=na>(unknown)</span></td><td><span class=na>(unknown)</span></td><td class=vellipsis>&hellip;</td><td><span class=na>(unknown)</span></td><td><span class=na>(unknown)</span></td><td><span class=na>(unknown)</span></td><td><span class=na>(unknown)</span></td><td><span class=na>(unknown)</span></td></tr>\n",
       "    <tr><td class='row_index'>7459</td><td>chr11_6954to6955_10k</td><td><span class=na>(unknown)</span></td><td><span class=na>(unknown)</span></td><td><span class=na>(unknown)</span></td><td><span class=na>(unknown)</span></td><td><span class=na>(unknown)</span></td><td><span class=na>(unknown)</span></td><td><span class=na>(unknown)</span></td><td><span class=na>(unknown)</span></td><td><span class=na>(unknown)</span></td><td class=vellipsis>&hellip;</td><td><span class=na>(unknown)</span></td><td><span class=na>(unknown)</span></td><td><span class=na>(unknown)</span></td><td><span class=na>(unknown)</span></td><td><span class=na>(unknown)</span></td></tr>\n",
       "  </tbody>\n",
       "  </table>\n",
       "  <div class='footer'>\n",
       "    <div class='frame_dimensions'>7460 rows &times; 614,728 columns</div>\n",
       "  </div>\n",
       "</div>\n"
      ],
      "text/plain": [
       "<Frame#7f8a9417e300 7460x614728>"
      ]
     },
     "execution_count": 8,
     "metadata": {},
     "output_type": "execute_result"
    }
   ],
   "source": [
    "df_dt"
   ]
  },
  {
   "cell_type": "code",
   "execution_count": null,
   "id": "9d5460cb-571d-4e52-95c8-0a28a53d1439",
   "metadata": {},
   "outputs": [],
   "source": []
  },
  {
   "cell_type": "code",
   "execution_count": null,
   "id": "b1bac6ee-592c-49db-a169-de57e3ee96e1",
   "metadata": {},
   "outputs": [],
   "source": [
    "gene_names = df_dt[0].to_list()[0]"
   ]
  },
  {
   "cell_type": "code",
   "execution_count": null,
   "id": "bd2469de-f827-414f-b321-75b6ed95ddca",
   "metadata": {},
   "outputs": [],
   "source": [
    "sample_names = list(df_dt.names[1:])"
   ]
  },
  {
   "cell_type": "code",
   "execution_count": null,
   "id": "6bf7b6a4-c796-4d6e-8db7-ed77d617af0d",
   "metadata": {},
   "outputs": [],
   "source": [
    "data_np = df_dt[:, 1:].to_numpy()"
   ]
  },
  {
   "cell_type": "code",
   "execution_count": null,
   "id": "fba53543-aaa7-4b07-b8dd-9bcc42b161ec",
   "metadata": {},
   "outputs": [],
   "source": [
    "data_np = np.transpose(data_np)"
   ]
  },
  {
   "cell_type": "code",
   "execution_count": null,
   "id": "1d095b6d-efad-4bcf-85be-28e37809ada1",
   "metadata": {},
   "outputs": [],
   "source": [
    "gc.collect()"
   ]
  },
  {
   "cell_type": "code",
   "execution_count": null,
   "id": "fad0b542-7d0b-43f2-b523-4f5f05d809cd",
   "metadata": {},
   "outputs": [],
   "source": []
  },
  {
   "cell_type": "code",
   "execution_count": null,
   "id": "4122959a-bb8a-4389-a1af-789d207eb6b6",
   "metadata": {},
   "outputs": [],
   "source": []
  },
  {
   "cell_type": "code",
   "execution_count": 5,
   "id": "311da203-da93-429a-96f2-9f6be5da5326",
   "metadata": {},
   "outputs": [
    {
     "data": {
      "text/plain": [
       "array([[b'', b'', b'', ..., b'', b'', b''],\n",
       "       [b'', b'', b'', ..., b'', b'', b''],\n",
       "       [b'', b'', b'', ..., b'', b'', b''],\n",
       "       ...,\n",
       "       [b'', b'', b'', ..., b'', b'', b''],\n",
       "       [b'', b'', b'', ..., b'', b'', b''],\n",
       "       [b'', b'', b'', ..., b'', b'', b'']], dtype='|V0')"
      ]
     },
     "execution_count": 5,
     "metadata": {},
     "output_type": "execute_result"
    }
   ],
   "source": [
    "np.load(TEMP_PATH + 'training_custom_cna_training.npy')"
   ]
  },
  {
   "cell_type": "code",
   "execution_count": null,
   "id": "90fc62ae",
   "metadata": {},
   "outputs": [],
   "source": [
    "if exists(\"prediction/data/ccl_complete_data_501CCL_1298DepOI_614727samples.npz\") is False:\n",
    "    # expression\n",
    "    if exists(TEMP_PATH + \"training_custom_exp_training.npy\") is False:\n",
    "        data_exp, sample_names_exp, property_names_exp = load_data(TRAIN_PATH + \"training_custom_exp_training.txt\")\n",
    "        np.save(TEMP_PATH + 'training_custom_exp_training.npy', data_exp)\n",
    "    else:\n",
    "        data_exp = np.load(TEMP_PATH + 'training_custom_exp_training.npy')\n",
    "    print(\"exp load.. completed\")    \n",
    "    \n",
    "    # mutation\n",
    "    if exists(TEMP_PATH + \"training_custom_mut_training.npy\") is False:\n",
    "        data_mut, sample_names_mut, property_names_mut = load_data(TRAIN_PATH + \"training_custom_mut_training.txt\")\n",
    "        np.save(TEMP_PATH + 'training_custom_mut_training.npy', data_mut)\n",
    "    else:\n",
    "        data_mut = np.load(TEMP_PATH + 'training_custom_exp_training.npy')\n",
    "    print(\"mut load.. completed\")\n",
    "    \n",
    "    # copy number alteration\n",
    "    if exists(TEMP_PATH + \"training_custom_cna_training.npy\") is False:\n",
    "        data_cna, sample_names_cna, property_names_cna = load_data(TRAIN_PATH + \"training_custom_cna_training.txt\")\n",
    "        np.save(TEMP_PATH + 'training_custom_cna_training.npy', data_cna)\n",
    "    else:\n",
    "        np.load(TEMP_PATH + 'training_custom_cna_training.npy')\n",
    "    print(\"cna load.. completed\")\n",
    "    \n",
    "    # methylation\n",
    "    if exists(TEMP_PATH + \"training_custom_meth_training.npy\") is False:\n",
    "        data_meth, sample_names_meth, property_names_meth = load_data(TRAIN_PATH + \"training_custom_meth_training.txt\")\n",
    "        np.save(TEMP_PATH + 'training_custom_meth_training.npy', data_meth)\n",
    "    else:\n",
    "        data_meth = np.load(TEMP_PATH + 'training_custom_meth_training.npy')\n",
    "    print(\"meth load.. completed\")\n",
    "    \n",
    "    # dependency score\n",
    "    if exists(TEMP_PATH + \"training_custom_DepScore_training.npy\") is False:\n",
    "        data_dep, sample_names_dep, property_names_dep = load_data(TRAIN_PATH + \"training_custom_DepScore_training.txt\")\n",
    "        np.save(TEMP_PATH + 'training_custom_DepScore_training.npy', data_dep)\n",
    "    else:\n",
    "        data_dep = np.load(TEMP_PATH + 'training_custom_DepScore_training.npy')\n",
    "    print(\"dep load.. completed\")\n",
    "    \n",
    "    # fingerprint\n",
    "    if exists(TEMP_PATH + \"training_custom_fingerprint_training.npy\") is False:\n",
    "        data_fprint, sample_names_fprint, property_names_fprint = load_data(TRAIN_PATH + \"training_custom_fingerprint_training.txt\")\n",
    "        np.save(TEMP_PATH + 'training_custom_fingerprint_training.npy', data_fprint)\n",
    "    else:\n",
    "        data_fprint = np.load(TEMP_PATH + 'training_custom_fingerprint_training.npy')\n",
    "    print(\"fingerprint load.. completed\")\n",
    "        \n",
    "    np.savez_compressed(\"prediction/data/ccl_complete_data_501CCL_1298DepOI_614727samples_custom.npz\", \n",
    "                        data_exp=data_exp, data_mut=data_mut, data_cna=data_cna, data_meth=data_meth,\n",
    "                        data_dep=data_dep, data_fprint=data_fprint)\n",
    "else :\n",
    "    data = np.load(\"prediction/data/ccl_complete_data_501CCL_1298DepOI_614727samples_custom.npz\")\n",
    "    data_exp = data['data_exp']\n",
    "    data_mut = data['data_mut']\n",
    "    data_cna = data['data_cna']\n",
    "    data_meth = data['data_meth']\n",
    "    data_fprint = data['data_fprint']\n",
    "    data_dep = data['data_dep']"
   ]
  },
  {
   "cell_type": "markdown",
   "id": "e40cd71b",
   "metadata": {
    "tags": []
   },
   "source": [
    "## **Build Model**"
   ]
  },
  {
   "cell_type": "markdown",
   "id": "dd18fa6f",
   "metadata": {},
   "source": [
    "* **Pretrained Model load - TCGA**"
   ]
  },
  {
   "cell_type": "code",
   "execution_count": null,
   "id": "971409bf",
   "metadata": {},
   "outputs": [],
   "source": [
    "premodel_mut = pickle.load(open('prediction/data/premodel_tcga_mut_1000_100_50.pickle', 'rb'))\n",
    "premodel_exp = pickle.load(open('prediction/data/premodel_tcga_exp_500_200_50.pickle', 'rb'))\n",
    "premodel_cna = pickle.load(open('prediction/data/premodel_tcga_cna_500_200_50.pickle', 'rb'))\n",
    "premodel_meth = pickle.load(open('prediction/data/premodel_tcga_meth_500_200_50.pickle', 'rb'))\n",
    "print(\"\\n\\nDatasets successfully loaded.\")"
   ]
  },
  {
   "cell_type": "code",
   "execution_count": null,
   "id": "a2250bcc",
   "metadata": {},
   "outputs": [],
   "source": [
    "activation_func = 'relu' # for all middle layers\n",
    "activation_func2 = 'linear' # for output layer to output unbounded gene-effect scores\n",
    "init = 'he_uniform'\n",
    "dense_layer_dim = 250\n",
    "batch_size = 500\n",
    "num_epoch = 100\n",
    "num_DepOI = 1298 # 1298 DepOIs as defined in our paper, custom 1227\n",
    "num_ccl = int(data_mut.shape[0]/num_DepOI)\n",
    "split_ratio = 0.7"
   ]
  },
  {
   "cell_type": "code",
   "execution_count": null,
   "id": "31ea880a",
   "metadata": {},
   "outputs": [],
   "source": [
    "# 80% CCLs for training/validation, and 20% for testing\n",
    "id_rand = np.random.permutation(num_ccl)\n",
    "id_cell_train = id_rand[np.arange(0, round(num_ccl * split_ratio))]\n",
    "id_cell_test = id_rand[np.arange(round(num_ccl * split_ratio), num_ccl)]\n",
    "id_train = np.arange(0, num_DepOI) + id_cell_train[0]*num_DepOI\n",
    "for y in id_cell_train:\n",
    "    id_train = np.union1d(id_train, np.arange(0, num_DepOI) + y*num_DepOI)\n",
    "id_test = np.arange(0, num_DepOI) + id_cell_test[0] * num_DepOI\n",
    "for y in id_cell_test:\n",
    "    id_test = np.union1d(id_test, np.arange(0, num_DepOI) + y*num_DepOI)\n",
    "print(\"\\n\\nTraining/validation on %d samples (%d CCLs x %d DepOIs) and testing on %d samples (%d CCLs x %d DepOIs).\\n\\n\" % (\n",
    "    len(id_train), len(id_cell_train), num_DepOI, len(id_test), len(id_cell_test), num_DepOI))"
   ]
  },
  {
   "cell_type": "markdown",
   "id": "d3accc4e",
   "metadata": {},
   "source": [
    "## **Fit & Evaluation Model**"
   ]
  },
  {
   "cell_type": "markdown",
   "id": "a27cb8bb",
   "metadata": {
    "tags": []
   },
   "source": [
    "### **(1) Full Model 4-Omics**"
   ]
  },
  {
   "cell_type": "code",
   "execution_count": null,
   "id": "cdf8a404",
   "metadata": {},
   "outputs": [],
   "source": [
    "train_generator = generator(data_mut[id_train], data_exp[id_train], data_cna[id_train], data_meth[id_train], \n",
    "                                    data_fprint[id_train], data_dep[id_train], batch_size = batch_size)"
   ]
  },
  {
   "cell_type": "code",
   "execution_count": null,
   "id": "71e13dfe",
   "metadata": {},
   "outputs": [],
   "source": [
    "test_generator = generator(data_mut[id_test], data_exp[id_test], data_cna[id_test], data_meth[id_test], \n",
    "                                    data_fprint[id_test], data_dep[id_test], batch_size = batch_size)"
   ]
  },
  {
   "cell_type": "code",
   "execution_count": null,
   "id": "674ffa2c",
   "metadata": {},
   "outputs": [],
   "source": [
    "model = full_model()\n",
    "es = EarlyStopping(monitor='val_loss', min_delta=0, patience=5, verbose=1, mode='min')\n",
    "model.compile(loss='mse', optimizer='adam', metrics=[coeff_determination])\n",
    "history = model.fit(train_generator, \n",
    "                    validation_data=test_generator, \n",
    "                    epochs=num_epoch, verbose=1,         \n",
    "                    callbacks = [es])"
   ]
  },
  {
   "cell_type": "code",
   "execution_count": null,
   "id": "d7dd01a3",
   "metadata": {},
   "outputs": [],
   "source": [
    "SAVE_NAME = \"model_custom_full_0720\"\n",
    "model.save(SAVE_PATH + SAVE_NAME + \".h5\")\n",
    "print(\"\\n\\nFull DeepDEP model saved in %s\\n\\n\" % (SAVE_PATH + SAVE_NAME + \".h5\"))"
   ]
  },
  {
   "cell_type": "code",
   "execution_count": null,
   "id": "10132f3d",
   "metadata": {},
   "outputs": [],
   "source": [
    "model_train_vis(history=history)"
   ]
  },
  {
   "cell_type": "markdown",
   "id": "e0ca3d06",
   "metadata": {},
   "source": [
    "### **(2) Expression-Mutation-CNA Model**"
   ]
  },
  {
   "cell_type": "code",
   "execution_count": null,
   "id": "8d7aeff7",
   "metadata": {},
   "outputs": [],
   "source": [
    "train_generator = generator3(data_mut[id_train], data_exp[id_train], data_cna[id_train], \n",
    "                                    data_fprint[id_train], data_dep[id_train], batch_size = batch_size)"
   ]
  },
  {
   "cell_type": "code",
   "execution_count": null,
   "id": "ebfd38ad",
   "metadata": {},
   "outputs": [],
   "source": [
    "test_generator = generator3(data_mut[id_test], data_exp[id_test], data_cna[id_test],\n",
    "                                    data_fprint[id_test], data_dep[id_test], batch_size = batch_size)"
   ]
  },
  {
   "cell_type": "code",
   "execution_count": null,
   "id": "aefed8dd",
   "metadata": {},
   "outputs": [],
   "source": [
    "model = exp_mut_cna_model()\n",
    "es = EarlyStopping(monitor='val_loss', min_delta=0, patience=5, verbose=1, mode='min')\n",
    "model.compile(loss='mse', optimizer='adam', metrics=[coeff_determination])\n",
    "history = model.fit(train_generator, \n",
    "                    validation_data=test_generator, \n",
    "                    epochs=num_epoch, verbose=1,         \n",
    "                    callbacks = [es])"
   ]
  },
  {
   "cell_type": "code",
   "execution_count": null,
   "id": "f8bd54b7",
   "metadata": {},
   "outputs": [],
   "source": [
    "SAVE_NAME = \"model_custom_mut_exp_cna_0725\"\n",
    "model.save(SAVE_PATH + SAVE_NAME + \".h5\")\n",
    "print(\"\\n\\nFull DeepDEP model saved in %s\\n\\n\" % (SAVE_PATH + SAVE_NAME + \".h5\"))"
   ]
  },
  {
   "cell_type": "code",
   "execution_count": null,
   "id": "d32a3fcc",
   "metadata": {},
   "outputs": [],
   "source": [
    "model_train_vis(history=history)"
   ]
  },
  {
   "cell_type": "markdown",
   "id": "046378bc",
   "metadata": {
    "jp-MarkdownHeadingCollapsed": true,
    "tags": []
   },
   "source": [
    "### **(3) Expression-Mutation Model**"
   ]
  },
  {
   "cell_type": "code",
   "execution_count": null,
   "id": "f69827f5",
   "metadata": {},
   "outputs": [],
   "source": [
    "train_generator = generator2(data_mut[id_train], data_exp[id_train], data_fprint[id_train],\n",
    "                            data_dep[id_train], batch_size = batch_size)"
   ]
  },
  {
   "cell_type": "code",
   "execution_count": null,
   "id": "496568f7",
   "metadata": {},
   "outputs": [],
   "source": [
    "test_generator = generator2(data_mut[id_test], data_exp[id_test], data_fprint[id_test],\n",
    "                           data_dep[id_test], batch_size = batch_size)"
   ]
  },
  {
   "cell_type": "code",
   "execution_count": null,
   "id": "4964f119",
   "metadata": {},
   "outputs": [],
   "source": [
    "model = exp_mut_model()\n",
    "es = EarlyStopping(monitor='val_loss', min_delta=0, patience=5, verbose=1, mode='min')\n",
    "model.compile(loss='mse', optimizer='adam', metrics=[coeff_determination])\n",
    "history = model.fit(train_generator, \n",
    "                    validation_data=test_generator, \n",
    "                    epochs=num_epoch, verbose=1,         \n",
    "                    callbacks = [es])"
   ]
  },
  {
   "cell_type": "code",
   "execution_count": null,
   "id": "da35ff3a",
   "metadata": {},
   "outputs": [],
   "source": [
    "model_train_vis(history=history)"
   ]
  },
  {
   "cell_type": "code",
   "execution_count": null,
   "id": "67109c85",
   "metadata": {},
   "outputs": [],
   "source": [
    "SAVE_NAME = \"model_custom_mut_exp_0720\"\n",
    "model.save(SAVE_PATH + SAVE_NAME + \".h5\")\n",
    "print(\"\\n\\nFull DeepDEP model saved in %s\\n\\n\" % (SAVE_PATH + SAVE_NAME + \".h5\"))"
   ]
  },
  {
   "cell_type": "markdown",
   "id": "bce33018",
   "metadata": {
    "tags": []
   },
   "source": [
    "### **(4) Expression Model**"
   ]
  },
  {
   "cell_type": "code",
   "execution_count": null,
   "id": "15be141a",
   "metadata": {},
   "outputs": [],
   "source": [
    "train_generator = generator1(data_exp[id_train], data_fprint[id_train],\n",
    "                            data_dep[id_train], batch_size = batch_size)"
   ]
  },
  {
   "cell_type": "code",
   "execution_count": null,
   "id": "7d8d6efe",
   "metadata": {},
   "outputs": [],
   "source": [
    "test_generator = generator1(data_exp[id_test], data_fprint[id_test],\n",
    "                           data_dep[id_test], batch_size = batch_size)"
   ]
  },
  {
   "cell_type": "code",
   "execution_count": null,
   "id": "d337bde2",
   "metadata": {
    "tags": []
   },
   "outputs": [],
   "source": [
    "with tf.device('/cpu:0'):\n",
    "    model = exp_model()\n",
    "    tf.keras.utils.plot_model(model, show_shapes=True,  show_dtype=True, to_file='model_custom.png')\n",
    "    es = EarlyStopping(monitor='val_loss', min_delta=0, patience=5, verbose=1, mode='min')\n",
    "    model.compile(loss='mse', optimizer='adam', metrics=[coeff_determination])\n",
    "    history = model.fit(train_generator, \n",
    "                        validation_data=test_generator, \n",
    "                        # epochs=num_epoch, \n",
    "                        epochs=100, \n",
    "                        verbose=1,         \n",
    "                        callbacks = [es])"
   ]
  },
  {
   "cell_type": "code",
   "execution_count": null,
   "id": "4924a0b4",
   "metadata": {},
   "outputs": [],
   "source": [
    "model_train_vis(history=history)"
   ]
  },
  {
   "cell_type": "code",
   "execution_count": null,
   "id": "1e680d84",
   "metadata": {},
   "outputs": [],
   "source": [
    "SAVE_NAME = \"model_ccl501_exp_0728\"\n",
    "model.save(SAVE_PATH + SAVE_NAME + \".h5\")\n",
    "print(\"\\n\\nFull DeepDEP model saved in %s\\n\\n\" % (SAVE_PATH + SAVE_NAME + \".h5\"))"
   ]
  },
  {
   "cell_type": "markdown",
   "id": "3bfebb8d",
   "metadata": {},
   "source": [
    "### **(5) Mutation Model**"
   ]
  },
  {
   "cell_type": "code",
   "execution_count": null,
   "id": "f5e76e8a",
   "metadata": {},
   "outputs": [],
   "source": [
    "train_generator = generator1(data_mut[id_train], data_fprint[id_train],\n",
    "                            data_dep[id_train], batch_size = batch_size)"
   ]
  },
  {
   "cell_type": "code",
   "execution_count": null,
   "id": "86ae7ce2",
   "metadata": {},
   "outputs": [],
   "source": [
    "test_generator = generator1(data_mut[id_test], data_fprint[id_test],\n",
    "                           data_dep[id_test], batch_size = batch_size)"
   ]
  },
  {
   "cell_type": "code",
   "execution_count": null,
   "id": "74168a0e",
   "metadata": {},
   "outputs": [],
   "source": [
    "model = mut_model()\n",
    "es = EarlyStopping(monitor='val_loss', min_delta=0, patience=5, verbose=1, mode='min')\n",
    "model.compile(loss='mse', optimizer='adam', metrics=[coeff_determination])\n",
    "history = model.fit(train_generator, \n",
    "                    validation_data=test_generator, \n",
    "                    epochs=num_epoch, verbose=1,         \n",
    "                    callbacks = [es])"
   ]
  },
  {
   "cell_type": "code",
   "execution_count": null,
   "id": "0017f130",
   "metadata": {},
   "outputs": [],
   "source": [
    "model_train_vis(history=history)"
   ]
  },
  {
   "cell_type": "code",
   "execution_count": null,
   "id": "729abb73",
   "metadata": {},
   "outputs": [],
   "source": [
    "SAVE_NAME = \"model_custom_mut_0720\"\n",
    "model.save(SAVE_PATH + SAVE_NAME + \".h5\")\n",
    "print(\"\\n\\nFull DeepDEP model saved in %s\\n\\n\" % (SAVE_PATH + SAVE_NAME + \".h5\"))"
   ]
  },
  {
   "cell_type": "markdown",
   "id": "c9ae7d88",
   "metadata": {},
   "source": [
    "### **(6) CNA Model**"
   ]
  },
  {
   "cell_type": "code",
   "execution_count": null,
   "id": "7b1dca2f",
   "metadata": {},
   "outputs": [],
   "source": [
    "train_generator = generator1(data_cna[id_train], data_fprint[id_train],\n",
    "                            data_dep[id_train], batch_size = batch_size)"
   ]
  },
  {
   "cell_type": "code",
   "execution_count": null,
   "id": "7bb67039",
   "metadata": {},
   "outputs": [],
   "source": [
    "test_generator = generator1(data_cna[id_test], data_fprint[id_test],\n",
    "                           data_dep[id_test], batch_size = batch_size)"
   ]
  },
  {
   "cell_type": "code",
   "execution_count": null,
   "id": "b3024140",
   "metadata": {},
   "outputs": [],
   "source": [
    "model = mut_model()\n",
    "es = EarlyStopping(monitor='val_loss', min_delta=0, patience=5, verbose=1, mode='min')\n",
    "model.compile(loss='mse', optimizer='adam', metrics=[coeff_determination])\n",
    "history = model.fit(train_generator, \n",
    "                    validation_data=test_generator, \n",
    "                    epochs=num_epoch, verbose=1,         \n",
    "                    callbacks = [es])"
   ]
  },
  {
   "cell_type": "code",
   "execution_count": null,
   "id": "4732afb9",
   "metadata": {},
   "outputs": [],
   "source": [
    "model_train_vis(history=history)"
   ]
  },
  {
   "cell_type": "code",
   "execution_count": null,
   "id": "5f5298da",
   "metadata": {},
   "outputs": [],
   "source": [
    "SAVE_NAME = \"model_custom_cna_0726\"\n",
    "model.save(SAVE_PATH + SAVE_NAME + \".h5\")\n",
    "print(\"\\n\\nFull DeepDEP model saved in %s\\n\\n\" % (SAVE_PATH + SAVE_NAME + \".h5\"))"
   ]
  },
  {
   "cell_type": "code",
   "execution_count": null,
   "id": "afd78b23",
   "metadata": {},
   "outputs": [],
   "source": []
  }
 ],
 "metadata": {
  "kernelspec": {
   "display_name": "DeepDEP",
   "language": "python",
   "name": "deepdep"
  },
  "language_info": {
   "codemirror_mode": {
    "name": "ipython",
    "version": 3
   },
   "file_extension": ".py",
   "mimetype": "text/x-python",
   "name": "python",
   "nbconvert_exporter": "python",
   "pygments_lexer": "ipython3",
   "version": "3.7.13"
  }
 },
 "nbformat": 4,
 "nbformat_minor": 5
}
