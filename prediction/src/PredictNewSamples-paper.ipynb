{
 "cells": [
  {
   "cell_type": "code",
   "execution_count": 1,
   "id": "2fc5d164",
   "metadata": {},
   "outputs": [
    {
     "name": "stderr",
     "output_type": "stream",
     "text": [
      "2022-07-28 13:44:30.389394: I tensorflow/stream_executor/platform/default/dso_loader.cc:49] Successfully opened dynamic library libcudart.so.10.1\n"
     ]
    }
   ],
   "source": [
    "import pickle\n",
    "import tensorflow as tf\n",
    "from tensorflow.keras import models\n",
    "\n",
    "import os\n",
    "import numpy as np\n",
    "import time\n",
    "import pandas as pd"
   ]
  },
  {
   "cell_type": "code",
   "execution_count": 2,
   "id": "02bde9fd",
   "metadata": {},
   "outputs": [],
   "source": [
    "def load_data(filename):\n",
    "    data = []\n",
    "    gene_names = []\n",
    "    lines = open(filename).readlines()\n",
    "    sample_names = lines[0].replace('\\n', '').split('\\t')[1:]\n",
    "    dx = 1\n",
    "\n",
    "    for line in lines[dx:]:\n",
    "        values = line.replace('\\n', '').split('\\t')\n",
    "        gene = str.upper(values[0])\n",
    "        gene_names.append(gene)\n",
    "        data.append(values[1:])\n",
    "    data = np.array(data, dtype='float32')\n",
    "    data = np.transpose(data)\n",
    "\n",
    "    return data, sample_names, gene_names\n",
    "\n",
    "def root_mean_squared_error(y_true, y_pred):\n",
    "        return K.sqrt(K.mean(K.square(y_pred - y_true), axis=-1)) \n",
    "    \n",
    "def coeff_determination(y_true, y_pred):\n",
    "    SS_res =  K.sum(K.square( y_true-y_pred ))\n",
    "    SS_tot = K.sum(K.square( y_true - K.mean(y_true) ) )\n",
    "    return ( 1 - SS_res/(SS_tot + K.epsilon()) )"
   ]
  },
  {
   "cell_type": "code",
   "execution_count": 3,
   "id": "8b9b7fa2",
   "metadata": {},
   "outputs": [
    {
     "name": "stdout",
     "output_type": "stream",
     "text": [
      "/home/wmbio/WORK/gitworking/Dependency_prediction/prediction/src\n",
      "/home/wmbio/WORK/gitworking/Dependency_prediction\n"
     ]
    }
   ],
   "source": [
    "print(os.getcwd())\n",
    "os.chdir(\"/home/wmbio/WORK/gitworking/Dependency_prediction/\")\n",
    "print(os.getcwd())"
   ]
  },
  {
   "cell_type": "code",
   "execution_count": 4,
   "id": "22a57f1e",
   "metadata": {
    "collapsed": true,
    "jupyter": {
     "outputs_hidden": true
    },
    "tags": []
   },
   "outputs": [
    {
     "name": "stderr",
     "output_type": "stream",
     "text": [
      "2022-07-28 13:45:19.428825: I tensorflow/compiler/jit/xla_cpu_device.cc:41] Not creating XLA devices, tf_xla_enable_xla_devices not set\n",
      "2022-07-28 13:45:19.429297: I tensorflow/stream_executor/platform/default/dso_loader.cc:49] Successfully opened dynamic library libcuda.so.1\n",
      "2022-07-28 13:45:19.460563: I tensorflow/stream_executor/cuda/cuda_gpu_executor.cc:941] successful NUMA node read from SysFS had negative value (-1), but there must be at least one NUMA node, so returning NUMA node zero\n",
      "2022-07-28 13:45:19.461032: I tensorflow/core/common_runtime/gpu/gpu_device.cc:1720] Found device 0 with properties: \n",
      "pciBusID: 0000:01:00.0 name: NVIDIA GeForce RTX 3060 computeCapability: 8.6\n",
      "coreClock: 1.807GHz coreCount: 28 deviceMemorySize: 11.77GiB deviceMemoryBandwidth: 335.32GiB/s\n",
      "2022-07-28 13:45:19.461063: I tensorflow/stream_executor/platform/default/dso_loader.cc:49] Successfully opened dynamic library libcudart.so.10.1\n",
      "2022-07-28 13:45:19.463917: I tensorflow/stream_executor/platform/default/dso_loader.cc:49] Successfully opened dynamic library libcublas.so.10\n",
      "2022-07-28 13:45:19.463995: I tensorflow/stream_executor/platform/default/dso_loader.cc:49] Successfully opened dynamic library libcublasLt.so.10\n",
      "2022-07-28 13:45:19.466051: I tensorflow/stream_executor/platform/default/dso_loader.cc:49] Successfully opened dynamic library libcufft.so.10\n",
      "2022-07-28 13:45:19.466370: I tensorflow/stream_executor/platform/default/dso_loader.cc:49] Successfully opened dynamic library libcurand.so.10\n",
      "2022-07-28 13:45:19.468094: I tensorflow/stream_executor/platform/default/dso_loader.cc:49] Successfully opened dynamic library libcusolver.so.10\n",
      "2022-07-28 13:45:19.468885: I tensorflow/stream_executor/platform/default/dso_loader.cc:49] Successfully opened dynamic library libcusparse.so.10\n",
      "2022-07-28 13:45:19.471459: I tensorflow/stream_executor/platform/default/dso_loader.cc:49] Successfully opened dynamic library libcudnn.so.7\n",
      "2022-07-28 13:45:19.471523: I tensorflow/stream_executor/cuda/cuda_gpu_executor.cc:941] successful NUMA node read from SysFS had negative value (-1), but there must be at least one NUMA node, so returning NUMA node zero\n",
      "2022-07-28 13:45:19.471679: I tensorflow/stream_executor/cuda/cuda_gpu_executor.cc:941] successful NUMA node read from SysFS had negative value (-1), but there must be at least one NUMA node, so returning NUMA node zero\n",
      "2022-07-28 13:45:19.471791: I tensorflow/core/common_runtime/gpu/gpu_device.cc:1862] Adding visible gpu devices: 0\n",
      "2022-07-28 13:45:19.472237: I tensorflow/core/platform/cpu_feature_guard.cc:142] This TensorFlow binary is optimized with oneAPI Deep Neural Network Library (oneDNN) to use the following CPU instructions in performance-critical operations:  SSE4.1 SSE4.2 AVX AVX2 FMA\n",
      "To enable them in other operations, rebuild TensorFlow with the appropriate compiler flags.\n",
      "2022-07-28 13:45:19.473467: I tensorflow/compiler/jit/xla_gpu_device.cc:99] Not creating XLA devices, tf_xla_enable_xla_devices not set\n",
      "2022-07-28 13:45:19.473520: I tensorflow/stream_executor/cuda/cuda_gpu_executor.cc:941] successful NUMA node read from SysFS had negative value (-1), but there must be at least one NUMA node, so returning NUMA node zero\n",
      "2022-07-28 13:45:19.473648: I tensorflow/core/common_runtime/gpu/gpu_device.cc:1720] Found device 0 with properties: \n",
      "pciBusID: 0000:01:00.0 name: NVIDIA GeForce RTX 3060 computeCapability: 8.6\n",
      "coreClock: 1.807GHz coreCount: 28 deviceMemorySize: 11.77GiB deviceMemoryBandwidth: 335.32GiB/s\n",
      "2022-07-28 13:45:19.473656: I tensorflow/stream_executor/platform/default/dso_loader.cc:49] Successfully opened dynamic library libcudart.so.10.1\n",
      "2022-07-28 13:45:19.473664: I tensorflow/stream_executor/platform/default/dso_loader.cc:49] Successfully opened dynamic library libcublas.so.10\n",
      "2022-07-28 13:45:19.473668: I tensorflow/stream_executor/platform/default/dso_loader.cc:49] Successfully opened dynamic library libcublasLt.so.10\n",
      "2022-07-28 13:45:19.473672: I tensorflow/stream_executor/platform/default/dso_loader.cc:49] Successfully opened dynamic library libcufft.so.10\n",
      "2022-07-28 13:45:19.473676: I tensorflow/stream_executor/platform/default/dso_loader.cc:49] Successfully opened dynamic library libcurand.so.10\n",
      "2022-07-28 13:45:19.473681: I tensorflow/stream_executor/platform/default/dso_loader.cc:49] Successfully opened dynamic library libcusolver.so.10\n",
      "2022-07-28 13:45:19.473685: I tensorflow/stream_executor/platform/default/dso_loader.cc:49] Successfully opened dynamic library libcusparse.so.10\n",
      "2022-07-28 13:45:19.473690: I tensorflow/stream_executor/platform/default/dso_loader.cc:49] Successfully opened dynamic library libcudnn.so.7\n",
      "2022-07-28 13:45:19.473709: I tensorflow/stream_executor/cuda/cuda_gpu_executor.cc:941] successful NUMA node read from SysFS had negative value (-1), but there must be at least one NUMA node, so returning NUMA node zero\n",
      "2022-07-28 13:45:19.473827: I tensorflow/stream_executor/cuda/cuda_gpu_executor.cc:941] successful NUMA node read from SysFS had negative value (-1), but there must be at least one NUMA node, so returning NUMA node zero\n",
      "2022-07-28 13:45:19.473931: I tensorflow/core/common_runtime/gpu/gpu_device.cc:1862] Adding visible gpu devices: 0\n",
      "2022-07-28 13:45:19.473945: I tensorflow/stream_executor/platform/default/dso_loader.cc:49] Successfully opened dynamic library libcudart.so.10.1\n",
      "2022-07-28 13:48:25.507331: I tensorflow/core/common_runtime/gpu/gpu_device.cc:1261] Device interconnect StreamExecutor with strength 1 edge matrix:\n",
      "2022-07-28 13:48:25.507346: I tensorflow/core/common_runtime/gpu/gpu_device.cc:1267]      0 \n",
      "2022-07-28 13:48:25.507349: I tensorflow/core/common_runtime/gpu/gpu_device.cc:1280] 0:   N \n",
      "2022-07-28 13:48:25.507489: I tensorflow/stream_executor/cuda/cuda_gpu_executor.cc:941] successful NUMA node read from SysFS had negative value (-1), but there must be at least one NUMA node, so returning NUMA node zero\n",
      "2022-07-28 13:48:25.507626: I tensorflow/stream_executor/cuda/cuda_gpu_executor.cc:941] successful NUMA node read from SysFS had negative value (-1), but there must be at least one NUMA node, so returning NUMA node zero\n",
      "2022-07-28 13:48:25.507718: I tensorflow/stream_executor/cuda/cuda_gpu_executor.cc:941] successful NUMA node read from SysFS had negative value (-1), but there must be at least one NUMA node, so returning NUMA node zero\n",
      "2022-07-28 13:48:25.507807: I tensorflow/core/common_runtime/gpu/gpu_device.cc:1406] Created TensorFlow device (/job:localhost/replica:0/task:0/device:GPU:0 with 185 MB memory) -> physical GPU (device: 0, name: NVIDIA GeForce RTX 3060, pci bus id: 0000:01:00.0, compute capability: 8.6)\n"
     ]
    }
   ],
   "source": [
    "with tf.device('/cpu:0'):\n",
    "    model_name = \"model_ccl501_exp_0728\"\n",
    "    model_saved = models.load_model(\"prediction/custom_model/%s.h5\" % model_name, \n",
    "                                    custom_objects={\"coeff_determination\": coeff_determination})\n",
    "\n",
    "    # model_name = \"model_exp_paper\"\n",
    "    # model_saved = models.load_model(\"prediction/data/full_results_models_paper/models/%s.h5\" % model_name)\n",
    "# model_paper is the full 4-omics DeepDEP model used in the paper\n",
    "# user can choose from single-omics, 2-omics, or full DeepDEP models from the\n",
    "# /data/full_results_models_paper/models/ directory"
   ]
  },
  {
   "cell_type": "markdown",
   "id": "118c5f12",
   "metadata": {},
   "source": [
    "* **prediction**"
   ]
  },
  {
   "cell_type": "code",
   "execution_count": 5,
   "id": "e36be251",
   "metadata": {},
   "outputs": [
    {
     "name": "stdout",
     "output_type": "stream",
     "text": [
      "\n",
      "\n",
      "Datasets successfully loaded.\n",
      "\n",
      "\n"
     ]
    }
   ],
   "source": [
    "data_mut, sample_names_mut, gene_names_mut = load_data(\n",
    "    \"prediction/data/prediction_data/predict_mut_prediction.txt\")\n",
    "data_exp, sample_names_exp, gene_names_exp = load_data(\n",
    "    \"prediction/data/prediction_data/predict_exp_prediction.txt\")\n",
    "data_cna, sample_names_cna, gene_names_cna = load_data(\n",
    "    \"prediction/data/prediction_data/predict_cna_prediction.txt\")\n",
    "data_meth, sample_names_meth, gene_names_meth = load_data(\n",
    "    \"prediction/data/prediction_data/predict_meth_prediction.txt\")\n",
    "data_fprint_DepOIs, gene_names_fprint, function_names_fprint = load_data(\n",
    "    \"prediction/data/prediction_data/predict_fingerprint_prediction.txt\")\n",
    "print(\"\\n\\nDatasets successfully loaded.\\n\\n\")"
   ]
  },
  {
   "cell_type": "code",
   "execution_count": 6,
   "id": "4d75a7ca",
   "metadata": {},
   "outputs": [],
   "source": [
    "batch_size = 500\n",
    "first_to_predict = 10\n",
    "# predict the first 10 samples for DEMO ONLY, for all samples please substitute 10 by data_mut_tcga.shape[0]\n",
    "# prediction results of all 8238 TCGA samples can be found in /data/full_results_models_paper/predictions/"
   ]
  },
  {
   "cell_type": "code",
   "execution_count": 7,
   "id": "58b6a4d2",
   "metadata": {
    "tags": []
   },
   "outputs": [
    {
     "name": "stderr",
     "output_type": "stream",
     "text": [
      "2022-07-28 14:02:37.418547: I tensorflow/compiler/mlir/mlir_graph_optimization_pass.cc:116] None of the MLIR optimization passes are enabled (registered 2)\n",
      "2022-07-28 14:02:37.437167: I tensorflow/core/platform/profile_utils/cpu_utils.cc:112] CPU Frequency: 3187200000 Hz\n"
     ]
    },
    {
     "name": "stdout",
     "output_type": "stream",
     "text": [
      "Unscreended sample 0 predicted...\n",
      "Unscreended sample 1 predicted...\n",
      "Unscreended sample 2 predicted...\n",
      "Unscreended sample 3 predicted...\n",
      "Unscreended sample 4 predicted...\n",
      "Unscreended sample 5 predicted...\n",
      "Unscreended sample 6 predicted...\n",
      "Unscreended sample 7 predicted...\n",
      "Unscreended sample 8 predicted...\n",
      "Unscreended sample 9 predicted...\n"
     ]
    }
   ],
   "source": [
    "with tf.device('/cpu:0'):\n",
    "    t = time.time()\n",
    "    data_pred = np.zeros((first_to_predict, data_fprint_DepOIs.shape[0]))\n",
    "    for z in np.arange(0, first_to_predict):\n",
    "        data_pred_tmp = model_saved.predict([\n",
    "            # data_mut[np.repeat(z, data_fprint_DepOIs.shape[0])],\n",
    "            data_exp[np.repeat(z, data_fprint_DepOIs.shape[0])],\n",
    "            # data_cna[np.repeat(z, data_fprint_DepOIs.shape[0])],\n",
    "            # data_meth[np.repeat(z, data_fprint_DepOIs.shape[0])],\n",
    "            data_fprint_DepOIs\n",
    "        ], \n",
    "            batch_size=batch_size, verbose=0)\n",
    "        data_pred[z] = np.transpose(data_pred_tmp)\n",
    "        print(\"Unscreended sample %d predicted...\" % z)"
   ]
  },
  {
   "cell_type": "code",
   "execution_count": 8,
   "id": "e5428ca6",
   "metadata": {},
   "outputs": [],
   "source": [
    "# write prediction results to txt\n",
    "data_pred_df = pd.DataFrame(data=np.transpose(data_pred), index=gene_names_fprint, columns=sample_names_mut[0:first_to_predict])"
   ]
  },
  {
   "cell_type": "code",
   "execution_count": 9,
   "id": "1f36b1fd-c23d-4bfe-9ed5-33c7eef3c888",
   "metadata": {},
   "outputs": [
    {
     "data": {
      "text/html": [
       "<div>\n",
       "<style scoped>\n",
       "    .dataframe tbody tr th:only-of-type {\n",
       "        vertical-align: middle;\n",
       "    }\n",
       "\n",
       "    .dataframe tbody tr th {\n",
       "        vertical-align: top;\n",
       "    }\n",
       "\n",
       "    .dataframe thead th {\n",
       "        text-align: right;\n",
       "    }\n",
       "</style>\n",
       "<table border=\"1\" class=\"dataframe\">\n",
       "  <thead>\n",
       "    <tr style=\"text-align: right;\">\n",
       "      <th></th>\n",
       "      <th>SW837</th>\n",
       "      <th>COLO678</th>\n",
       "      <th>PECAPJ15</th>\n",
       "      <th>NCIH211</th>\n",
       "      <th>HUH7</th>\n",
       "      <th>NCIH1836</th>\n",
       "      <th>BHY</th>\n",
       "      <th>P31FUJ</th>\n",
       "      <th>GAMG</th>\n",
       "      <th>SKNAS</th>\n",
       "    </tr>\n",
       "  </thead>\n",
       "  <tbody>\n",
       "    <tr>\n",
       "      <th>AARS2</th>\n",
       "      <td>-0.408114</td>\n",
       "      <td>-0.391395</td>\n",
       "      <td>-0.368480</td>\n",
       "      <td>-0.423975</td>\n",
       "      <td>-0.371855</td>\n",
       "      <td>-0.431483</td>\n",
       "      <td>-0.374573</td>\n",
       "      <td>-0.403777</td>\n",
       "      <td>-0.423936</td>\n",
       "      <td>-0.406856</td>\n",
       "    </tr>\n",
       "    <tr>\n",
       "      <th>AASDHPPT</th>\n",
       "      <td>-0.308414</td>\n",
       "      <td>-0.296563</td>\n",
       "      <td>-0.288115</td>\n",
       "      <td>-0.323961</td>\n",
       "      <td>-0.287482</td>\n",
       "      <td>-0.329810</td>\n",
       "      <td>-0.287008</td>\n",
       "      <td>-0.304365</td>\n",
       "      <td>-0.323926</td>\n",
       "      <td>-0.307162</td>\n",
       "    </tr>\n",
       "    <tr>\n",
       "      <th>ABCE1</th>\n",
       "      <td>-1.835570</td>\n",
       "      <td>-1.857282</td>\n",
       "      <td>-1.888475</td>\n",
       "      <td>-1.814494</td>\n",
       "      <td>-1.883631</td>\n",
       "      <td>-1.803071</td>\n",
       "      <td>-1.880203</td>\n",
       "      <td>-1.841177</td>\n",
       "      <td>-1.814557</td>\n",
       "      <td>-1.836815</td>\n",
       "    </tr>\n",
       "    <tr>\n",
       "      <th>ABCG1</th>\n",
       "      <td>-0.182859</td>\n",
       "      <td>-0.179189</td>\n",
       "      <td>-0.187012</td>\n",
       "      <td>-0.190023</td>\n",
       "      <td>-0.186454</td>\n",
       "      <td>-0.192433</td>\n",
       "      <td>-0.185426</td>\n",
       "      <td>-0.179919</td>\n",
       "      <td>-0.190009</td>\n",
       "      <td>-0.181994</td>\n",
       "    </tr>\n",
       "    <tr>\n",
       "      <th>ABHD11</th>\n",
       "      <td>-0.482753</td>\n",
       "      <td>-0.470009</td>\n",
       "      <td>-0.439564</td>\n",
       "      <td>-0.495434</td>\n",
       "      <td>-0.445417</td>\n",
       "      <td>-0.500681</td>\n",
       "      <td>-0.450117</td>\n",
       "      <td>-0.479503</td>\n",
       "      <td>-0.495406</td>\n",
       "      <td>-0.481810</td>\n",
       "    </tr>\n",
       "    <tr>\n",
       "      <th>...</th>\n",
       "      <td>...</td>\n",
       "      <td>...</td>\n",
       "      <td>...</td>\n",
       "      <td>...</td>\n",
       "      <td>...</td>\n",
       "      <td>...</td>\n",
       "      <td>...</td>\n",
       "      <td>...</td>\n",
       "      <td>...</td>\n",
       "      <td>...</td>\n",
       "    </tr>\n",
       "    <tr>\n",
       "      <th>ZNF384</th>\n",
       "      <td>-0.120732</td>\n",
       "      <td>-0.117148</td>\n",
       "      <td>-0.111664</td>\n",
       "      <td>-0.125219</td>\n",
       "      <td>-0.112616</td>\n",
       "      <td>-0.128158</td>\n",
       "      <td>-0.113383</td>\n",
       "      <td>-0.119785</td>\n",
       "      <td>-0.125204</td>\n",
       "      <td>-0.120469</td>\n",
       "    </tr>\n",
       "    <tr>\n",
       "      <th>ZNF407</th>\n",
       "      <td>-0.868000</td>\n",
       "      <td>-0.848570</td>\n",
       "      <td>-0.818520</td>\n",
       "      <td>-0.883583</td>\n",
       "      <td>-0.822836</td>\n",
       "      <td>-0.890602</td>\n",
       "      <td>-0.826385</td>\n",
       "      <td>-0.863426</td>\n",
       "      <td>-0.883545</td>\n",
       "      <td>-0.866673</td>\n",
       "    </tr>\n",
       "    <tr>\n",
       "      <th>ZNF521</th>\n",
       "      <td>-0.214702</td>\n",
       "      <td>-0.207518</td>\n",
       "      <td>-0.205017</td>\n",
       "      <td>-0.216842</td>\n",
       "      <td>-0.205677</td>\n",
       "      <td>-0.217927</td>\n",
       "      <td>-0.206499</td>\n",
       "      <td>-0.212860</td>\n",
       "      <td>-0.216836</td>\n",
       "      <td>-0.214172</td>\n",
       "    </tr>\n",
       "    <tr>\n",
       "      <th>ZNHIT2</th>\n",
       "      <td>-1.867973</td>\n",
       "      <td>-1.852215</td>\n",
       "      <td>-1.824394</td>\n",
       "      <td>-1.888821</td>\n",
       "      <td>-1.827432</td>\n",
       "      <td>-1.898038</td>\n",
       "      <td>-1.829879</td>\n",
       "      <td>-1.862843</td>\n",
       "      <td>-1.888773</td>\n",
       "      <td>-1.866474</td>\n",
       "    </tr>\n",
       "    <tr>\n",
       "      <th>ZRANB2</th>\n",
       "      <td>-0.452641</td>\n",
       "      <td>-0.445685</td>\n",
       "      <td>-0.433810</td>\n",
       "      <td>-0.458329</td>\n",
       "      <td>-0.436018</td>\n",
       "      <td>-0.462030</td>\n",
       "      <td>-0.437797</td>\n",
       "      <td>-0.451842</td>\n",
       "      <td>-0.458309</td>\n",
       "      <td>-0.452341</td>\n",
       "    </tr>\n",
       "  </tbody>\n",
       "</table>\n",
       "<p>1298 rows × 10 columns</p>\n",
       "</div>"
      ],
      "text/plain": [
       "             SW837   COLO678  PECAPJ15   NCIH211      HUH7  NCIH1836  \\\n",
       "AARS2    -0.408114 -0.391395 -0.368480 -0.423975 -0.371855 -0.431483   \n",
       "AASDHPPT -0.308414 -0.296563 -0.288115 -0.323961 -0.287482 -0.329810   \n",
       "ABCE1    -1.835570 -1.857282 -1.888475 -1.814494 -1.883631 -1.803071   \n",
       "ABCG1    -0.182859 -0.179189 -0.187012 -0.190023 -0.186454 -0.192433   \n",
       "ABHD11   -0.482753 -0.470009 -0.439564 -0.495434 -0.445417 -0.500681   \n",
       "...            ...       ...       ...       ...       ...       ...   \n",
       "ZNF384   -0.120732 -0.117148 -0.111664 -0.125219 -0.112616 -0.128158   \n",
       "ZNF407   -0.868000 -0.848570 -0.818520 -0.883583 -0.822836 -0.890602   \n",
       "ZNF521   -0.214702 -0.207518 -0.205017 -0.216842 -0.205677 -0.217927   \n",
       "ZNHIT2   -1.867973 -1.852215 -1.824394 -1.888821 -1.827432 -1.898038   \n",
       "ZRANB2   -0.452641 -0.445685 -0.433810 -0.458329 -0.436018 -0.462030   \n",
       "\n",
       "               BHY    P31FUJ      GAMG     SKNAS  \n",
       "AARS2    -0.374573 -0.403777 -0.423936 -0.406856  \n",
       "AASDHPPT -0.287008 -0.304365 -0.323926 -0.307162  \n",
       "ABCE1    -1.880203 -1.841177 -1.814557 -1.836815  \n",
       "ABCG1    -0.185426 -0.179919 -0.190009 -0.181994  \n",
       "ABHD11   -0.450117 -0.479503 -0.495406 -0.481810  \n",
       "...            ...       ...       ...       ...  \n",
       "ZNF384   -0.113383 -0.119785 -0.125204 -0.120469  \n",
       "ZNF407   -0.826385 -0.863426 -0.883545 -0.866673  \n",
       "ZNF521   -0.206499 -0.212860 -0.216836 -0.214172  \n",
       "ZNHIT2   -1.829879 -1.862843 -1.888773 -1.866474  \n",
       "ZRANB2   -0.437797 -0.451842 -0.458309 -0.452341  \n",
       "\n",
       "[1298 rows x 10 columns]"
      ]
     },
     "execution_count": 9,
     "metadata": {},
     "output_type": "execute_result"
    }
   ],
   "source": [
    "data_pred_df"
   ]
  },
  {
   "cell_type": "code",
   "execution_count": null,
   "id": "0da5f2b7-7b1c-4b89-93d9-30d5c284996b",
   "metadata": {},
   "outputs": [],
   "source": [
    "# write prediction results to txt\n",
    "data_pred_df = pd.DataFrame(data=np.transpose(data_pred), index=gene_names_fprint, columns=sample_names_mut[0:first_to_predict])"
   ]
  },
  {
   "cell_type": "code",
   "execution_count": null,
   "id": "0e7b6730-cca1-46c2-8d3b-c1ac39cd3607",
   "metadata": {},
   "outputs": [],
   "source": [
    "data_pred_df"
   ]
  },
  {
   "cell_type": "code",
   "execution_count": null,
   "id": "9c1147fa-226e-4955-be38-af675838ba0f",
   "metadata": {},
   "outputs": [],
   "source": []
  },
  {
   "cell_type": "code",
   "execution_count": null,
   "id": "a54b423f-562c-4c8f-8f32-738b6c0c0bef",
   "metadata": {},
   "outputs": [],
   "source": []
  },
  {
   "cell_type": "code",
   "execution_count": null,
   "id": "de91007d-713c-42d4-9ded-2d7897472127",
   "metadata": {},
   "outputs": [],
   "source": []
  },
  {
   "cell_type": "code",
   "execution_count": 10,
   "id": "fe33ac6b",
   "metadata": {},
   "outputs": [],
   "source": [
    "data_pred_df.to_csv('custom_exp.csv')"
   ]
  },
  {
   "cell_type": "code",
   "execution_count": null,
   "id": "1288ebcf",
   "metadata": {},
   "outputs": [],
   "source": [
    "# pd.DataFrame.to_csv(data_pred_df, path_or_buf=\"/results/predictions/tcga_predicted_data_%s_demo.txt\" % model_name, sep='\\t', index_label='CRISPR_GENE', float_format='%.4f')\n",
    "# print(\"\\n\\nPrediction completed in %.1f mins.\\nResults saved in /results/predictions/tcga_predicted_data_%s_demo.txt\\n\\n\" % (\n",
    "#     (time.time()-t)/60, model_name))"
   ]
  }
 ],
 "metadata": {
  "kernelspec": {
   "display_name": "DeepDEP",
   "language": "python",
   "name": "deepdep"
  },
  "language_info": {
   "codemirror_mode": {
    "name": "ipython",
    "version": 3
   },
   "file_extension": ".py",
   "mimetype": "text/x-python",
   "name": "python",
   "nbconvert_exporter": "python",
   "pygments_lexer": "ipython3",
   "version": "3.7.13"
  }
 },
 "nbformat": 4,
 "nbformat_minor": 5
}
