{
 "cells": [
  {
   "cell_type": "code",
   "execution_count": 1,
   "id": "2fc5d164",
   "metadata": {},
   "outputs": [
    {
     "data": {
      "text/html": [
       "<style type='text/css'>\n",
       ".datatable table.frame { margin-bottom: 0; }\n",
       ".datatable table.frame thead { border-bottom: none; }\n",
       ".datatable table.frame tr.coltypes td {  color: #FFFFFF;  line-height: 6px;  padding: 0 0.5em;}\n",
       ".datatable .bool    { background: #DDDD99; }\n",
       ".datatable .object  { background: #565656; }\n",
       ".datatable .int     { background: #5D9E5D; }\n",
       ".datatable .float   { background: #4040CC; }\n",
       ".datatable .str     { background: #CC4040; }\n",
       ".datatable .row_index {  background: var(--jp-border-color3);  border-right: 1px solid var(--jp-border-color0);  color: var(--jp-ui-font-color3);  font-size: 9px;}\n",
       ".datatable .frame tr.coltypes .row_index {  background: var(--jp-border-color0);}\n",
       ".datatable th:nth-child(2) { padding-left: 12px; }\n",
       ".datatable .hellipsis {  color: var(--jp-cell-editor-border-color);}\n",
       ".datatable .vellipsis {  background: var(--jp-layout-color0);  color: var(--jp-cell-editor-border-color);}\n",
       ".datatable .na {  color: var(--jp-cell-editor-border-color);  font-size: 80%;}\n",
       ".datatable .footer { font-size: 9px; }\n",
       ".datatable .frame_dimensions {  background: var(--jp-border-color3);  border-top: 1px solid var(--jp-border-color0);  color: var(--jp-ui-font-color3);  display: inline-block;  opacity: 0.6;  padding: 1px 10px 1px 5px;}\n",
       "</style>\n"
      ],
      "text/plain": [
       "<IPython.core.display.HTML object>"
      ]
     },
     "metadata": {},
     "output_type": "display_data"
    },
    {
     "name": "stderr",
     "output_type": "stream",
     "text": [
      "/home/wmbio/anaconda3/envs/deepdep_paper/lib/python3.5/site-packages/tensorflow/python/framework/dtypes.py:469: FutureWarning: Passing (type, 1) or '1type' as a synonym of type is deprecated; in a future version of numpy, it will be understood as (type, (1,)) / '(1,)type'.\n",
      "  _np_qint8 = np.dtype([(\"qint8\", np.int8, 1)])\n",
      "/home/wmbio/anaconda3/envs/deepdep_paper/lib/python3.5/site-packages/tensorflow/python/framework/dtypes.py:470: FutureWarning: Passing (type, 1) or '1type' as a synonym of type is deprecated; in a future version of numpy, it will be understood as (type, (1,)) / '(1,)type'.\n",
      "  _np_quint8 = np.dtype([(\"quint8\", np.uint8, 1)])\n",
      "/home/wmbio/anaconda3/envs/deepdep_paper/lib/python3.5/site-packages/tensorflow/python/framework/dtypes.py:471: FutureWarning: Passing (type, 1) or '1type' as a synonym of type is deprecated; in a future version of numpy, it will be understood as (type, (1,)) / '(1,)type'.\n",
      "  _np_qint16 = np.dtype([(\"qint16\", np.int16, 1)])\n",
      "/home/wmbio/anaconda3/envs/deepdep_paper/lib/python3.5/site-packages/tensorflow/python/framework/dtypes.py:472: FutureWarning: Passing (type, 1) or '1type' as a synonym of type is deprecated; in a future version of numpy, it will be understood as (type, (1,)) / '(1,)type'.\n",
      "  _np_quint16 = np.dtype([(\"quint16\", np.uint16, 1)])\n",
      "/home/wmbio/anaconda3/envs/deepdep_paper/lib/python3.5/site-packages/tensorflow/python/framework/dtypes.py:473: FutureWarning: Passing (type, 1) or '1type' as a synonym of type is deprecated; in a future version of numpy, it will be understood as (type, (1,)) / '(1,)type'.\n",
      "  _np_qint32 = np.dtype([(\"qint32\", np.int32, 1)])\n",
      "/home/wmbio/anaconda3/envs/deepdep_paper/lib/python3.5/site-packages/tensorflow/python/framework/dtypes.py:476: FutureWarning: Passing (type, 1) or '1type' as a synonym of type is deprecated; in a future version of numpy, it will be understood as (type, (1,)) / '(1,)type'.\n",
      "  np_resource = np.dtype([(\"resource\", np.ubyte, 1)])\n",
      "/home/wmbio/anaconda3/envs/deepdep_paper/lib/python3.5/site-packages/h5py/__init__.py:36: FutureWarning: Conversion of the second argument of issubdtype from `float` to `np.floating` is deprecated. In future, it will be treated as `np.float64 == np.dtype(float).type`.\n",
      "  from ._conv import register_converters as _register_converters\n",
      "Using TensorFlow backend.\n"
     ]
    }
   ],
   "source": [
    "from function import *"
   ]
  },
  {
   "cell_type": "code",
   "execution_count": 2,
   "id": "8b9b7fa2",
   "metadata": {},
   "outputs": [
    {
     "name": "stdout",
     "output_type": "stream",
     "text": [
      "/home/wmbio/WORK/gitworking/Dependency_prediction/prediction/src\n",
      "/home/wmbio/WORK/gitworking/Dependency_prediction\n"
     ]
    }
   ],
   "source": [
    "print(os.getcwd())\n",
    "os.chdir(\"/home/wmbio/WORK/gitworking/Dependency_prediction/\")\n",
    "print(os.getcwd())"
   ]
  },
  {
   "cell_type": "code",
   "execution_count": 3,
   "id": "22a57f1e",
   "metadata": {
    "tags": []
   },
   "outputs": [],
   "source": [
    "with tf.device('/cpu:0'):\n",
    "    model_name = \"model_ccl501_exp_0801\"\n",
    "    # model_saved = tf.keras.models.load_model(\"prediction/custom_model/%s.h5\" % model_name)\n",
    "    model_saved = models.load_model(\"prediction/custom_model/%s.h5\" % model_name)\n",
    "    \n",
    "    # model_name = \"model_paper\"\n",
    "    # model_saved = models.load_model(\"prediction/model/%s.h5\" % model_name)\n",
    "# model_paper is the full 4-omics DeepDEP model used in the paper\n",
    "# user can choose from single-omics, 2-omics, or full DeepDEP models from the\n",
    "# /data/full_results_models_paper/models/ directory"
   ]
  },
  {
   "cell_type": "markdown",
   "id": "adb1df82",
   "metadata": {},
   "source": [
    "* **Predict Set load**"
   ]
  },
  {
   "cell_type": "code",
   "execution_count": 4,
   "id": "1d005518-a646-49a5-832c-240d2d3b3793",
   "metadata": {},
   "outputs": [],
   "source": [
    "PREDICT_PATH = \"preprocessing/DATA/2022-07-29/\""
   ]
  },
  {
   "cell_type": "code",
   "execution_count": 5,
   "id": "163a1539",
   "metadata": {},
   "outputs": [
    {
     "name": "stdout",
     "output_type": "stream",
     "text": [
      "\n",
      "\n",
      "Datasets successfully loaded.\n",
      "\n",
      "\n"
     ]
    }
   ],
   "source": [
    "# load TCGA genomics data and gene fingerprints\n",
    "data_mut, data_labels_mut, sample_names_mut, gene_names_mut = load_data_prediction(PREDICT_PATH + \"predict_mut_prediction.txt\")\n",
    "data_exp, data_labels_exp, sample_names_exp, gene_names_exp = load_data_prediction(PREDICT_PATH + \"predict_exp_prediction.txt\")\n",
    "data_cna, data_labels_cna, sample_names_cna, gene_names_cna = load_data_prediction(PREDICT_PATH + \"predict_cna_prediction.txt\")\n",
    "data_meth, data_labels_meth, sample_names_meth, gene_names_meth = load_data_prediction(PREDICT_PATH + \"predict_meth_prediction.txt\")\n",
    "data_fprint_DepOIs, data_labels_fprint, gene_names_fprint, function_names_fprint = load_data_prediction(PREDICT_PATH + \"predict_fingerprint_prediction.txt\")\n",
    "print(\"\\n\\nDatasets successfully loaded.\\n\\n\")"
   ]
  },
  {
   "cell_type": "code",
   "execution_count": 7,
   "id": "004b9734-ac52-4883-87df-f0651a157488",
   "metadata": {},
   "outputs": [
    {
     "data": {
      "text/html": [
       "<div>\n",
       "<style scoped>\n",
       "    .dataframe tbody tr th:only-of-type {\n",
       "        vertical-align: middle;\n",
       "    }\n",
       "\n",
       "    .dataframe tbody tr th {\n",
       "        vertical-align: top;\n",
       "    }\n",
       "\n",
       "    .dataframe thead th {\n",
       "        text-align: right;\n",
       "    }\n",
       "</style>\n",
       "<table border=\"1\" class=\"dataframe\">\n",
       "  <thead>\n",
       "    <tr style=\"text-align: right;\">\n",
       "      <th></th>\n",
       "      <th>0</th>\n",
       "      <th>1</th>\n",
       "      <th>2</th>\n",
       "      <th>3</th>\n",
       "      <th>4</th>\n",
       "      <th>5</th>\n",
       "      <th>6</th>\n",
       "      <th>7</th>\n",
       "      <th>8</th>\n",
       "      <th>9</th>\n",
       "      <th>...</th>\n",
       "      <th>6006</th>\n",
       "      <th>6007</th>\n",
       "      <th>6008</th>\n",
       "      <th>6009</th>\n",
       "      <th>6010</th>\n",
       "      <th>6011</th>\n",
       "      <th>6012</th>\n",
       "      <th>6013</th>\n",
       "      <th>6014</th>\n",
       "      <th>6015</th>\n",
       "    </tr>\n",
       "  </thead>\n",
       "  <tbody>\n",
       "    <tr>\n",
       "      <th>0</th>\n",
       "      <td>5.5948</td>\n",
       "      <td>1.4542</td>\n",
       "      <td>0.0144</td>\n",
       "      <td>0.2750</td>\n",
       "      <td>3.5435</td>\n",
       "      <td>3.3420</td>\n",
       "      <td>0.7137</td>\n",
       "      <td>0.2388</td>\n",
       "      <td>0.6508</td>\n",
       "      <td>3.3674</td>\n",
       "      <td>...</td>\n",
       "      <td>0.0141</td>\n",
       "      <td>3.7371</td>\n",
       "      <td>0.1948</td>\n",
       "      <td>2.6169</td>\n",
       "      <td>0.5883</td>\n",
       "      <td>3.0723</td>\n",
       "      <td>1.4847</td>\n",
       "      <td>4.65</td>\n",
       "      <td>0.4107</td>\n",
       "      <td>0.4151</td>\n",
       "    </tr>\n",
       "    <tr>\n",
       "      <th>1</th>\n",
       "      <td>5.1914</td>\n",
       "      <td>0.1890</td>\n",
       "      <td>0.0000</td>\n",
       "      <td>3.3505</td>\n",
       "      <td>2.7485</td>\n",
       "      <td>3.2373</td>\n",
       "      <td>1.1309</td>\n",
       "      <td>3.6904</td>\n",
       "      <td>3.4944</td>\n",
       "      <td>5.4912</td>\n",
       "      <td>...</td>\n",
       "      <td>0.0141</td>\n",
       "      <td>3.7371</td>\n",
       "      <td>0.1948</td>\n",
       "      <td>2.6169</td>\n",
       "      <td>0.5883</td>\n",
       "      <td>3.0723</td>\n",
       "      <td>1.4847</td>\n",
       "      <td>4.65</td>\n",
       "      <td>0.4107</td>\n",
       "      <td>0.4151</td>\n",
       "    </tr>\n",
       "    <tr>\n",
       "      <th>2</th>\n",
       "      <td>5.3618</td>\n",
       "      <td>0.2265</td>\n",
       "      <td>0.0144</td>\n",
       "      <td>0.0286</td>\n",
       "      <td>0.0144</td>\n",
       "      <td>1.2869</td>\n",
       "      <td>0.0286</td>\n",
       "      <td>1.8520</td>\n",
       "      <td>1.2869</td>\n",
       "      <td>4.7522</td>\n",
       "      <td>...</td>\n",
       "      <td>0.0141</td>\n",
       "      <td>3.7371</td>\n",
       "      <td>0.1948</td>\n",
       "      <td>2.6169</td>\n",
       "      <td>0.5883</td>\n",
       "      <td>3.0723</td>\n",
       "      <td>1.4847</td>\n",
       "      <td>4.65</td>\n",
       "      <td>0.4107</td>\n",
       "      <td>0.4151</td>\n",
       "    </tr>\n",
       "  </tbody>\n",
       "</table>\n",
       "<p>3 rows × 6016 columns</p>\n",
       "</div>"
      ],
      "text/plain": [
       "     0       1       2       3       4       5       6       7       8     \\\n",
       "0  5.5948  1.4542  0.0144  0.2750  3.5435  3.3420  0.7137  0.2388  0.6508   \n",
       "1  5.1914  0.1890  0.0000  3.3505  2.7485  3.2373  1.1309  3.6904  3.4944   \n",
       "2  5.3618  0.2265  0.0144  0.0286  0.0144  1.2869  0.0286  1.8520  1.2869   \n",
       "\n",
       "     9     ...    6006    6007    6008    6009    6010    6011    6012  6013  \\\n",
       "0  3.3674  ...  0.0141  3.7371  0.1948  2.6169  0.5883  3.0723  1.4847  4.65   \n",
       "1  5.4912  ...  0.0141  3.7371  0.1948  2.6169  0.5883  3.0723  1.4847  4.65   \n",
       "2  4.7522  ...  0.0141  3.7371  0.1948  2.6169  0.5883  3.0723  1.4847  4.65   \n",
       "\n",
       "     6014    6015  \n",
       "0  0.4107  0.4151  \n",
       "1  0.4107  0.4151  \n",
       "2  0.4107  0.4151  \n",
       "\n",
       "[3 rows x 6016 columns]"
      ]
     },
     "execution_count": 7,
     "metadata": {},
     "output_type": "execute_result"
    }
   ],
   "source": [
    "pd.DataFrame(data_exp)"
   ]
  },
  {
   "cell_type": "code",
   "execution_count": 6,
   "id": "4d75a7ca",
   "metadata": {},
   "outputs": [],
   "source": [
    "batch_size = 300\n",
    "first_to_predict = 3\n",
    "# predict the first 10 samples for DEMO ONLY, for all samples please substitute 10 by data_mut_tcga.shape[0]\n",
    "# prediction results of all 8238 TCGA samples can be found in /data/full_results_models_paper/predictions/"
   ]
  },
  {
   "cell_type": "code",
   "execution_count": 8,
   "id": "58b6a4d2",
   "metadata": {
    "tags": []
   },
   "outputs": [
    {
     "name": "stdout",
     "output_type": "stream",
     "text": [
      "Unscreended sample 0 predicted...\n",
      "Unscreended sample 1 predicted...\n",
      "Unscreended sample 2 predicted...\n"
     ]
    }
   ],
   "source": [
    "with tf.device('/cpu:0'):\n",
    "    t = time.time()\n",
    "    data_pred = np.zeros((first_to_predict, data_fprint_DepOIs.shape[0]))\n",
    "    for z in np.arange(0, first_to_predict):\n",
    "        data_pred_tmp = model_saved.predict([\n",
    "            # data_mut[np.repeat(z, data_fprint_DepOIs.shape[0])],\n",
    "            data_exp[np.repeat(z, data_fprint_DepOIs.shape[0])],\n",
    "            # data_cna[np.repeat(z, data_fprint_DepOIs.shape[0])],\n",
    "            # data_meth[np.repeat(z, data_fprint_DepOIs.shape[0])],\n",
    "            data_fprint_DepOIs\n",
    "        ], \n",
    "            batch_size=batch_size, verbose=0)\n",
    "        data_pred[z] = np.transpose(data_pred_tmp)\n",
    "        print(\"Unscreended sample %d predicted...\" % z)"
   ]
  },
  {
   "cell_type": "code",
   "execution_count": 9,
   "id": "e5428ca6",
   "metadata": {},
   "outputs": [],
   "source": [
    "# write prediction results to txt\n",
    "data_pred_df = pd.DataFrame(data=np.transpose(data_pred), index=gene_names_fprint, columns=sample_names_mut[0:first_to_predict])"
   ]
  },
  {
   "cell_type": "code",
   "execution_count": 10,
   "id": "3112c79a-8da8-4f4b-aade-6f865d68034e",
   "metadata": {},
   "outputs": [
    {
     "data": {
      "text/html": [
       "<div>\n",
       "<style scoped>\n",
       "    .dataframe tbody tr th:only-of-type {\n",
       "        vertical-align: middle;\n",
       "    }\n",
       "\n",
       "    .dataframe tbody tr th {\n",
       "        vertical-align: top;\n",
       "    }\n",
       "\n",
       "    .dataframe thead th {\n",
       "        text-align: right;\n",
       "    }\n",
       "</style>\n",
       "<table border=\"1\" class=\"dataframe\">\n",
       "  <thead>\n",
       "    <tr style=\"text-align: right;\">\n",
       "      <th></th>\n",
       "      <th>IPC298</th>\n",
       "      <th>LOUNH91</th>\n",
       "      <th>697</th>\n",
       "    </tr>\n",
       "  </thead>\n",
       "  <tbody>\n",
       "    <tr>\n",
       "      <th>AARS2</th>\n",
       "      <td>-0.598703</td>\n",
       "      <td>-0.348848</td>\n",
       "      <td>-0.682092</td>\n",
       "    </tr>\n",
       "    <tr>\n",
       "      <th>AASDHPPT</th>\n",
       "      <td>-0.372834</td>\n",
       "      <td>-0.344013</td>\n",
       "      <td>-0.347587</td>\n",
       "    </tr>\n",
       "    <tr>\n",
       "      <th>ABCE1</th>\n",
       "      <td>-1.729119</td>\n",
       "      <td>-1.821973</td>\n",
       "      <td>-1.717104</td>\n",
       "    </tr>\n",
       "    <tr>\n",
       "      <th>ABCG1</th>\n",
       "      <td>-0.164801</td>\n",
       "      <td>-0.065012</td>\n",
       "      <td>-0.177922</td>\n",
       "    </tr>\n",
       "    <tr>\n",
       "      <th>ABHD11</th>\n",
       "      <td>-0.297646</td>\n",
       "      <td>-0.254907</td>\n",
       "      <td>-0.361583</td>\n",
       "    </tr>\n",
       "    <tr>\n",
       "      <th>...</th>\n",
       "      <td>...</td>\n",
       "      <td>...</td>\n",
       "      <td>...</td>\n",
       "    </tr>\n",
       "    <tr>\n",
       "      <th>ZNF384</th>\n",
       "      <td>-0.042220</td>\n",
       "      <td>-0.009582</td>\n",
       "      <td>-0.055962</td>\n",
       "    </tr>\n",
       "    <tr>\n",
       "      <th>ZNF407</th>\n",
       "      <td>-0.628823</td>\n",
       "      <td>-0.644714</td>\n",
       "      <td>-0.677912</td>\n",
       "    </tr>\n",
       "    <tr>\n",
       "      <th>ZNF521</th>\n",
       "      <td>-0.018793</td>\n",
       "      <td>0.031740</td>\n",
       "      <td>-0.037457</td>\n",
       "    </tr>\n",
       "    <tr>\n",
       "      <th>ZNHIT2</th>\n",
       "      <td>-1.848377</td>\n",
       "      <td>-1.731368</td>\n",
       "      <td>-1.910353</td>\n",
       "    </tr>\n",
       "    <tr>\n",
       "      <th>ZRANB2</th>\n",
       "      <td>-0.378742</td>\n",
       "      <td>-0.344280</td>\n",
       "      <td>-0.392449</td>\n",
       "    </tr>\n",
       "  </tbody>\n",
       "</table>\n",
       "<p>1298 rows × 3 columns</p>\n",
       "</div>"
      ],
      "text/plain": [
       "            IPC298   LOUNH91       697\n",
       "AARS2    -0.598703 -0.348848 -0.682092\n",
       "AASDHPPT -0.372834 -0.344013 -0.347587\n",
       "ABCE1    -1.729119 -1.821973 -1.717104\n",
       "ABCG1    -0.164801 -0.065012 -0.177922\n",
       "ABHD11   -0.297646 -0.254907 -0.361583\n",
       "...            ...       ...       ...\n",
       "ZNF384   -0.042220 -0.009582 -0.055962\n",
       "ZNF407   -0.628823 -0.644714 -0.677912\n",
       "ZNF521   -0.018793  0.031740 -0.037457\n",
       "ZNHIT2   -1.848377 -1.731368 -1.910353\n",
       "ZRANB2   -0.378742 -0.344280 -0.392449\n",
       "\n",
       "[1298 rows x 3 columns]"
      ]
     },
     "execution_count": 10,
     "metadata": {},
     "output_type": "execute_result"
    }
   ],
   "source": [
    "data_pred_df"
   ]
  },
  {
   "cell_type": "code",
   "execution_count": null,
   "id": "07e3072c-4efe-498f-9d94-e6a117527f56",
   "metadata": {},
   "outputs": [],
   "source": []
  },
  {
   "cell_type": "code",
   "execution_count": null,
   "id": "d596c27e-8e5c-4150-898f-7c22ec27d2aa",
   "metadata": {},
   "outputs": [],
   "source": [
    "model_saved.predict([\n",
    "            # data_mut[np.repeat(z, data_fprint_DepOIs.shape[0])],\n",
    "            data_exp[np.repeat(z, data_fprint_DepOIs.shape[0])],\n",
    "            # data_cna[np.repeat(z, data_fprint_DepOIs.shape[0])],\n",
    "            # data_meth[np.repeat(z, data_fprint_DepOIs.shape[0])],\n",
    "            data_fprint_DepOIs\n",
    "        ], \n",
    "            batch_size=batch_size, verbose=0)"
   ]
  },
  {
   "cell_type": "code",
   "execution_count": null,
   "id": "a68255d3-3c7d-4d50-bcb8-a549a7b2e0a4",
   "metadata": {},
   "outputs": [],
   "source": [
    "model_saved.predict([\n",
    "            # data_mut[np.repeat(z, data_fprint_DepOIs.shape[0])],\n",
    "            data_exp[np.repeat(z, data_fprint_DepOIs.shape[0])],\n",
    "            # data_cna[np.repeat(z, data_fprint_DepOIs.shape[0])],\n",
    "            # data_meth[np.repeat(z, data_fprint_DepOIs.shape[0])],\n",
    "            data_fprint_DepOIs\n",
    "        ], \n",
    "            batch_size=batch_size, verbose=0)"
   ]
  },
  {
   "cell_type": "code",
   "execution_count": null,
   "id": "fe33ac6b",
   "metadata": {},
   "outputs": [],
   "source": [
    "data_pred_df.to_csv('custom_mut_exp.csv')"
   ]
  },
  {
   "cell_type": "code",
   "execution_count": null,
   "id": "1288ebcf",
   "metadata": {},
   "outputs": [],
   "source": [
    "# pd.DataFrame.to_csv(data_pred_df, path_or_buf=\"/results/predictions/tcga_predicted_data_%s_demo.txt\" % model_name, sep='\\t', index_label='CRISPR_GENE', float_format='%.4f')\n",
    "# print(\"\\n\\nPrediction completed in %.1f mins.\\nResults saved in /results/predictions/tcga_predicted_data_%s_demo.txt\\n\\n\" % (\n",
    "#     (time.time()-t)/60, model_name))"
   ]
  }
 ],
 "metadata": {
  "kernelspec": {
   "display_name": "DeepDEP_paper",
   "language": "python",
   "name": "deepdep_paper"
  },
  "language_info": {
   "codemirror_mode": {
    "name": "ipython",
    "version": 3
   },
   "file_extension": ".py",
   "mimetype": "text/x-python",
   "name": "python",
   "nbconvert_exporter": "python",
   "pygments_lexer": "ipython3",
   "version": "3.5.6"
  }
 },
 "nbformat": 4,
 "nbformat_minor": 5
}
