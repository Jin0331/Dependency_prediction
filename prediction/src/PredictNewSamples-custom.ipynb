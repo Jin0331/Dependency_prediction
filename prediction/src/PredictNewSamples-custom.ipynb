{
 "cells": [
  {
   "cell_type": "code",
   "execution_count": 11,
   "id": "2fc5d164",
   "metadata": {},
   "outputs": [],
   "source": [
    "from function import *"
   ]
  },
  {
   "cell_type": "code",
   "execution_count": 12,
   "id": "8b9b7fa2",
   "metadata": {},
   "outputs": [
    {
     "name": "stdout",
     "output_type": "stream",
     "text": [
      "/home/wmbio/WORK/gitworking/Dependency_prediction\n",
      "/home/wmbio/WORK/gitworking/Dependency_prediction\n"
     ]
    }
   ],
   "source": [
    "print(os.getcwd())\n",
    "os.chdir(\"/home/wmbio/WORK/gitworking/Dependency_prediction/\")\n",
    "print(os.getcwd())"
   ]
  },
  {
   "cell_type": "code",
   "execution_count": 13,
   "id": "22a57f1e",
   "metadata": {
    "tags": []
   },
   "outputs": [],
   "source": [
    "with tf.device('/cpu:0'):\n",
    "    model_name = \"model_full_0801\"\n",
    "    # model_saved = tf.keras.models.load_model(\"prediction/custom_model/%s.h5\" % model_name)\n",
    "    model_saved = models.load_model(\"prediction/custom_model/%s.h5\" % model_name)\n",
    "    \n",
    "    # model_name = \"model_paper\"\n",
    "    # model_saved = models.load_model(\"prediction/model/%s.h5\" % model_name)\n",
    "# model_paper is the full 4-omics DeepDEP model used in the paper\n",
    "# user can choose from single-omics, 2-omics, or full DeepDEP models from the\n",
    "# /data/full_results_models_paper/models/ directory"
   ]
  },
  {
   "cell_type": "markdown",
   "id": "adb1df82",
   "metadata": {},
   "source": [
    "* **Predict Set load**"
   ]
  },
  {
   "cell_type": "code",
   "execution_count": 23,
   "id": "1d005518-a646-49a5-832c-240d2d3b3793",
   "metadata": {},
   "outputs": [],
   "source": [
    "\"\"\"\n",
    "exp..mut..cna..meth\n",
    "exp..mut..cna\n",
    "exp..mut\n",
    "\n",
    "mut..cna..meth\n",
    "\"\"\"\n",
    "PREDICT_PATH = \"preprocessing/PREDICTION/2022-08-01/\""
   ]
  },
  {
   "cell_type": "code",
   "execution_count": null,
   "id": "141e374d-0f2a-4056-ba38-1b27f4b8532c",
   "metadata": {},
   "outputs": [],
   "source": []
  },
  {
   "cell_type": "code",
   "execution_count": 24,
   "id": "e9cfde87-846a-428a-a8ed-0f7c2dd5e6a7",
   "metadata": {},
   "outputs": [],
   "source": [
    "barcode = \"exp..mut..cna..meth\""
   ]
  },
  {
   "cell_type": "code",
   "execution_count": 15,
   "id": "163a1539",
   "metadata": {},
   "outputs": [
    {
     "name": "stdout",
     "output_type": "stream",
     "text": [
      "\n",
      "\n",
      "Datasets successfully loaded.\n",
      "\n",
      "\n"
     ]
    }
   ],
   "source": [
    "# load TCGA genomics data and gene fingerprints\n",
    "data_mut, data_labels_mut, sample_names_mut, gene_names_mut = load_data_prediction(PREDICT_PATH + \"predict_mut_\" + barcode + \".txt\")\n",
    "data_exp, data_labels_exp, sample_names_exp, gene_names_exp = load_data_prediction(PREDICT_PATH + \"predict_exp_\" + barcode + \".txt\")\n",
    "data_cna, data_labels_cna, sample_names_cna, gene_names_cna = load_data_prediction(PREDICT_PATH + \"predict_cna_\" + barcode + \".txt\")\n",
    "data_meth, data_labels_meth, sample_names_meth, gene_names_meth = load_data_prediction(PREDICT_PATH + \"predict_meth_prediction.txt\")\n",
    "data_fprint_DepOIs, data_labels_fprint, gene_names_fprint, function_names_fprint = load_data_prediction(PREDICT_PATH + \"predict_fingerprint_prediction.txt\")\n",
    "print(\"\\n\\nDatasets successfully loaded.\\n\\n\")"
   ]
  },
  {
   "cell_type": "code",
   "execution_count": 16,
   "id": "004b9734-ac52-4883-87df-f0651a157488",
   "metadata": {},
   "outputs": [
    {
     "data": {
      "text/html": [
       "<div>\n",
       "<style scoped>\n",
       "    .dataframe tbody tr th:only-of-type {\n",
       "        vertical-align: middle;\n",
       "    }\n",
       "\n",
       "    .dataframe tbody tr th {\n",
       "        vertical-align: top;\n",
       "    }\n",
       "\n",
       "    .dataframe thead th {\n",
       "        text-align: right;\n",
       "    }\n",
       "</style>\n",
       "<table border=\"1\" class=\"dataframe\">\n",
       "  <thead>\n",
       "    <tr style=\"text-align: right;\">\n",
       "      <th></th>\n",
       "      <th>0</th>\n",
       "      <th>1</th>\n",
       "      <th>2</th>\n",
       "      <th>3</th>\n",
       "      <th>4</th>\n",
       "      <th>5</th>\n",
       "      <th>6</th>\n",
       "      <th>7</th>\n",
       "      <th>8</th>\n",
       "      <th>9</th>\n",
       "      <th>...</th>\n",
       "      <th>6006</th>\n",
       "      <th>6007</th>\n",
       "      <th>6008</th>\n",
       "      <th>6009</th>\n",
       "      <th>6010</th>\n",
       "      <th>6011</th>\n",
       "      <th>6012</th>\n",
       "      <th>6013</th>\n",
       "      <th>6014</th>\n",
       "      <th>6015</th>\n",
       "    </tr>\n",
       "  </thead>\n",
       "  <tbody>\n",
       "    <tr>\n",
       "      <th>0</th>\n",
       "      <td>5.5948</td>\n",
       "      <td>1.4542</td>\n",
       "      <td>0.0144</td>\n",
       "      <td>0.2750</td>\n",
       "      <td>3.5435</td>\n",
       "      <td>3.3420</td>\n",
       "      <td>0.7137</td>\n",
       "      <td>0.2388</td>\n",
       "      <td>0.6508</td>\n",
       "      <td>3.3674</td>\n",
       "      <td>...</td>\n",
       "      <td>0.0141</td>\n",
       "      <td>3.7371</td>\n",
       "      <td>0.1948</td>\n",
       "      <td>2.6169</td>\n",
       "      <td>0.5883</td>\n",
       "      <td>3.0723</td>\n",
       "      <td>1.4847</td>\n",
       "      <td>4.65</td>\n",
       "      <td>0.4107</td>\n",
       "      <td>0.4151</td>\n",
       "    </tr>\n",
       "    <tr>\n",
       "      <th>1</th>\n",
       "      <td>5.1914</td>\n",
       "      <td>0.1890</td>\n",
       "      <td>0.0000</td>\n",
       "      <td>3.3505</td>\n",
       "      <td>2.7485</td>\n",
       "      <td>3.2373</td>\n",
       "      <td>1.1309</td>\n",
       "      <td>3.6904</td>\n",
       "      <td>3.4944</td>\n",
       "      <td>5.4912</td>\n",
       "      <td>...</td>\n",
       "      <td>0.0141</td>\n",
       "      <td>3.7371</td>\n",
       "      <td>0.1948</td>\n",
       "      <td>2.6169</td>\n",
       "      <td>0.5883</td>\n",
       "      <td>3.0723</td>\n",
       "      <td>1.4847</td>\n",
       "      <td>4.65</td>\n",
       "      <td>0.4107</td>\n",
       "      <td>0.4151</td>\n",
       "    </tr>\n",
       "    <tr>\n",
       "      <th>2</th>\n",
       "      <td>5.3618</td>\n",
       "      <td>0.2265</td>\n",
       "      <td>0.0144</td>\n",
       "      <td>0.0286</td>\n",
       "      <td>0.0144</td>\n",
       "      <td>1.2869</td>\n",
       "      <td>0.0286</td>\n",
       "      <td>1.8520</td>\n",
       "      <td>1.2869</td>\n",
       "      <td>4.7522</td>\n",
       "      <td>...</td>\n",
       "      <td>0.0141</td>\n",
       "      <td>3.7371</td>\n",
       "      <td>0.1948</td>\n",
       "      <td>2.6169</td>\n",
       "      <td>0.5883</td>\n",
       "      <td>3.0723</td>\n",
       "      <td>1.4847</td>\n",
       "      <td>4.65</td>\n",
       "      <td>0.4107</td>\n",
       "      <td>0.4151</td>\n",
       "    </tr>\n",
       "  </tbody>\n",
       "</table>\n",
       "<p>3 rows × 6016 columns</p>\n",
       "</div>"
      ],
      "text/plain": [
       "     0       1       2       3       4       5       6       7       8     \\\n",
       "0  5.5948  1.4542  0.0144  0.2750  3.5435  3.3420  0.7137  0.2388  0.6508   \n",
       "1  5.1914  0.1890  0.0000  3.3505  2.7485  3.2373  1.1309  3.6904  3.4944   \n",
       "2  5.3618  0.2265  0.0144  0.0286  0.0144  1.2869  0.0286  1.8520  1.2869   \n",
       "\n",
       "     9     ...    6006    6007    6008    6009    6010    6011    6012  6013  \\\n",
       "0  3.3674  ...  0.0141  3.7371  0.1948  2.6169  0.5883  3.0723  1.4847  4.65   \n",
       "1  5.4912  ...  0.0141  3.7371  0.1948  2.6169  0.5883  3.0723  1.4847  4.65   \n",
       "2  4.7522  ...  0.0141  3.7371  0.1948  2.6169  0.5883  3.0723  1.4847  4.65   \n",
       "\n",
       "     6014    6015  \n",
       "0  0.4107  0.4151  \n",
       "1  0.4107  0.4151  \n",
       "2  0.4107  0.4151  \n",
       "\n",
       "[3 rows x 6016 columns]"
      ]
     },
     "execution_count": 16,
     "metadata": {},
     "output_type": "execute_result"
    }
   ],
   "source": [
    "pd.DataFrame(data_exp)"
   ]
  },
  {
   "cell_type": "code",
   "execution_count": 17,
   "id": "4d75a7ca",
   "metadata": {},
   "outputs": [],
   "source": [
    "batch_size = 300\n",
    "first_to_predict = 3\n",
    "# predict the first 10 samples for DEMO ONLY, for all samples please substitute 10 by data_mut_tcga.shape[0]\n",
    "# prediction results of all 8238 TCGA samples can be found in /data/full_results_models_paper/predictions/"
   ]
  },
  {
   "cell_type": "code",
   "execution_count": 19,
   "id": "58b6a4d2",
   "metadata": {
    "tags": []
   },
   "outputs": [
    {
     "name": "stdout",
     "output_type": "stream",
     "text": [
      "Unscreended sample 0 predicted...\n",
      "Unscreended sample 1 predicted...\n",
      "Unscreended sample 2 predicted...\n"
     ]
    }
   ],
   "source": [
    "with tf.device('/cpu:0'):\n",
    "    t = time.time()\n",
    "    data_pred = np.zeros((first_to_predict, data_fprint_DepOIs.shape[0]))\n",
    "    for z in np.arange(0, first_to_predict):\n",
    "        data_pred_tmp = model_saved.predict([\n",
    "            data_mut[np.repeat(z, data_fprint_DepOIs.shape[0])],\n",
    "            data_exp[np.repeat(z, data_fprint_DepOIs.shape[0])],\n",
    "            data_cna[np.repeat(z, data_fprint_DepOIs.shape[0])],\n",
    "            data_meth[np.repeat(z, data_fprint_DepOIs.shape[0])],\n",
    "            data_fprint_DepOIs\n",
    "        ], \n",
    "            batch_size=batch_size, verbose=0)\n",
    "        data_pred[z] = np.transpose(data_pred_tmp)\n",
    "        print(\"Unscreended sample %d predicted...\" % z)"
   ]
  },
  {
   "cell_type": "code",
   "execution_count": 20,
   "id": "e5428ca6",
   "metadata": {},
   "outputs": [],
   "source": [
    "# write prediction results to txt\n",
    "data_pred_df = pd.DataFrame(data=np.transpose(data_pred), index=gene_names_fprint, columns=sample_names_mut[0:first_to_predict])"
   ]
  },
  {
   "cell_type": "code",
   "execution_count": 21,
   "id": "3112c79a-8da8-4f4b-aade-6f865d68034e",
   "metadata": {},
   "outputs": [
    {
     "data": {
      "text/html": [
       "<div>\n",
       "<style scoped>\n",
       "    .dataframe tbody tr th:only-of-type {\n",
       "        vertical-align: middle;\n",
       "    }\n",
       "\n",
       "    .dataframe tbody tr th {\n",
       "        vertical-align: top;\n",
       "    }\n",
       "\n",
       "    .dataframe thead th {\n",
       "        text-align: right;\n",
       "    }\n",
       "</style>\n",
       "<table border=\"1\" class=\"dataframe\">\n",
       "  <thead>\n",
       "    <tr style=\"text-align: right;\">\n",
       "      <th></th>\n",
       "      <th>IPC298</th>\n",
       "      <th>LOUNH91</th>\n",
       "      <th>697</th>\n",
       "    </tr>\n",
       "  </thead>\n",
       "  <tbody>\n",
       "    <tr>\n",
       "      <th>AARS2</th>\n",
       "      <td>-0.628335</td>\n",
       "      <td>-0.323625</td>\n",
       "      <td>-0.627580</td>\n",
       "    </tr>\n",
       "    <tr>\n",
       "      <th>AASDHPPT</th>\n",
       "      <td>-0.598678</td>\n",
       "      <td>-0.237529</td>\n",
       "      <td>-0.553973</td>\n",
       "    </tr>\n",
       "    <tr>\n",
       "      <th>ABCE1</th>\n",
       "      <td>-1.851579</td>\n",
       "      <td>-1.848119</td>\n",
       "      <td>-1.800221</td>\n",
       "    </tr>\n",
       "    <tr>\n",
       "      <th>ABCG1</th>\n",
       "      <td>-0.104803</td>\n",
       "      <td>-0.181353</td>\n",
       "      <td>-0.154147</td>\n",
       "    </tr>\n",
       "    <tr>\n",
       "      <th>ABHD11</th>\n",
       "      <td>-0.519524</td>\n",
       "      <td>-0.312635</td>\n",
       "      <td>-0.347383</td>\n",
       "    </tr>\n",
       "    <tr>\n",
       "      <th>...</th>\n",
       "      <td>...</td>\n",
       "      <td>...</td>\n",
       "      <td>...</td>\n",
       "    </tr>\n",
       "    <tr>\n",
       "      <th>ZNF384</th>\n",
       "      <td>-0.027886</td>\n",
       "      <td>-0.119026</td>\n",
       "      <td>-0.083906</td>\n",
       "    </tr>\n",
       "    <tr>\n",
       "      <th>ZNF407</th>\n",
       "      <td>-0.543440</td>\n",
       "      <td>-0.716532</td>\n",
       "      <td>-0.587453</td>\n",
       "    </tr>\n",
       "    <tr>\n",
       "      <th>ZNF521</th>\n",
       "      <td>-0.020093</td>\n",
       "      <td>-0.038354</td>\n",
       "      <td>-0.012089</td>\n",
       "    </tr>\n",
       "    <tr>\n",
       "      <th>ZNHIT2</th>\n",
       "      <td>-1.710741</td>\n",
       "      <td>-1.739170</td>\n",
       "      <td>-1.765369</td>\n",
       "    </tr>\n",
       "    <tr>\n",
       "      <th>ZRANB2</th>\n",
       "      <td>-0.182906</td>\n",
       "      <td>-0.401773</td>\n",
       "      <td>-0.424889</td>\n",
       "    </tr>\n",
       "  </tbody>\n",
       "</table>\n",
       "<p>1298 rows × 3 columns</p>\n",
       "</div>"
      ],
      "text/plain": [
       "            IPC298   LOUNH91       697\n",
       "AARS2    -0.628335 -0.323625 -0.627580\n",
       "AASDHPPT -0.598678 -0.237529 -0.553973\n",
       "ABCE1    -1.851579 -1.848119 -1.800221\n",
       "ABCG1    -0.104803 -0.181353 -0.154147\n",
       "ABHD11   -0.519524 -0.312635 -0.347383\n",
       "...            ...       ...       ...\n",
       "ZNF384   -0.027886 -0.119026 -0.083906\n",
       "ZNF407   -0.543440 -0.716532 -0.587453\n",
       "ZNF521   -0.020093 -0.038354 -0.012089\n",
       "ZNHIT2   -1.710741 -1.739170 -1.765369\n",
       "ZRANB2   -0.182906 -0.401773 -0.424889\n",
       "\n",
       "[1298 rows x 3 columns]"
      ]
     },
     "execution_count": 21,
     "metadata": {},
     "output_type": "execute_result"
    }
   ],
   "source": [
    "data_pred_df"
   ]
  },
  {
   "cell_type": "code",
   "execution_count": null,
   "id": "07e3072c-4efe-498f-9d94-e6a117527f56",
   "metadata": {},
   "outputs": [],
   "source": []
  },
  {
   "cell_type": "code",
   "execution_count": null,
   "id": "d596c27e-8e5c-4150-898f-7c22ec27d2aa",
   "metadata": {},
   "outputs": [],
   "source": [
    "model_saved.predict([\n",
    "            # data_mut[np.repeat(z, data_fprint_DepOIs.shape[0])],\n",
    "            data_exp[np.repeat(z, data_fprint_DepOIs.shape[0])],\n",
    "            # data_cna[np.repeat(z, data_fprint_DepOIs.shape[0])],\n",
    "            # data_meth[np.repeat(z, data_fprint_DepOIs.shape[0])],\n",
    "            data_fprint_DepOIs\n",
    "        ], \n",
    "            batch_size=batch_size, verbose=0)"
   ]
  },
  {
   "cell_type": "code",
   "execution_count": null,
   "id": "a68255d3-3c7d-4d50-bcb8-a549a7b2e0a4",
   "metadata": {},
   "outputs": [],
   "source": [
    "model_saved.predict([\n",
    "            # data_mut[np.repeat(z, data_fprint_DepOIs.shape[0])],\n",
    "            data_exp[np.repeat(z, data_fprint_DepOIs.shape[0])],\n",
    "            # data_cna[np.repeat(z, data_fprint_DepOIs.shape[0])],\n",
    "            # data_meth[np.repeat(z, data_fprint_DepOIs.shape[0])],\n",
    "            data_fprint_DepOIs\n",
    "        ], \n",
    "            batch_size=batch_size, verbose=0)"
   ]
  },
  {
   "cell_type": "code",
   "execution_count": null,
   "id": "fe33ac6b",
   "metadata": {},
   "outputs": [],
   "source": [
    "data_pred_df.to_csv('custom_mut_exp.csv')"
   ]
  },
  {
   "cell_type": "code",
   "execution_count": null,
   "id": "1288ebcf",
   "metadata": {},
   "outputs": [],
   "source": [
    "# pd.DataFrame.to_csv(data_pred_df, path_or_buf=\"/results/predictions/tcga_predicted_data_%s_demo.txt\" % model_name, sep='\\t', index_label='CRISPR_GENE', float_format='%.4f')\n",
    "# print(\"\\n\\nPrediction completed in %.1f mins.\\nResults saved in /results/predictions/tcga_predicted_data_%s_demo.txt\\n\\n\" % (\n",
    "#     (time.time()-t)/60, model_name))"
   ]
  }
 ],
 "metadata": {
  "kernelspec": {
   "display_name": "DeepDEP_paper",
   "language": "python",
   "name": "deepdep_paper"
  },
  "language_info": {
   "codemirror_mode": {
    "name": "ipython",
    "version": 3
   },
   "file_extension": ".py",
   "mimetype": "text/x-python",
   "name": "python",
   "nbconvert_exporter": "python",
   "pygments_lexer": "ipython3",
   "version": "3.5.6"
  }
 },
 "nbformat": 4,
 "nbformat_minor": 5
}
