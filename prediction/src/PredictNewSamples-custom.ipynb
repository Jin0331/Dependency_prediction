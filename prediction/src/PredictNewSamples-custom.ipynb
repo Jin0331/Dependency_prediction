{
 "cells": [
  {
   "cell_type": "code",
   "execution_count": 1,
   "id": "2fc5d164",
   "metadata": {},
   "outputs": [
    {
     "data": {
      "text/html": [
       "<style type='text/css'>\n",
       ".datatable table.frame { margin-bottom: 0; }\n",
       ".datatable table.frame thead { border-bottom: none; }\n",
       ".datatable table.frame tr.coltypes td {  color: #FFFFFF;  line-height: 6px;  padding: 0 0.5em;}\n",
       ".datatable .bool    { background: #DDDD99; }\n",
       ".datatable .object  { background: #565656; }\n",
       ".datatable .int     { background: #5D9E5D; }\n",
       ".datatable .float   { background: #4040CC; }\n",
       ".datatable .str     { background: #CC4040; }\n",
       ".datatable .row_index {  background: var(--jp-border-color3);  border-right: 1px solid var(--jp-border-color0);  color: var(--jp-ui-font-color3);  font-size: 9px;}\n",
       ".datatable .frame tr.coltypes .row_index {  background: var(--jp-border-color0);}\n",
       ".datatable th:nth-child(2) { padding-left: 12px; }\n",
       ".datatable .hellipsis {  color: var(--jp-cell-editor-border-color);}\n",
       ".datatable .vellipsis {  background: var(--jp-layout-color0);  color: var(--jp-cell-editor-border-color);}\n",
       ".datatable .na {  color: var(--jp-cell-editor-border-color);  font-size: 80%;}\n",
       ".datatable .footer { font-size: 9px; }\n",
       ".datatable .frame_dimensions {  background: var(--jp-border-color3);  border-top: 1px solid var(--jp-border-color0);  color: var(--jp-ui-font-color3);  display: inline-block;  opacity: 0.6;  padding: 1px 10px 1px 5px;}\n",
       "</style>\n"
      ],
      "text/plain": [
       "<IPython.core.display.HTML object>"
      ]
     },
     "metadata": {},
     "output_type": "display_data"
    },
    {
     "name": "stderr",
     "output_type": "stream",
     "text": [
      "/home/wmbio/anaconda3/envs/deepdep_paper/lib/python3.5/site-packages/tensorflow/python/framework/dtypes.py:469: FutureWarning: Passing (type, 1) or '1type' as a synonym of type is deprecated; in a future version of numpy, it will be understood as (type, (1,)) / '(1,)type'.\n",
      "  _np_qint8 = np.dtype([(\"qint8\", np.int8, 1)])\n",
      "/home/wmbio/anaconda3/envs/deepdep_paper/lib/python3.5/site-packages/tensorflow/python/framework/dtypes.py:470: FutureWarning: Passing (type, 1) or '1type' as a synonym of type is deprecated; in a future version of numpy, it will be understood as (type, (1,)) / '(1,)type'.\n",
      "  _np_quint8 = np.dtype([(\"quint8\", np.uint8, 1)])\n",
      "/home/wmbio/anaconda3/envs/deepdep_paper/lib/python3.5/site-packages/tensorflow/python/framework/dtypes.py:471: FutureWarning: Passing (type, 1) or '1type' as a synonym of type is deprecated; in a future version of numpy, it will be understood as (type, (1,)) / '(1,)type'.\n",
      "  _np_qint16 = np.dtype([(\"qint16\", np.int16, 1)])\n",
      "/home/wmbio/anaconda3/envs/deepdep_paper/lib/python3.5/site-packages/tensorflow/python/framework/dtypes.py:472: FutureWarning: Passing (type, 1) or '1type' as a synonym of type is deprecated; in a future version of numpy, it will be understood as (type, (1,)) / '(1,)type'.\n",
      "  _np_quint16 = np.dtype([(\"quint16\", np.uint16, 1)])\n",
      "/home/wmbio/anaconda3/envs/deepdep_paper/lib/python3.5/site-packages/tensorflow/python/framework/dtypes.py:473: FutureWarning: Passing (type, 1) or '1type' as a synonym of type is deprecated; in a future version of numpy, it will be understood as (type, (1,)) / '(1,)type'.\n",
      "  _np_qint32 = np.dtype([(\"qint32\", np.int32, 1)])\n",
      "/home/wmbio/anaconda3/envs/deepdep_paper/lib/python3.5/site-packages/tensorflow/python/framework/dtypes.py:476: FutureWarning: Passing (type, 1) or '1type' as a synonym of type is deprecated; in a future version of numpy, it will be understood as (type, (1,)) / '(1,)type'.\n",
      "  np_resource = np.dtype([(\"resource\", np.ubyte, 1)])\n",
      "/home/wmbio/anaconda3/envs/deepdep_paper/lib/python3.5/site-packages/h5py/__init__.py:36: FutureWarning: Conversion of the second argument of issubdtype from `float` to `np.floating` is deprecated. In future, it will be treated as `np.float64 == np.dtype(float).type`.\n",
      "  from ._conv import register_converters as _register_converters\n",
      "Using TensorFlow backend.\n"
     ]
    }
   ],
   "source": [
    "from function import *"
   ]
  },
  {
   "cell_type": "code",
   "execution_count": 14,
   "id": "8b9b7fa2",
   "metadata": {},
   "outputs": [
    {
     "name": "stdout",
     "output_type": "stream",
     "text": [
      "/home/wmbio/WORK/gitworking/Dependency_prediction\n",
      "/home/wmbio/WORK/gitworking/Dependency_prediction/prediction\n"
     ]
    }
   ],
   "source": [
    "print(os.getcwd())\n",
    "os.chdir(\"/home/wmbio/WORK/gitworking/Dependency_prediction/prediction\")\n",
    "print(os.getcwd())"
   ]
  },
  {
   "cell_type": "markdown",
   "id": "abd04bfe-28f6-4bb0-a40b-47ef484cad10",
   "metadata": {},
   "source": [
    "* **Path**"
   ]
  },
  {
   "cell_type": "code",
   "execution_count": 83,
   "id": "0904f116-5ff4-4149-927b-16d415c27138",
   "metadata": {},
   "outputs": [],
   "source": [
    "MODEL_PATH = \"DepOI_1298_model/2022-0802/\"\n",
    "MODEL_NATM = \"model_mut_exp\"\n",
    "PREDICT_PATH = \"../preprocessing/PREDICTION/2022-08-03/\"\n",
    "BARCODE = \"exp-mut-cna-methpredict_wmbio_ccls_\""
   ]
  },
  {
   "cell_type": "markdown",
   "id": "e40141f0-f860-40aa-bbb5-bc69a67f8bfe",
   "metadata": {},
   "source": [
    "* **Model load**"
   ]
  },
  {
   "cell_type": "code",
   "execution_count": 81,
   "id": "22a57f1e",
   "metadata": {
    "tags": []
   },
   "outputs": [],
   "source": [
    "with tf.device('/cpu:0'):\n",
    "    model_saved = models.load_model(MODEL_PATH + \"%s.h5\" % MODEL_NATM)"
   ]
  },
  {
   "cell_type": "markdown",
   "id": "adb1df82",
   "metadata": {},
   "source": [
    "* **Predict Set load**"
   ]
  },
  {
   "cell_type": "code",
   "execution_count": 23,
   "id": "1d005518-a646-49a5-832c-240d2d3b3793",
   "metadata": {},
   "outputs": [],
   "source": [
    "\"\"\"\n",
    "exp..mut..cna..meth\n",
    "exp..mut..cna\n",
    "exp..mut\n",
    "\n",
    "mut..cna..meth\n",
    "\"\"\"\n",
    "\n",
    "# load TCGA genomics data and gene fingerprints\n",
    "data_mut, data_labels_mut, sample_names_mut, gene_names_mut = load_data_prediction(PREDICT_PATH + BARCODE + \"mut_prediction.txt\")\n",
    "data_exp, data_labels_exp, sample_names_exp, gene_names_exp = load_data_prediction(PREDICT_PATH + BARCODE + \"exp_prediction.txt\")\n",
    "data_cna, data_labels_cna, sample_names_cna, gene_names_cna = load_data_prediction(PREDICT_PATH + BARCODE + \"cna_prediction.txt\")\n",
    "data_meth, data_labels_meth, sample_names_meth, gene_names_meth = load_data_prediction(PREDICT_PATH + BARCODE + \"meth_prediction.txt\")\n",
    "data_fprint_DepOIs, data_labels_fprint, gene_names_fprint, function_names_fprint = load_data_prediction(PREDICT_PATH + BARCODE + \"fingerprint_prediction.txt\")\n",
    "print(\"\\n\\nDatasets successfully loaded.\\n\\n\")"
   ]
  },
  {
   "cell_type": "markdown",
   "id": "76fc4217-4eae-4af4-a099-ced687dc3fe8",
   "metadata": {},
   "source": [
    "* **Prediction**"
   ]
  },
  {
   "cell_type": "code",
   "execution_count": 77,
   "id": "58b6a4d2",
   "metadata": {
    "tags": []
   },
   "outputs": [
    {
     "name": "stdout",
     "output_type": "stream",
     "text": [
      "Unscreended sample 0 predicted...\n",
      "Unscreended sample 1 predicted...\n",
      "Unscreended sample 2 predicted...\n",
      "Unscreended sample 3 predicted...\n",
      "Unscreended sample 4 predicted...\n",
      "Unscreended sample 5 predicted...\n",
      "Unscreended sample 6 predicted...\n",
      "Unscreended sample 7 predicted...\n",
      "Unscreended sample 8 predicted...\n",
      "Unscreended sample 9 predicted...\n",
      "Unscreended sample 10 predicted...\n",
      "Unscreended sample 11 predicted...\n",
      "Unscreended sample 12 predicted...\n",
      "Unscreended sample 13 predicted...\n",
      "Unscreended sample 14 predicted...\n",
      "Unscreended sample 15 predicted...\n",
      "Unscreended sample 16 predicted...\n",
      "Unscreended sample 17 predicted...\n",
      "Unscreended sample 18 predicted...\n",
      "Unscreended sample 19 predicted...\n",
      "Unscreended sample 20 predicted...\n",
      "Unscreended sample 21 predicted...\n",
      "Unscreended sample 22 predicted...\n",
      "Unscreended sample 23 predicted...\n",
      "Unscreended sample 24 predicted...\n",
      "Unscreended sample 25 predicted...\n",
      "Unscreended sample 26 predicted...\n"
     ]
    }
   ],
   "source": [
    "batch_size = 200\n",
    "with tf.device('/cpu:0'):\n",
    "    t = time.time()\n",
    "    data_pred = np.zeros((data_exp.shape[0], data_fprint_DepOIs.shape[0]))\n",
    "    for z in np.arange(0, data_exp.shape[0]):\n",
    "        data_pred_tmp = model_saved.predict([\n",
    "            data_mut[np.repeat(z, data_fprint_DepOIs.shape[0])],\n",
    "            data_exp[np.repeat(z, data_fprint_DepOIs.shape[0])],\n",
    "            # data_cna[np.repeat(z, data_fprint_DepOIs.shape[0])],\n",
    "            # data_meth[np.repeat(z, data_fprint_DepOIs.shape[0])],\n",
    "            data_fprint_DepOIs\n",
    "        ], \n",
    "            batch_size=batch_size, verbose=0)\n",
    "        data_pred[z] = np.transpose(data_pred_tmp)\n",
    "        print(\"Unscreended sample %d predicted...\" % z)"
   ]
  },
  {
   "cell_type": "code",
   "execution_count": 78,
   "id": "e5428ca6",
   "metadata": {},
   "outputs": [],
   "source": [
    "# write prediction results to txt\n",
    "data_pred_df = pd.DataFrame(data=np.transpose(data_pred), index=gene_names_fprint, columns=sample_names_mut[0:data_exp.shape[0]])\n",
    "data_pred_df.to_csv('custom_mut_exp.csv')"
   ]
  }
 ],
 "metadata": {
  "kernelspec": {
   "display_name": "DeepDEP",
   "language": "python",
   "name": "deepdep_paper"
  },
  "language_info": {
   "codemirror_mode": {
    "name": "ipython",
    "version": 3
   },
   "file_extension": ".py",
   "mimetype": "text/x-python",
   "name": "python",
   "nbconvert_exporter": "python",
   "pygments_lexer": "ipython3",
   "version": "3.5.6"
  }
 },
 "nbformat": 4,
 "nbformat_minor": 5
}
