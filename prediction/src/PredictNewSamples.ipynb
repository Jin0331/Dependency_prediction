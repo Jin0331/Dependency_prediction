{
 "cells": [
  {
   "cell_type": "markdown",
   "metadata": {},
   "source": [
    "# **Prediction with Unscreened CCLs or Tumor samples**"
   ]
  },
  {
   "cell_type": "markdown",
   "metadata": {},
   "source": [
    "## **Module**"
   ]
  },
  {
   "cell_type": "code",
   "execution_count": 15,
   "metadata": {},
   "outputs": [],
   "source": [
    "from function import *"
   ]
  },
  {
   "cell_type": "code",
   "execution_count": 2,
   "metadata": {},
   "outputs": [
    {
     "name": "stdout",
     "output_type": "stream",
     "text": [
      "/home/wmbio/WORK/gitworking/Dependency_prediction/prediction/src\n",
      "/home/wmbio/WORK/gitworking/Dependency_prediction/prediction\n"
     ]
    }
   ],
   "source": [
    "print(os.getcwd())\n",
    "os.chdir(\"/home/wmbio/WORK/gitworking/Dependency_prediction/prediction\")\n",
    "print(os.getcwd())"
   ]
  },
  {
   "cell_type": "markdown",
   "metadata": {},
   "source": [
    "* **Path**"
   ]
  },
  {
   "cell_type": "code",
   "execution_count": 36,
   "metadata": {},
   "outputs": [
    {
     "data": {
      "text/plain": [
       "'\\nexample of barcode\\n\\ncna-exp-meth-mut\\ncna-exp-mut\\nexp-mut\\ncna-meth-mut\\n'"
      ]
     },
     "execution_count": 36,
     "metadata": {},
     "output_type": "execute_result"
    }
   ],
   "source": [
    "\n",
    "\n",
    "MODEL_PATH = \"DepOI_1298_model/2022-0802/\"\n",
    "TYPE = \"cna-exp-mut\"\n",
    "PREDICT_PATH = \"../preprocessing/PREDICTION/2022-08-17/prep_com/\""
   ]
  },
  {
   "cell_type": "markdown",
   "metadata": {},
   "source": [
    "* **Run prediction**"
   ]
  },
  {
   "cell_type": "code",
   "execution_count": 67,
   "metadata": {},
   "outputs": [
    {
     "name": "stdout",
     "output_type": "stream",
     "text": [
      "cna-exp-mut\n",
      "\n",
      "\n",
      "Datasets successfully loaded.\n",
      "\n",
      "\n",
      "Unscreended sample 0 predicted...\n",
      "Unscreended sample 1 predicted...\n",
      "Unscreended sample 2 predicted...\n",
      "Unscreended sample 3 predicted...\n",
      "Unscreended sample 4 predicted...\n",
      "Unscreended sample 5 predicted...\n",
      "Unscreended sample 6 predicted...\n",
      "Unscreended sample 7 predicted...\n",
      "Unscreended sample 8 predicted...\n",
      "Unscreended sample 9 predicted...\n"
     ]
    }
   ],
   "source": [
    "each_prediction(model_path=MODEL_PATH, type_=TYPE, predict_path=PREDICT_PATH, barcode=\"wmbio_ccls\", \n",
    "               save_path=\"PREDICTION_RESULT\")"
   ]
  }
 ],
 "metadata": {
  "kernelspec": {
   "display_name": "DeepDEP",
   "language": "python",
   "name": "deepdep"
  },
  "language_info": {
   "codemirror_mode": {
    "name": "ipython",
    "version": 3
   },
   "file_extension": ".py",
   "mimetype": "text/x-python",
   "name": "python",
   "nbconvert_exporter": "python",
   "pygments_lexer": "ipython3",
   "version": "3.5.6"
  }
 },
 "nbformat": 4,
 "nbformat_minor": 5
}
