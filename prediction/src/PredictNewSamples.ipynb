{
 "cells": [
  {
   "cell_type": "code",
   "execution_count": 10,
   "id": "2fc5d164",
   "metadata": {},
   "outputs": [],
   "source": [
    "import pickle\n",
    "import tensorflow as tf\n",
    "from tensorflow.keras import models\n",
    "\n",
    "import os\n",
    "import numpy as np\n",
    "import time\n",
    "import pandas as pd"
   ]
  },
  {
   "cell_type": "code",
   "execution_count": 11,
   "id": "02bde9fd",
   "metadata": {},
   "outputs": [],
   "source": [
    "def load_data(filename):\n",
    "    data = []\n",
    "    gene_names = []\n",
    "    lines = open(filename).readlines()\n",
    "    sample_names = lines[0].replace('\\n', '').split('\\t')[1:]\n",
    "    dx = 1\n",
    "\n",
    "    for line in lines[dx:]:\n",
    "        values = line.replace('\\n', '').split('\\t')\n",
    "        gene = str.upper(values[0])\n",
    "        gene_names.append(gene)\n",
    "        data.append(values[1:])\n",
    "    data = np.array(data, dtype='float32')\n",
    "    data = np.transpose(data)\n",
    "\n",
    "    return data, sample_names, gene_names\n",
    "\n",
    "def root_mean_squared_error(y_true, y_pred):\n",
    "        return K.sqrt(K.mean(K.square(y_pred - y_true), axis=-1)) \n",
    "    \n",
    "def coeff_determination(y_true, y_pred):\n",
    "    SS_res =  K.sum(K.square( y_true-y_pred ))\n",
    "    SS_tot = K.sum(K.square( y_true - K.mean(y_true) ) )\n",
    "    return ( 1 - SS_res/(SS_tot + K.epsilon()) )"
   ]
  },
  {
   "cell_type": "code",
   "execution_count": 12,
   "id": "8b9b7fa2",
   "metadata": {},
   "outputs": [
    {
     "name": "stdout",
     "output_type": "stream",
     "text": [
      "/home/wmbio/WORK/gitworking/Dependency_prediction\n",
      "/home/wmbio/WORK/gitworking/Dependency_prediction\n"
     ]
    }
   ],
   "source": [
    "print(os.getcwd())\n",
    "os.chdir(\"/home/wmbio/WORK/gitworking/Dependency_prediction/\")\n",
    "print(os.getcwd())"
   ]
  },
  {
   "cell_type": "code",
   "execution_count": 74,
   "id": "22a57f1e",
   "metadata": {
    "tags": []
   },
   "outputs": [],
   "source": [
    "with tf.device('/cpu:0'):\n",
    "    # model_name = \"model_custom_exp_0727\"\n",
    "    # model_saved = models.load_model(\"prediction/custom_model/%s.h5\" % model_name, \n",
    "    #                                 custom_objects={\"coeff_determination\": coeff_determination})\n",
    "\n",
    "    model_name = \"model_paper\"\n",
    "    model_saved = models.load_model(\"prediction/model/%s.h5\" % model_name)\n",
    "# model_paper is the full 4-omics DeepDEP model used in the paper\n",
    "# user can choose from single-omics, 2-omics, or full DeepDEP models from the\n",
    "# /data/full_results_models_paper/models/ directory"
   ]
  },
  {
   "cell_type": "markdown",
   "id": "adb1df82",
   "metadata": {},
   "source": [
    "* **Custom**"
   ]
  },
  {
   "cell_type": "code",
   "execution_count": 71,
   "id": "163a1539",
   "metadata": {},
   "outputs": [
    {
     "name": "stdout",
     "output_type": "stream",
     "text": [
      "\n",
      "\n",
      "Datasets successfully loaded.\n",
      "\n",
      "\n"
     ]
    }
   ],
   "source": [
    "# load TCGA genomics data and gene fingerprints\n",
    "data_mut, sample_names_mut, gene_names_mut = load_data(\n",
    "    \"preprocessing/DATA/2022-07-13/predict_mut_prediction.txt\")\n",
    "data_exp, sample_names_exp, gene_names_exp = load_data(\n",
    "    \"preprocessing/DATA/2022-07-13/predict_exp_prediction.txt\")\n",
    "data_cna, sample_names_cna, gene_names_cna = load_data(\n",
    "    \"preprocessing/DATA/2022-07-13/predict_cna_prediction.txt\")\n",
    "data_meth, sample_names_meth, gene_names_meth = load_data(\n",
    "    \"preprocessing/DATA/2022-07-13/predict_meth_prediction.txt\")\n",
    "data_fprint_DepOIs, gene_names_fprint, function_names_fprint = load_data(\n",
    "    \"preprocessing/DATA/2022-07-13/predict_fingerprint_prediction.txt\")\n",
    "print(\"\\n\\nDatasets successfully loaded.\\n\\n\")"
   ]
  },
  {
   "cell_type": "markdown",
   "id": "118c5f12",
   "metadata": {},
   "source": [
    "* **Paper**"
   ]
  },
  {
   "cell_type": "code",
   "execution_count": 73,
   "id": "e36be251",
   "metadata": {},
   "outputs": [
    {
     "name": "stdout",
     "output_type": "stream",
     "text": [
      "\n",
      "\n",
      "Datasets successfully loaded.\n",
      "\n",
      "\n"
     ]
    }
   ],
   "source": [
    "data_mut, sample_names_mut, gene_names_mut = load_data(\n",
    "    \"prediction/data/prediction_data/predict_mut_prediction.txt\")\n",
    "data_exp, sample_names_exp, gene_names_exp = load_data(\n",
    "    \"prediction/data/prediction_data/predict_exp_prediction.txt\")\n",
    "data_cna, sample_names_cna, gene_names_cna = load_data(\n",
    "    \"prediction/data/prediction_data/predict_cna_prediction.txt\")\n",
    "data_meth, sample_names_meth, gene_names_meth = load_data(\n",
    "    \"prediction/data/prediction_data/predict_meth_prediction.txt\")\n",
    "data_fprint_DepOIs, gene_names_fprint, function_names_fprint = load_data(\n",
    "    \"prediction/data/prediction_data/predict_fingerprint_prediction.txt\")\n",
    "print(\"\\n\\nDatasets successfully loaded.\\n\\n\")"
   ]
  },
  {
   "cell_type": "code",
   "execution_count": 60,
   "id": "4d75a7ca",
   "metadata": {},
   "outputs": [],
   "source": [
    "batch_size = 64\n",
    "first_to_predict = 10\n",
    "# predict the first 10 samples for DEMO ONLY, for all samples please substitute 10 by data_mut_tcga.shape[0]\n",
    "# prediction results of all 8238 TCGA samples can be found in /data/full_results_models_paper/predictions/"
   ]
  },
  {
   "cell_type": "code",
   "execution_count": null,
   "id": "291512c2-9063-4eeb-9bda-045167765afd",
   "metadata": {},
   "outputs": [],
   "source": []
  },
  {
   "cell_type": "code",
   "execution_count": 63,
   "id": "d3b391bf-ba10-40ba-8b73-f44a6c3d1ec9",
   "metadata": {},
   "outputs": [],
   "source": [
    "z=3"
   ]
  },
  {
   "cell_type": "code",
   "execution_count": 69,
   "id": "f4ed4b52-97f2-4dc9-95fa-42801a7f90f3",
   "metadata": {},
   "outputs": [
    {
     "data": {
      "text/plain": [
       "(1298, 6016)"
      ]
     },
     "execution_count": 69,
     "metadata": {},
     "output_type": "execute_result"
    }
   ],
   "source": [
    "data_exp[np.repeat(z, data_fprint_DepOIs.shape[0])].shape"
   ]
  },
  {
   "cell_type": "code",
   "execution_count": 72,
   "id": "7542e2a6-9f87-4f87-b891-862ec0336188",
   "metadata": {},
   "outputs": [
    {
     "data": {
      "text/plain": [
       "(1227, 5454)"
      ]
     },
     "execution_count": 72,
     "metadata": {},
     "output_type": "execute_result"
    }
   ],
   "source": [
    "data_exp[np.repeat(z, data_fprint_DepOIs.shape[0])].shape"
   ]
  },
  {
   "cell_type": "code",
   "execution_count": 64,
   "id": "6711a175-5a60-4fcf-8394-a0c10ccbba86",
   "metadata": {},
   "outputs": [],
   "source": [
    "data_pred_tmp = model_saved.predict([\n",
    "    data_exp[np.repeat(z, data_fprint_DepOIs.shape[0])],\n",
    "    data_fprint_DepOIs\n",
    "], batch_size=batch_size, verbose=0)"
   ]
  },
  {
   "cell_type": "code",
   "execution_count": 62,
   "id": "cb4ad6b0-1c7d-4d52-a504-f2b2d17aeb1c",
   "metadata": {},
   "outputs": [
    {
     "data": {
      "text/plain": [
       "array([[-0.46099144],\n",
       "       [-0.39348418],\n",
       "       [-1.7829323 ],\n",
       "       ...,\n",
       "       [-0.02859959],\n",
       "       [-1.8502383 ],\n",
       "       [-0.41927987]], dtype=float32)"
      ]
     },
     "execution_count": 62,
     "metadata": {},
     "output_type": "execute_result"
    }
   ],
   "source": [
    "data_pred_tmp"
   ]
  },
  {
   "cell_type": "code",
   "execution_count": 65,
   "id": "4e5f0f86-1888-4ffc-88bb-4dd9add85f21",
   "metadata": {
    "collapsed": true,
    "jupyter": {
     "outputs_hidden": true
    },
    "tags": []
   },
   "outputs": [
    {
     "data": {
      "text/plain": [
       "array([[-0.46099144],\n",
       "       [-0.39348418],\n",
       "       [-1.7829323 ],\n",
       "       ...,\n",
       "       [-0.02859959],\n",
       "       [-1.8502383 ],\n",
       "       [-0.41927987]], dtype=float32)"
      ]
     },
     "execution_count": 65,
     "metadata": {},
     "output_type": "execute_result"
    }
   ],
   "source": [
    "data_pred_tmp"
   ]
  },
  {
   "cell_type": "code",
   "execution_count": 79,
   "id": "57bc7cd1-0d46-4538-884c-a4fe1d70652d",
   "metadata": {},
   "outputs": [],
   "source": [
    "z=3"
   ]
  },
  {
   "cell_type": "code",
   "execution_count": 80,
   "id": "61b65b3d-a4e7-4df8-af84-a571dd9394f8",
   "metadata": {
    "tags": []
   },
   "outputs": [],
   "source": [
    "data_pred_tmp = model_saved.predict([\n",
    "    data_mut[np.repeat(z, data_fprint_DepOIs.shape[0])],\n",
    "    data_exp[np.repeat(z, data_fprint_DepOIs.shape[0])],\n",
    "    data_cna[np.repeat(z, data_fprint_DepOIs.shape[0])],\n",
    "    data_meth[np.repeat(z, data_fprint_DepOIs.shape[0])],\n",
    "    data_fprint_DepOIs\n",
    "], batch_size=batch_size, verbose=0)"
   ]
  },
  {
   "cell_type": "code",
   "execution_count": 78,
   "id": "900c89e9-99bd-419c-a41b-c0fcb744324e",
   "metadata": {},
   "outputs": [
    {
     "data": {
      "text/plain": [
       "array([[-0.560926  ],\n",
       "       [-0.5200698 ],\n",
       "       [-0.88828695],\n",
       "       ...,\n",
       "       [-0.05596958],\n",
       "       [-1.273367  ],\n",
       "       [-0.4628115 ]], dtype=float32)"
      ]
     },
     "execution_count": 78,
     "metadata": {},
     "output_type": "execute_result"
    }
   ],
   "source": [
    "data_pred_tmp"
   ]
  },
  {
   "cell_type": "code",
   "execution_count": 81,
   "id": "f694db89-b2f4-4633-8bd6-2dc6197553ee",
   "metadata": {},
   "outputs": [
    {
     "data": {
      "text/plain": [
       "array([[-0.56265163],\n",
       "       [-0.27811077],\n",
       "       [-0.86012894],\n",
       "       ...,\n",
       "       [-0.16751027],\n",
       "       [-1.442409  ],\n",
       "       [-0.45932096]], dtype=float32)"
      ]
     },
     "execution_count": 81,
     "metadata": {},
     "output_type": "execute_result"
    }
   ],
   "source": [
    "data_pred_tmp"
   ]
  },
  {
   "cell_type": "code",
   "execution_count": null,
   "id": "58b6a4d2",
   "metadata": {
    "tags": []
   },
   "outputs": [],
   "source": [
    "with tf.deshapee('/cpu:0'):\n",
    "    t = time.time()\n",
    "    data_pred = np.zeros((first_to_predict, data_fprint_DepOIs.shape[0]))\n",
    "    for z in np.arange(0, first_to_predict):\n",
    "        data_pred_tmp = model_saved.predict([\n",
    "            data_mut[np.repeat(z, data_fprint_DepOIs.shape[0])],\n",
    "            data_exp[np.repeat(z, data_fprint_DepOIs.shape[0])],\n",
    "            data_cna[np.repeat(z, data_fprint_DepOIs.shape[0])],\n",
    "            data_meth[np.repeat(z, data_fprint_DepOIs.shape[0])],\n",
    "            data_fprint_DepOIs\n",
    "        ], \n",
    "            batch_size=batch_size, verbose=0)\n",
    "        data_pred[z] = np.transpose(data_pred_tmp)\n",
    "        print(\"Unscreended sample %d predicted...\" % z)"
   ]
  },
  {
   "cell_type": "code",
   "execution_count": null,
   "id": "e5428ca6",
   "metadata": {},
   "outputs": [],
   "source": [
    "# write prediction results to txt\n",
    "data_pred_df = pd.DataFrame(data=np.transpose(data_pred), index=gene_names_fprint, columns=sample_names_mut[0:first_to_predict])"
   ]
  },
  {
   "cell_type": "code",
   "execution_count": null,
   "id": "fe33ac6b",
   "metadata": {},
   "outputs": [],
   "source": [
    "data_pred_df.to_csv('custom_mut_exp.csv')"
   ]
  },
  {
   "cell_type": "code",
   "execution_count": null,
   "id": "1288ebcf",
   "metadata": {},
   "outputs": [],
   "source": [
    "# pd.DataFrame.to_csv(data_pred_df, path_or_buf=\"/results/predictions/tcga_predicted_data_%s_demo.txt\" % model_name, sep='\\t', index_label='CRISPR_GENE', float_format='%.4f')\n",
    "# print(\"\\n\\nPrediction completed in %.1f mins.\\nResults saved in /results/predictions/tcga_predicted_data_%s_demo.txt\\n\\n\" % (\n",
    "#     (time.time()-t)/60, model_name))"
   ]
  }
 ],
 "metadata": {
  "kernelspec": {
   "display_name": "DeepDEP",
   "language": "python",
   "name": "deepdep"
  },
  "language_info": {
   "codemirror_mode": {
    "name": "ipython",
    "version": 3
   },
   "file_extension": ".py",
   "mimetype": "text/x-python",
   "name": "python",
   "nbconvert_exporter": "python",
   "pygments_lexer": "ipython3",
   "version": "3.7.13"
  }
 },
 "nbformat": 4,
 "nbformat_minor": 5
}
