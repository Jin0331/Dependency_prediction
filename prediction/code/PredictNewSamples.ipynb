{
 "cells": [
  {
   "cell_type": "code",
   "execution_count": 6,
   "id": "2016373a-1db6-4b85-b06b-89b9384577bc",
   "metadata": {},
   "outputs": [],
   "source": [
    "import pickle\n",
    "import tensorflow as tf\n",
    "from tensorflow.keras import models\n",
    "\n",
    "import os\n",
    "import numpy as np\n",
    "import time\n",
    "import pandas as pd"
   ]
  },
  {
   "cell_type": "code",
   "execution_count": 2,
   "id": "45c16c14-5fcf-4e6d-a663-a51f428c0e9d",
   "metadata": {},
   "outputs": [],
   "source": [
    "def load_data(filename):\n",
    "    data = []\n",
    "    gene_names = []\n",
    "    data_labels = []\n",
    "    lines = open(filename).readlines()\n",
    "    sample_names = lines[0].replace('\\n', '').split('\\t')[1:]\n",
    "    dx = 1\n",
    "\n",
    "    for line in lines[dx:]:\n",
    "        values = line.replace('\\n', '').split('\\t')\n",
    "        gene = str.upper(values[0])\n",
    "        gene_names.append(gene)\n",
    "        data.append(values[1:])\n",
    "    data = np.array(data, dtype='float32')\n",
    "    data = np.transpose(data)\n",
    "\n",
    "    return data, data_labels, sample_names, gene_names"
   ]
  },
  {
   "cell_type": "code",
   "execution_count": 7,
   "id": "e829b924-eb85-4083-8143-f0b6721fa3f5",
   "metadata": {},
   "outputs": [
    {
     "name": "stdout",
     "output_type": "stream",
     "text": [
      "/home/km/temp/DeepDEP/prediction/code\n",
      "/home/km/temp/DeepDEP\n"
     ]
    }
   ],
   "source": [
    "print(os.getcwd())\n",
    "os.chdir(\"/home/km/temp/DeepDEP/\")\n",
    "print(os.getcwd())"
   ]
  },
  {
   "cell_type": "code",
   "execution_count": 8,
   "id": "021e86e5-622a-456d-a64d-dc609d183ce5",
   "metadata": {
    "tags": []
   },
   "outputs": [],
   "source": [
    "with tf.device('/cpu:0'):\n",
    "    model_name = \"model_custom_full\"\n",
    "    model_saved = models.load_model(\"prediction/model/%s.h5\" % model_name)\n",
    "# model_paper is the full 4-omics DeepDEP model used in the paper\n",
    "# user can choose from single-omics, 2-omics, or full DeepDEP models from the\n",
    "# /data/full_results_models_paper/models/ directory"
   ]
  },
  {
   "cell_type": "code",
   "execution_count": 14,
   "id": "1a7e8566-d9e3-493a-957f-58429ecd1bf4",
   "metadata": {},
   "outputs": [
    {
     "name": "stdout",
     "output_type": "stream",
     "text": [
      "\n",
      "\n",
      "Datasets successfully loaded.\n",
      "\n",
      "\n"
     ]
    }
   ],
   "source": [
    "# load TCGA genomics data and gene fingerprints\n",
    "data_mut, data_labels_mut, sample_names_mut, gene_names_mut = load_data(\n",
    "    \"preprocessing/DATA/2022-07-13/predict_mut_prediction.txt\")\n",
    "data_exp, data_labels_exp, sample_names_exp, gene_names_exp = load_data(\n",
    "    \"preprocessing/DATA/2022-07-13/predict_exp_prediction.txt\")\n",
    "data_cna, data_labels_cna, sample_names_cna, gene_names_cna = load_data(\n",
    "    \"preprocessing/DATA/2022-07-13/predict_cna_prediction.txt\")\n",
    "data_meth, data_labels_meth, sample_names_meth, gene_names_meth = load_data(\n",
    "    \"preprocessing/DATA/2022-07-13/predict_meth_prediction.txt\")\n",
    "data_fprint_1298DepOIs, data_labels_fprint, gene_names_fprint, function_names_fprint = load_data(\n",
    "    \"preprocessing/DATA/2022-07-13/predict_fingerprint_prediction.txt\")\n",
    "print(\"\\n\\nDatasets successfully loaded.\\n\\n\")"
   ]
  },
  {
   "cell_type": "code",
   "execution_count": 15,
   "id": "74073897-cc1d-41d2-89be-a1254082a4d2",
   "metadata": {},
   "outputs": [],
   "source": [
    "batch_size = 64\n",
    "first_to_predict = 10\n",
    "# predict the first 10 samples for DEMO ONLY, for all samples please substitute 10 by data_mut_tcga.shape[0]\n",
    "# prediction results of all 8238 TCGA samples can be found in /data/full_results_models_paper/predictions/"
   ]
  },
  {
   "cell_type": "code",
   "execution_count": 16,
   "id": "82ca59fd-696a-4c55-9fe0-c108239fb864",
   "metadata": {
    "tags": []
   },
   "outputs": [
    {
     "name": "stdout",
     "output_type": "stream",
     "text": [
      "TCGA sample 0 predicted...\n",
      "TCGA sample 1 predicted...\n",
      "TCGA sample 2 predicted...\n",
      "TCGA sample 3 predicted...\n",
      "TCGA sample 4 predicted...\n",
      "TCGA sample 5 predicted...\n",
      "TCGA sample 6 predicted...\n",
      "TCGA sample 7 predicted...\n",
      "TCGA sample 8 predicted...\n",
      "TCGA sample 9 predicted...\n"
     ]
    }
   ],
   "source": [
    "with tf.device('/cpu:0'):\n",
    "    t = time.time()\n",
    "    data_pred = np.zeros((first_to_predict, data_fprint_1298DepOIs.shape[0]))\n",
    "    for z in np.arange(0, first_to_predict):\n",
    "        data_pred_tmp = model_saved.predict([data_mut[np.repeat(z, data_fprint_1298DepOIs.shape[0])],\n",
    "                                             data_exp[np.repeat(z, data_fprint_1298DepOIs.shape[0])],\n",
    "                                             data_cna[np.repeat(z, data_fprint_1298DepOIs.shape[0])],\n",
    "                                             data_meth[np.repeat(z, data_fprint_1298DepOIs.shape[0])],\n",
    "                                             data_fprint_1298DepOIs], batch_size=batch_size, verbose=0)\n",
    "        data_pred[z] = np.transpose(data_pred_tmp)\n",
    "        print(\"TCGA sample %d predicted...\" % z)"
   ]
  },
  {
   "cell_type": "code",
   "execution_count": null,
   "id": "2e39406c-8ad4-4ef7-9c71-d4616be61d1e",
   "metadata": {},
   "outputs": [],
   "source": []
  },
  {
   "cell_type": "code",
   "execution_count": 17,
   "id": "ef48c13d-5e5e-4f66-b9ea-766731413f04",
   "metadata": {},
   "outputs": [],
   "source": [
    "# write prediction results to txt\n",
    "data_pred_df = pd.DataFrame(data=np.transpose(data_pred), index=gene_names_fprint, columns=sample_names_mut_tcga[0:first_to_predict])"
   ]
  },
  {
   "cell_type": "code",
   "execution_count": 19,
   "id": "80749e00-42dd-4526-bd5c-68fab38b95ec",
   "metadata": {},
   "outputs": [],
   "source": [
    "data_pred_df.to_csv('tmp.csv')"
   ]
  },
  {
   "cell_type": "code",
   "execution_count": null,
   "id": "32731378-e1fd-4607-aee0-247fad583167",
   "metadata": {},
   "outputs": [],
   "source": [
    "pd.DataFrame.to_csv(data_pred_df, path_or_buf=\"/results/predictions/tcga_predicted_data_%s_demo.txt\" % model_name, sep='\\t', index_label='CRISPR_GENE', float_format='%.4f')\n",
    "print(\"\\n\\nPrediction completed in %.1f mins.\\nResults saved in /results/predictions/tcga_predicted_data_%s_demo.txt\\n\\n\" % (\n",
    "    (time.time()-t)/60, model_name))"
   ]
  }
 ],
 "metadata": {
  "kernelspec": {
   "display_name": "Deepdep",
   "language": "python",
   "name": "deepdep"
  },
  "language_info": {
   "codemirror_mode": {
    "name": "ipython",
    "version": 3
   },
   "file_extension": ".py",
   "mimetype": "text/x-python",
   "name": "python",
   "nbconvert_exporter": "python",
   "pygments_lexer": "ipython3",
   "version": "3.7.13"
  }
 },
 "nbformat": 4,
 "nbformat_minor": 5
}
