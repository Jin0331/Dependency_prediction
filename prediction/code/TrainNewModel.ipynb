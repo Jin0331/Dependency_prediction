{
 "cells": [
  {
   "cell_type": "code",
   "execution_count": 1,
   "id": "f729eb86-e529-477e-aada-0fee0ddec718",
   "metadata": {
    "tags": []
   },
   "outputs": [
    {
     "name": "stderr",
     "output_type": "stream",
     "text": [
      "2022-07-15 11:27:39.159266: I tensorflow/stream_executor/platform/default/dso_loader.cc:49] Successfully opened dynamic library libcudart.so.10.1\n"
     ]
    }
   ],
   "source": [
    "import os\n",
    "from os.path import exists\n",
    "import pickle\n",
    "from tqdm import tqdm\n",
    "\n",
    "import tensorflow as tf\n",
    "from tensorflow.keras import Model, Sequential\n",
    "from tensorflow.keras.layers import Dense, Concatenate\n",
    "from tensorflow.keras.callbacks import EarlyStopping\n",
    "from tensorflow.keras.wrappers.scikit_learn import KerasRegressor\n",
    "from tensorflow.keras import backend as K\n",
    "from sklearn.model_selection import cross_val_score, KFold\n",
    "\n",
    "import numpy as np\n",
    "import time\n",
    "import pandas as pd\n",
    "import matplotlib.pyplot as plt"
   ]
  },
  {
   "cell_type": "code",
   "execution_count": 2,
   "id": "adce683a-23f9-4b6e-a28b-7a036de08d40",
   "metadata": {},
   "outputs": [
    {
     "name": "stdout",
     "output_type": "stream",
     "text": [
      "/home/km/temp/DeepDEP/prediction/code\n",
      "/home/km/temp/DeepDEP\n"
     ]
    }
   ],
   "source": [
    "print(os.getcwd())\n",
    "os.chdir(\"/home/km/temp/DeepDEP/\")\n",
    "print(os.getcwd())"
   ]
  },
  {
   "cell_type": "code",
   "execution_count": 3,
   "id": "dcdda5bb-7c9c-41ad-b6d0-432d7cd879af",
   "metadata": {},
   "outputs": [],
   "source": [
    "def load_data(filename):\n",
    "    data = []\n",
    "    gene_names = []\n",
    "    data_labels = []\n",
    "    lines = open(filename).readlines()\n",
    "    sample_names = lines[0].replace('\\n', '').split('\\t')[1:]\n",
    "    dx = 1\n",
    "\n",
    "    for line in tqdm(lines[dx:], leave=True):\n",
    "        values = line.replace('\\n', '').split('\\t')\n",
    "        gene = str.upper(values[0])\n",
    "        gene_names.append(gene)\n",
    "        data.append(values[1:])\n",
    "    data = np.array(data, dtype='float32')\n",
    "    data = np.transpose(data)\n",
    "\n",
    "    return data, data_labels, sample_names, gene_names\n",
    "\n",
    "def build_regressor():\n",
    "    with tf.device('/cpu:0'):\n",
    "        model_mut = Sequential()\n",
    "        model_mut.add(Dense(1000, input_dim=premodel_mut[0][0].shape[0], activation=activation_func,\n",
    "                            weights=premodel_mut[0], trainable=True))\n",
    "        model_mut.add(Dense(100, input_dim=1000, activation=activation_func, weights=premodel_mut[1],\n",
    "                            trainable=True))\n",
    "        model_mut.add(Dense(50, input_dim=100, activation=activation_func, weights=premodel_mut[2],\n",
    "                            trainable=True))\n",
    "\n",
    "        model_exp = Sequential()\n",
    "        model_exp.add(Dense(1000, input_dim=premodel_exp[0][0].shape[0], activation=activation_func,\n",
    "                            weights=premodel_exp[0], trainable=True))\n",
    "        model_exp.add(Dense(100, input_dim=500, activation=activation_func, weights=premodel_exp[1],\n",
    "                            trainable=True))\n",
    "        model_exp.add(Dense(50, input_dim=200, activation=activation_func, weights=premodel_exp[2],\n",
    "                            trainable=True))\n",
    "\n",
    "        model_cna = Sequential()\n",
    "        model_cna.add(Dense(1000, input_dim=premodel_cna[0][0].shape[0], activation=activation_func,\n",
    "                            weights=premodel_cna[0], trainable=True))\n",
    "        model_cna.add(Dense(100, input_dim=500, activation=activation_func, weights=premodel_cna[1],\n",
    "                            trainable=True))\n",
    "        model_cna.add(Dense(50, input_dim=200, activation=activation_func, weights=premodel_cna[2],\n",
    "                            trainable=True))\n",
    "\n",
    "        model_meth = Sequential()\n",
    "        model_meth.add(Dense(1000, input_dim=premodel_meth[0][0].shape[0], activation=activation_func,\n",
    "                             weights=premodel_meth[0], trainable=True))\n",
    "        model_meth.add(Dense(100, input_dim=500, activation=activation_func, weights=premodel_meth[1],\n",
    "                             trainable=True))\n",
    "        model_meth.add(Dense(50, input_dim=200, activation=activation_func, weights=premodel_meth[2],\n",
    "                             trainable=True))\n",
    "\n",
    "        # subnetwork of gene fingerprints\n",
    "        model_gene = Sequential()\n",
    "        model_gene.add(Dense(1000, input_dim=data_fprint.shape[1], activation=activation_func, kernel_initializer=init,\n",
    "                             trainable=True))\n",
    "        model_gene.add(Dense(100, input_dim=1000, activation=activation_func, kernel_initializer=init, trainable=True))\n",
    "        model_gene.add(Dense(50, input_dim=100, activation=activation_func, kernel_initializer=init, trainable=True))\n",
    "\n",
    "        conc = Concatenate()([model_mut.output, model_exp.output, \n",
    "                              model_cna.output, model_meth.output, model_gene.output])\n",
    "\n",
    "        model_pre = Dense(dense_layer_dim, input_dim=250, activation=activation_func, kernel_initializer=init,\n",
    "                              trainable=True)(conc)\n",
    "        model_pre = Dense(dense_layer_dim, input_dim=dense_layer_dim, activation=activation_func, kernel_initializer=init,\n",
    "                              trainable=True)(model_pre)\n",
    "        model_pre = Dense(1, input_dim=dense_layer_dim, activation=activation_func2, kernel_initializer=init,\n",
    "                              trainable=True)(model_pre)\n",
    "\n",
    "        model_final = Model([model_mut.input, model_exp.input, model_cna.input, model_meth.input, model_gene.input], model_pre)\n",
    "        \n",
    "        return model_final\n",
    "\n",
    "def root_mean_squared_error(y_true, y_pred):\n",
    "        return K.sqrt(K.mean(K.square(y_pred - y_true), axis=-1)) \n",
    "    \n",
    "def coeff_determination(y_true, y_pred):\n",
    "    SS_res =  K.sum(K.square( y_true-y_pred ))\n",
    "    SS_tot = K.sum(K.square( y_true - K.mean(y_true) ) )\n",
    "    return ( 1 - SS_res/(SS_tot + K.epsilon()) )"
   ]
  },
  {
   "cell_type": "markdown",
   "id": "fcb67b4f-a5a5-488a-b957-bdc375e033fd",
   "metadata": {},
   "source": [
    "# with open('prediction/data/ccl_complete_data_28CCL_1298DepOI_36344samples_demo.pickle', 'rb') as f:\n",
    "# with open('data/ccl_complete_data_278CCL_1298DepOI_360844samples.pickle', 'rb') as f:\n",
    "#     data_mut, data_exp, data_cna, data_meth, data_dep, data_fprint = pickle.load(f)\n",
    "# This pickle file is for DEMO ONLY (containing 28 CCLs x 1298 DepOIs = 36344 samples)!\n",
    "# First 1298 samples correspond to 1298 DepOIs of the first CCL, and so on.\n",
    "# For the complete data used in the paper (278 CCLs x 1298 DepOIs = 360844 samples),\n",
    "# please substitute by 'ccl_complete_data_278CCL_1298DepOI_360844samples.pickle',\n",
    "# to which a link can be found in README.md"
   ]
  },
  {
   "cell_type": "markdown",
   "id": "99d92c9b-0cde-4d9c-be16-951d4bb809a6",
   "metadata": {},
   "source": [
    "## **Data Load & Path**"
   ]
  },
  {
   "cell_type": "code",
   "execution_count": 4,
   "id": "5628f6e9-1b8b-4b6f-af26-3fea87b56b22",
   "metadata": {},
   "outputs": [],
   "source": [
    "TRAIN_PATH = \"/home/km/temp/DeepDEP/preprocessing/DATA/2022-07-13/\"\n",
    "TEMP_PATH = \"prediction/train_preprocessing/\"\n",
    "SAVE_PATH = \"prediction/custom_model/\""
   ]
  },
  {
   "cell_type": "code",
   "execution_count": 5,
   "id": "b7d89215-b9f3-4ea3-84dd-79caf954aab4",
   "metadata": {},
   "outputs": [],
   "source": [
    "if exists(\"prediction/data/ccl_complete_data_501CCL_1298DepOI_614727samples_custom.npz\") is False:\n",
    "    # load TCGA mutation data, substitute here with other genomics\n",
    "    data_exp, data_labels_exp, sample_names_exp, property_names_exp = load_data(TRAIN_PATH + \"train_exp_training.txt\")\n",
    "    if exists(TEMP_PATH + \"train_exp_training.npy\") is False:\n",
    "        np.save(TEMP_PATH + 'train_exp_training.npy', data_exp)\n",
    "\n",
    "    data_mut, data_labels_mut, sample_names_mut, property_names_mut = load_data(TRAIN_PATH + \"train_mut_training.txt\")\n",
    "    if exists(TEMP_PATH + \"train_mut_training.npy\") is False:\n",
    "        np.save(TEMP_PATH + 'train_mut_training.npy', data_mut)\n",
    "\n",
    "    data_cna, data_labels_cna, sample_names_cna, property_names_cna = load_data(TRAIN_PATH + \"train_cna_training.txt\")\n",
    "    if exists(TEMP_PATH + \"train_cna_training.npy\") is False:\n",
    "        np.save(TEMP_PATH + 'train_cna_training.npy', data_cna)\n",
    "\n",
    "    data_meth, data_labels_meth, sample_names_meth, property_names_meth = load_data(TRAIN_PATH + \"train_meth_training.txt\")\n",
    "    if exists(TEMP_PATH + \"train_meth_training.npy\") is False:\n",
    "        np.save(TEMP_PATH + 'train_meth_training.npy', data_meth)\n",
    "\n",
    "    data_dep, data_labels_dep, sample_names_dep, property_names_dep = load_data(TRAIN_PATH + \"train_DepScore_training.txt\")\n",
    "    if exists(TEMP_PATH + \"train_DepScore_training.npy\") is False:\n",
    "        np.save(TEMP_PATH + 'train_DepScore_training.npy', data_dep)\n",
    "\n",
    "    data_fprint, data_labels_fprint, sample_names_fprint, property_names_fprint = load_data(TRAIN_PATH + \"train_fingerprint_training.txt\")\n",
    "    if exists(TEMP_PATH + \"train_fingerprint_training.npy\") is False:\n",
    "        np.save(TEMP_PATH + 'train_fingerprint_training.npy', data_fprint)\n",
    "\n",
    "    np.savez_compressed(\"prediction/data/ccl_complete_data_501CCL_1298DepOI_614727samples_custom.npz\", \n",
    "                        data_exp=data_exp, data_mut=data_mut, data_cna=data_cna, data_meth=data_meth,\n",
    "                        data_dep=data_dep, data_fprint=data_fprint)\n",
    "else :\n",
    "    data = np.load(\"prediction/data/ccl_complete_data_501CCL_1298DepOI_614727samples_custom.npz\")\n",
    "    data_exp = data['data_exp']\n",
    "    data_mut = data['data_mut']\n",
    "    data_cna = data['data_cna']\n",
    "    data_meth = data['data_meth']\n",
    "    data_fprint = data['data_fprint']\n",
    "    data_dep = data['data_dep']"
   ]
  },
  {
   "cell_type": "markdown",
   "id": "2e3ea62b-4912-4362-8db1-6870d160af68",
   "metadata": {
    "tags": []
   },
   "source": [
    "## **Build Model**"
   ]
  },
  {
   "cell_type": "markdown",
   "id": "b160fc45-0656-4460-aa28-59be7a3ba1da",
   "metadata": {},
   "source": [
    "* **Pretrained Model load - TCGA**"
   ]
  },
  {
   "cell_type": "code",
   "execution_count": 6,
   "id": "278ee53c-817b-40d2-9d9a-f2d4d8a76ad0",
   "metadata": {},
   "outputs": [],
   "source": [
    "# Load autoencoders of each genomics that were pre-trained using 8238 TCGA samples\n",
    "# New autoencoders can be pretrained using PretrainAE.py\n",
    "premodel_mut = pickle.load(open(SAVE_PATH + 'premodel_tcga_custom_mut_1000_100_50.pickle', 'rb'))\n",
    "premodel_exp = pickle.load(open(SAVE_PATH + 'premodel_tcga_custom_exp_1000_100_50.pickle', 'rb'))\n",
    "premodel_cna = pickle.load(open(SAVE_PATH + 'premodel_tcga_custom_cna_1000_100_50.pickle', 'rb'))\n",
    "premodel_meth = pickle.load(open(SAVE_PATH + 'premodel_tcga_custom_meth_1000_100_50.pickle', 'rb'))"
   ]
  },
  {
   "cell_type": "code",
   "execution_count": 7,
   "id": "30ea8edd-c93d-4639-ab3d-aefb9f20d6f7",
   "metadata": {},
   "outputs": [],
   "source": [
    "activation_func = 'relu' # for all middle layers\n",
    "activation_func2 = 'linear' # for output layer to output unbounded gene-effect scores\n",
    "init = 'he_uniform'\n",
    "dense_layer_dim = 250\n",
    "batch_size = 230\n",
    "num_epoch = 100\n",
    "num_DepOI = 1298 # 1298 DepOIs as defined in our paper\n",
    "num_ccl = int(data_mut.shape[0]/num_DepOI)"
   ]
  },
  {
   "cell_type": "code",
   "execution_count": 8,
   "id": "ac9c45c4-9421-4aec-b47b-a186e08db96a",
   "metadata": {},
   "outputs": [],
   "source": [
    "# # 90% CCLs for training/validation, and 10% for testing\n",
    "# id_rand = np.random.permutation(num_ccl)\n",
    "# id_cell_train = id_rand[np.arange(0, round(num_ccl*0.9))]\n",
    "# id_cell_test = id_rand[np.arange(round(num_ccl*0.9), num_ccl)]\n",
    "# id_train = np.arange(0, 1298) + id_cell_train[0]*1298\n",
    "# for y in id_cell_train:\n",
    "#     id_train = np.union1d(id_train, np.arange(0, 1298) + y*1298)\n",
    "# id_test = np.arange(0, 1298) + id_cell_test[0] * 1298\n",
    "# for y in id_cell_test:\n",
    "#     id_test = np.union1d(id_test, np.arange(0, 1298) + y*1298)\n",
    "# print(\"\\n\\nTraining/validation on %d samples (%d CCLs x %d DepOIs) and testing on %d samples (%d CCLs x %d DepOIs).\\n\\n\" % (\n",
    "#     len(id_train), len(id_cell_train), num_DepOI, len(id_test), len(id_cell_test), num_DepOI))"
   ]
  },
  {
   "cell_type": "code",
   "execution_count": null,
   "id": "23b83607-8be9-496f-9823-e45a8e1889ff",
   "metadata": {
    "tags": []
   },
   "outputs": [],
   "source": [
    "tf.keras.utils.plot_model(model_final, show_shapes=True,  show_dtype=True, to_file='model_custom.png')"
   ]
  },
  {
   "cell_type": "markdown",
   "id": "2d0186ce-0b1f-4bbb-804c-518e22e103ad",
   "metadata": {},
   "source": [
    "## **Fit & Evaluation Model**"
   ]
  },
  {
   "cell_type": "code",
   "execution_count": 10,
   "id": "92527a8f-66ad-4520-ac59-849f5ca5c418",
   "metadata": {},
   "outputs": [],
   "source": [
    "n_folds = 10\n",
    "kfold = KFold(n_splits=n_folds, shuffle=True, random_state=331)\n",
    "kfold_spt = kfold.split(data_dep, data_exp)\n",
    "cvscores = []"
   ]
  },
  {
   "cell_type": "code",
   "execution_count": null,
   "id": "566b3020-d6c8-460f-be3d-6ffc9d8134f5",
   "metadata": {
    "tags": []
   },
   "outputs": [
    {
     "name": "stdout",
     "output_type": "stream",
     "text": [
      "Running Fold 1 / 10\n"
     ]
    },
    {
     "name": "stderr",
     "output_type": "stream",
     "text": [
      "2022-07-15 11:47:24.959802: I tensorflow/compiler/jit/xla_cpu_device.cc:41] Not creating XLA devices, tf_xla_enable_xla_devices not set\n",
      "2022-07-15 11:47:24.961751: I tensorflow/stream_executor/platform/default/dso_loader.cc:49] Successfully opened dynamic library libcuda.so.1\n",
      "2022-07-15 11:47:24.992168: I tensorflow/core/common_runtime/gpu/gpu_device.cc:1720] Found device 0 with properties: \n",
      "pciBusID: 0000:83:00.0 name: GeForce RTX 2080 Ti computeCapability: 7.5\n",
      "coreClock: 1.665GHz coreCount: 68 deviceMemorySize: 10.76GiB deviceMemoryBandwidth: 573.69GiB/s\n",
      "2022-07-15 11:47:24.992204: I tensorflow/stream_executor/platform/default/dso_loader.cc:49] Successfully opened dynamic library libcudart.so.10.1\n",
      "2022-07-15 11:47:24.995847: I tensorflow/stream_executor/platform/default/dso_loader.cc:49] Successfully opened dynamic library libcublas.so.10\n",
      "2022-07-15 11:47:24.995922: I tensorflow/stream_executor/platform/default/dso_loader.cc:49] Successfully opened dynamic library libcublasLt.so.10\n",
      "2022-07-15 11:47:24.997989: I tensorflow/stream_executor/platform/default/dso_loader.cc:49] Successfully opened dynamic library libcufft.so.10\n",
      "2022-07-15 11:47:24.998375: I tensorflow/stream_executor/platform/default/dso_loader.cc:49] Successfully opened dynamic library libcurand.so.10\n",
      "2022-07-15 11:47:25.000922: I tensorflow/stream_executor/platform/default/dso_loader.cc:49] Successfully opened dynamic library libcusolver.so.10\n",
      "2022-07-15 11:47:25.001933: I tensorflow/stream_executor/platform/default/dso_loader.cc:49] Successfully opened dynamic library libcusparse.so.10\n",
      "2022-07-15 11:47:25.007185: I tensorflow/stream_executor/platform/default/dso_loader.cc:49] Successfully opened dynamic library libcudnn.so.7\n",
      "2022-07-15 11:47:25.009004: I tensorflow/core/common_runtime/gpu/gpu_device.cc:1862] Adding visible gpu devices: 0\n",
      "2022-07-15 11:47:25.010461: I tensorflow/core/platform/cpu_feature_guard.cc:142] This TensorFlow binary is optimized with oneAPI Deep Neural Network Library (oneDNN) to use the following CPU instructions in performance-critical operations:  SSE4.1 SSE4.2 AVX\n",
      "To enable them in other operations, rebuild TensorFlow with the appropriate compiler flags.\n",
      "2022-07-15 11:47:25.011530: I tensorflow/compiler/jit/xla_gpu_device.cc:99] Not creating XLA devices, tf_xla_enable_xla_devices not set\n",
      "2022-07-15 11:47:25.012396: I tensorflow/core/common_runtime/gpu/gpu_device.cc:1720] Found device 0 with properties: \n",
      "pciBusID: 0000:83:00.0 name: GeForce RTX 2080 Ti computeCapability: 7.5\n",
      "coreClock: 1.665GHz coreCount: 68 deviceMemorySize: 10.76GiB deviceMemoryBandwidth: 573.69GiB/s\n",
      "2022-07-15 11:47:25.012422: I tensorflow/stream_executor/platform/default/dso_loader.cc:49] Successfully opened dynamic library libcudart.so.10.1\n",
      "2022-07-15 11:47:25.012450: I tensorflow/stream_executor/platform/default/dso_loader.cc:49] Successfully opened dynamic library libcublas.so.10\n",
      "2022-07-15 11:47:25.012477: I tensorflow/stream_executor/platform/default/dso_loader.cc:49] Successfully opened dynamic library libcublasLt.so.10\n",
      "2022-07-15 11:47:25.012518: I tensorflow/stream_executor/platform/default/dso_loader.cc:49] Successfully opened dynamic library libcufft.so.10\n",
      "2022-07-15 11:47:25.012547: I tensorflow/stream_executor/platform/default/dso_loader.cc:49] Successfully opened dynamic library libcurand.so.10\n",
      "2022-07-15 11:47:25.012575: I tensorflow/stream_executor/platform/default/dso_loader.cc:49] Successfully opened dynamic library libcusolver.so.10\n",
      "2022-07-15 11:47:25.012601: I tensorflow/stream_executor/platform/default/dso_loader.cc:49] Successfully opened dynamic library libcusparse.so.10\n",
      "2022-07-15 11:47:25.012628: I tensorflow/stream_executor/platform/default/dso_loader.cc:49] Successfully opened dynamic library libcudnn.so.7\n",
      "2022-07-15 11:47:25.014190: I tensorflow/core/common_runtime/gpu/gpu_device.cc:1862] Adding visible gpu devices: 0\n",
      "2022-07-15 11:47:25.014236: I tensorflow/stream_executor/platform/default/dso_loader.cc:49] Successfully opened dynamic library libcudart.so.10.1\n",
      "2022-07-15 11:47:25.881694: I tensorflow/core/common_runtime/gpu/gpu_device.cc:1261] Device interconnect StreamExecutor with strength 1 edge matrix:\n",
      "2022-07-15 11:47:25.881742: I tensorflow/core/common_runtime/gpu/gpu_device.cc:1267]      0 \n",
      "2022-07-15 11:47:25.881754: I tensorflow/core/common_runtime/gpu/gpu_device.cc:1280] 0:   N \n",
      "2022-07-15 11:47:25.884446: I tensorflow/core/common_runtime/gpu/gpu_device.cc:1406] Created TensorFlow device (/job:localhost/replica:0/task:0/device:GPU:0 with 9749 MB memory) -> physical GPU (device: 0, name: GeForce RTX 2080 Ti, pci bus id: 0000:83:00.0, compute capability: 7.5)\n",
      "2022-07-15 11:51:27.218207: I tensorflow/compiler/mlir/mlir_graph_optimization_pass.cc:116] None of the MLIR optimization passes are enabled (registered 2)\n",
      "2022-07-15 11:51:27.236754: I tensorflow/core/platform/profile_utils/cpu_utils.cc:112] CPU Frequency: 2599845000 Hz\n"
     ]
    },
    {
     "name": "stdout",
     "output_type": "stream",
     "text": [
      "Epoch 1/20\n"
     ]
    },
    {
     "name": "stderr",
     "output_type": "stream",
     "text": [
      "2022-07-15 11:51:28.523687: I tensorflow/stream_executor/platform/default/dso_loader.cc:49] Successfully opened dynamic library libcublas.so.10\n"
     ]
    },
    {
     "name": "stdout",
     "output_type": "stream",
     "text": [
      " 3169/17290 [====>.........................] - ETA: 33:53 - loss: 0.6164 - coeff_determination: -1.3935"
     ]
    }
   ],
   "source": [
    "for i, (train, test) in enumerate(kfold_spt):\n",
    "    print(\"Running Fold\", i+1, \"/\", n_folds)\n",
    "    # create model\n",
    "    model = build_regressor()\n",
    "    # Compile model\n",
    "    model.compile(loss='mse', optimizer='adam', metrics=[coeff_determination])\n",
    "    # Fit the model\n",
    "    model.fit([data_mut[train], data_exp[train], data_cna[train], data_meth[train], data_fprint[train]],\n",
    "        data_dep[train], epochs=20, verbose=1)\n",
    "    # evaluate the model\n",
    "    scores = model.evaluate([data_mut[test], data_exp[test], data_cna[test], data_meth[test], data_fprint[test]],\n",
    "        data_dep[test], verbose=1)\n",
    "    cvscores.append(scores)"
   ]
  },
  {
   "cell_type": "code",
   "execution_count": null,
   "id": "70b60643-b7e7-4c5c-bc7c-b3e868040c3d",
   "metadata": {
    "tags": []
   },
   "outputs": [],
   "source": [
    "print(\"%.2f%% (+/- %.2f%%)\" % (np.mean(cvscores), np.std(cvscores)))"
   ]
  },
  {
   "cell_type": "code",
   "execution_count": null,
   "id": "c2052197-56d5-4ff6-b3f3-8a173d6eb778",
   "metadata": {},
   "outputs": [],
   "source": []
  },
  {
   "cell_type": "markdown",
   "id": "ab6cf394-a9ce-4b78-9bd8-95a4c9b11089",
   "metadata": {},
   "source": [
    "* **Final Model**"
   ]
  },
  {
   "cell_type": "code",
   "execution_count": null,
   "id": "90b10659-35f4-4035-a7da-a4bfe19c783d",
   "metadata": {
    "tags": []
   },
   "outputs": [],
   "source": [
    "with tf.dshapeice('/cpu:0'):\n",
    "    # training with early stopping with 3 patience\n",
    "    es = EarlyStopping(monitor='val_loss', min_delta=0, patience=5, verbose=1, mode='min')\n",
    "    model_final.compile(loss='mse', optimizer='adam')\n",
    "    history = model_final.fit(\n",
    "        [data_mut[id_train], data_exp[id_train], data_cna[id_train], data_meth[id_train], data_fprint[id_train]],\n",
    "        data_dep[id_train], epochs=num_epoch, validation_split=1/9, batch_size=batch_size, shuffle=True,\n",
    "        callbacks=[es])"
   ]
  },
  {
   "cell_type": "code",
   "execution_count": null,
   "id": "2ee83df9-74f3-4515-93ca-bd1cc675c49e",
   "metadata": {},
   "outputs": [],
   "source": [
    "# 7 훈련 과정 시각화 (손실)\n",
    "plt.plot(history.history['loss'])\n",
    "plt.plot(history.history['val_loss'])\n",
    "plt.title('Model loss')\n",
    "plt.xlabel('Epoch')\n",
    "plt.ylabel('Loss')\n",
    "plt.legend(['Train', 'Test'], loc='upper left')\n",
    "plt.show()"
   ]
  },
  {
   "cell_type": "code",
   "execution_count": null,
   "id": "e6e0598f-b63e-420f-9980-78e5adb6c973",
   "metadata": {},
   "outputs": [],
   "source": [
    "print(\"\\n\\nFull DeepDEP model training completed in %.1f mins.\\nloss:%.4f valloss:%.4f testloss:%.4f\" % (\n",
    "    (time.time() - t)/60, history.model.model.history.history['loss'][history.stopped_epoch],\n",
    "    history.model.model.history.history['val_loss'][history.stopped_epoch], cost_testing))"
   ]
  },
  {
   "cell_type": "code",
   "execution_count": null,
   "id": "bf8fa4ae-509a-4cd3-888c-1dfc05024459",
   "metadata": {},
   "outputs": [],
   "source": [
    "model_final.save(SAVE_PATH + \"model_custom_full.h5\")\n",
    "print(\"\\n\\nFull DeepDEP model saved in %s\\n\\n\" % (SAVE_PATH + \"model_custom_full.h5\"))"
   ]
  }
 ],
 "metadata": {
  "kernelspec": {
   "display_name": "Deepdep",
   "language": "python",
   "name": "deepdep"
  },
  "language_info": {
   "codemirror_mode": {
    "name": "ipython",
    "version": 3
   },
   "file_extension": ".py",
   "mimetype": "text/x-python",
   "name": "python",
   "nbconvert_exporter": "python",
   "pygments_lexer": "ipython3",
   "version": "3.7.13"
  }
 },
 "nbformat": 4,
 "nbformat_minor": 5
}
