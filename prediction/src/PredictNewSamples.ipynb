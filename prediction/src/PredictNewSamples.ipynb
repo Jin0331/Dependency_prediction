{
 "cells": [
  {
   "cell_type": "code",
   "execution_count": 1,
   "metadata": {},
   "outputs": [
    {
     "name": "stderr",
     "output_type": "stream",
     "text": [
      "2022-07-25 08:43:00.845177: I tensorflow/stream_executor/platform/default/dso_loader.cc:49] Successfully opened dynamic library libcudart.so.10.1\n"
     ]
    }
   ],
   "source": [
    "import pickle\n",
    "import tensorflow as tf\n",
    "from tensorflow.keras import models\n",
    "\n",
    "import os\n",
    "import numpy as np\n",
    "import time\n",
    "import pandas as pd"
   ]
  },
  {
   "cell_type": "code",
   "execution_count": 2,
   "metadata": {},
   "outputs": [],
   "source": [
    "def load_data(filename):\n",
    "    data = []\n",
    "    gene_names = []\n",
    "    lines = open(filename).readlines()\n",
    "    sample_names = lines[0].replace('\\n', '').split('\\t')[1:]\n",
    "    dx = 1\n",
    "\n",
    "    for line in lines[dx:]:\n",
    "        values = line.replace('\\n', '').split('\\t')\n",
    "        gene = str.upper(values[0])\n",
    "        gene_names.append(gene)\n",
    "        data.append(values[1:])\n",
    "    data = np.array(data, dtype='float32')\n",
    "    data = np.transpose(data)\n",
    "\n",
    "    return data, sample_names, gene_names\n",
    "\n",
    "def root_mean_squared_error(y_true, y_pred):\n",
    "        return K.sqrt(K.mean(K.square(y_pred - y_true), axis=-1)) \n",
    "    \n",
    "def coeff_determination(y_true, y_pred):\n",
    "    SS_res =  K.sum(K.square( y_true-y_pred ))\n",
    "    SS_tot = K.sum(K.square( y_true - K.mean(y_true) ) )\n",
    "    return ( 1 - SS_res/(SS_tot + K.epsilon()) )"
   ]
  },
  {
   "cell_type": "code",
   "execution_count": 3,
   "metadata": {},
   "outputs": [
    {
     "name": "stdout",
     "output_type": "stream",
     "text": [
      "/home/wmbio/WORK/gitworking/DeepDEP/prediction/code\n",
      "/home/wmbio/WORK/gitworking/DeepDEP\n"
     ]
    }
   ],
   "source": [
    "print(os.getcwd())\n",
    "os.chdir(\"/home/wmbio/WORK/gitworking/DeepDEP/\")\n",
    "print(os.getcwd())"
   ]
  },
  {
   "cell_type": "code",
   "execution_count": 4,
   "metadata": {
    "collapsed": true,
    "jupyter": {
     "outputs_hidden": true
    },
    "tags": []
   },
   "outputs": [
    {
     "name": "stderr",
     "output_type": "stream",
     "text": [
      "2022-07-25 08:43:53.019816: I tensorflow/compiler/jit/xla_cpu_device.cc:41] Not creating XLA devices, tf_xla_enable_xla_devices not set\n",
      "2022-07-25 08:43:53.020717: I tensorflow/stream_executor/platform/default/dso_loader.cc:49] Successfully opened dynamic library libcuda.so.1\n",
      "2022-07-25 08:43:53.059606: I tensorflow/stream_executor/cuda/cuda_gpu_executor.cc:941] successful NUMA node read from SysFS had negative value (-1), but there must be at least one NUMA node, so returning NUMA node zero\n",
      "2022-07-25 08:43:53.059863: I tensorflow/core/common_runtime/gpu/gpu_device.cc:1720] Found device 0 with properties: \n",
      "pciBusID: 0000:2b:00.0 name: NVIDIA GeForce GTX 1650 computeCapability: 7.5\n",
      "coreClock: 1.635GHz coreCount: 14 deviceMemorySize: 3.81GiB deviceMemoryBandwidth: 178.84GiB/s\n",
      "2022-07-25 08:43:53.059874: I tensorflow/stream_executor/platform/default/dso_loader.cc:49] Successfully opened dynamic library libcudart.so.10.1\n",
      "2022-07-25 08:43:53.060895: I tensorflow/stream_executor/platform/default/dso_loader.cc:49] Successfully opened dynamic library libcublas.so.10\n",
      "2022-07-25 08:43:53.060915: I tensorflow/stream_executor/platform/default/dso_loader.cc:49] Successfully opened dynamic library libcublasLt.so.10\n",
      "2022-07-25 08:43:53.061934: I tensorflow/stream_executor/platform/default/dso_loader.cc:49] Successfully opened dynamic library libcufft.so.10\n",
      "2022-07-25 08:43:53.062074: I tensorflow/stream_executor/platform/default/dso_loader.cc:49] Successfully opened dynamic library libcurand.so.10\n",
      "2022-07-25 08:43:53.063036: I tensorflow/stream_executor/platform/default/dso_loader.cc:49] Successfully opened dynamic library libcusolver.so.10\n",
      "2022-07-25 08:43:53.063502: I tensorflow/stream_executor/platform/default/dso_loader.cc:49] Successfully opened dynamic library libcusparse.so.10\n",
      "2022-07-25 08:43:53.065482: I tensorflow/stream_executor/platform/default/dso_loader.cc:49] Successfully opened dynamic library libcudnn.so.7\n",
      "2022-07-25 08:43:53.065539: I tensorflow/stream_executor/cuda/cuda_gpu_executor.cc:941] successful NUMA node read from SysFS had negative value (-1), but there must be at least one NUMA node, so returning NUMA node zero\n",
      "2022-07-25 08:43:53.065799: I tensorflow/stream_executor/cuda/cuda_gpu_executor.cc:941] successful NUMA node read from SysFS had negative value (-1), but there must be at least one NUMA node, so returning NUMA node zero\n",
      "2022-07-25 08:43:53.066028: I tensorflow/core/common_runtime/gpu/gpu_device.cc:1862] Adding visible gpu devices: 0\n",
      "2022-07-25 08:43:53.066609: I tensorflow/core/platform/cpu_feature_guard.cc:142] This TensorFlow binary is optimized with oneAPI Deep Neural Network Library (oneDNN) to use the following CPU instructions in performance-critical operations:  SSE4.1 SSE4.2 AVX AVX2 FMA\n",
      "To enable them in other operations, rebuild TensorFlow with the appropriate compiler flags.\n",
      "2022-07-25 08:43:53.067894: I tensorflow/compiler/jit/xla_gpu_device.cc:99] Not creating XLA devices, tf_xla_enable_xla_devices not set\n",
      "2022-07-25 08:43:53.067979: I tensorflow/stream_executor/cuda/cuda_gpu_executor.cc:941] successful NUMA node read from SysFS had negative value (-1), but there must be at least one NUMA node, so returning NUMA node zero\n",
      "2022-07-25 08:43:53.068202: I tensorflow/core/common_runtime/gpu/gpu_device.cc:1720] Found device 0 with properties: \n",
      "pciBusID: 0000:2b:00.0 name: NVIDIA GeForce GTX 1650 computeCapability: 7.5\n",
      "coreClock: 1.635GHz coreCount: 14 deviceMemorySize: 3.81GiB deviceMemoryBandwidth: 178.84GiB/s\n",
      "2022-07-25 08:43:53.068211: I tensorflow/stream_executor/platform/default/dso_loader.cc:49] Successfully opened dynamic library libcudart.so.10.1\n",
      "2022-07-25 08:43:53.068219: I tensorflow/stream_executor/platform/default/dso_loader.cc:49] Successfully opened dynamic library libcublas.so.10\n",
      "2022-07-25 08:43:53.068224: I tensorflow/stream_executor/platform/default/dso_loader.cc:49] Successfully opened dynamic library libcublasLt.so.10\n",
      "2022-07-25 08:43:53.068229: I tensorflow/stream_executor/platform/default/dso_loader.cc:49] Successfully opened dynamic library libcufft.so.10\n",
      "2022-07-25 08:43:53.068234: I tensorflow/stream_executor/platform/default/dso_loader.cc:49] Successfully opened dynamic library libcurand.so.10\n",
      "2022-07-25 08:43:53.068239: I tensorflow/stream_executor/platform/default/dso_loader.cc:49] Successfully opened dynamic library libcusolver.so.10\n",
      "2022-07-25 08:43:53.068245: I tensorflow/stream_executor/platform/default/dso_loader.cc:49] Successfully opened dynamic library libcusparse.so.10\n",
      "2022-07-25 08:43:53.068250: I tensorflow/stream_executor/platform/default/dso_loader.cc:49] Successfully opened dynamic library libcudnn.so.7\n",
      "2022-07-25 08:43:53.068281: I tensorflow/stream_executor/cuda/cuda_gpu_executor.cc:941] successful NUMA node read from SysFS had negative value (-1), but there must be at least one NUMA node, so returning NUMA node zero\n",
      "2022-07-25 08:43:53.068518: I tensorflow/stream_executor/cuda/cuda_gpu_executor.cc:941] successful NUMA node read from SysFS had negative value (-1), but there must be at least one NUMA node, so returning NUMA node zero\n",
      "2022-07-25 08:43:53.068727: I tensorflow/core/common_runtime/gpu/gpu_device.cc:1862] Adding visible gpu devices: 0\n",
      "2022-07-25 08:43:53.068745: I tensorflow/stream_executor/platform/default/dso_loader.cc:49] Successfully opened dynamic library libcudart.so.10.1\n",
      "2022-07-25 08:43:53.395041: I tensorflow/core/common_runtime/gpu/gpu_device.cc:1261] Device interconnect StreamExecutor with strength 1 edge matrix:\n",
      "2022-07-25 08:43:53.395065: I tensorflow/core/common_runtime/gpu/gpu_device.cc:1267]      0 \n",
      "2022-07-25 08:43:53.395069: I tensorflow/core/common_runtime/gpu/gpu_device.cc:1280] 0:   N \n",
      "2022-07-25 08:43:53.395259: I tensorflow/stream_executor/cuda/cuda_gpu_executor.cc:941] successful NUMA node read from SysFS had negative value (-1), but there must be at least one NUMA node, so returning NUMA node zero\n",
      "2022-07-25 08:43:53.395519: I tensorflow/stream_executor/cuda/cuda_gpu_executor.cc:941] successful NUMA node read from SysFS had negative value (-1), but there must be at least one NUMA node, so returning NUMA node zero\n",
      "2022-07-25 08:43:53.395742: I tensorflow/stream_executor/cuda/cuda_gpu_executor.cc:941] successful NUMA node read from SysFS had negative value (-1), but there must be at least one NUMA node, so returning NUMA node zero\n",
      "2022-07-25 08:43:53.395951: I tensorflow/core/common_runtime/gpu/gpu_device.cc:1406] Created TensorFlow device (/job:localhost/replica:0/task:0/device:GPU:0 with 3208 MB memory) -> physical GPU (device: 0, name: NVIDIA GeForce GTX 1650, pci bus id: 0000:2b:00.0, compute capability: 7.5)\n"
     ]
    }
   ],
   "source": [
    "with tf.device('/cpu:0'):\n",
    "#     model_name = \"model_custom_full_0720\"\n",
    "    model_name = \"model_custom_full_0720\"\n",
    "    model_saved = models.load_model(\"prediction/custom_model/%s.h5\" % model_name, \n",
    "                                    custom_objects={\"coeff_determination\": coeff_determination})\n",
    "# model_paper is the full 4-omics DeepDEP model used in the paper\n",
    "# user can choose from single-omics, 2-omics, or full DeepDEP models from the\n",
    "# /data/full_results_models_paper/models/ directory"
   ]
  },
  {
   "cell_type": "markdown",
   "metadata": {},
   "source": [
    "* **Custom**"
   ]
  },
  {
   "cell_type": "code",
   "execution_count": 10,
   "metadata": {},
   "outputs": [
    {
     "name": "stdout",
     "output_type": "stream",
     "text": [
      "\n",
      "\n",
      "Datasets successfully loaded.\n",
      "\n",
      "\n"
     ]
    }
   ],
   "source": [
    "# load TCGA genomics data and gene fingerprints\n",
    "data_mut, sample_names_mut, gene_names_mut = load_data(\n",
    "    \"preprocessing/DATA/2022-07-13/predict_mut_prediction.txt\")\n",
    "data_exp, sample_names_exp, gene_names_exp = load_data(\n",
    "    \"preprocessing/DATA/2022-07-13/predict_exp_prediction.txt\")\n",
    "data_cna, sample_names_cna, gene_names_cna = load_data(\n",
    "    \"preprocessing/DATA/2022-07-13/predict_cna_prediction.txt\")\n",
    "data_meth, sample_names_meth, gene_names_meth = load_data(\n",
    "    \"preprocessing/DATA/2022-07-13/predict_meth_prediction.txt\")\n",
    "data_fprint_DepOIs, gene_names_fprint, function_names_fprint = load_data(\n",
    "    \"preprocessing/DATA/2022-07-13/predict_fingerprint_prediction.txt\")\n",
    "print(\"\\n\\nDatasets successfully loaded.\\n\\n\")"
   ]
  },
  {
   "cell_type": "code",
   "execution_count": 16,
   "metadata": {},
   "outputs": [
    {
     "data": {
      "text/plain": [
       "(10, 4539)"
      ]
     },
     "execution_count": 16,
     "metadata": {},
     "output_type": "execute_result"
    }
   ],
   "source": [
    "data_mut.shape"
   ]
  },
  {
   "cell_type": "markdown",
   "metadata": {},
   "source": [
    "* **Paper**"
   ]
  },
  {
   "cell_type": "code",
   "execution_count": 5,
   "metadata": {},
   "outputs": [
    {
     "name": "stdout",
     "output_type": "stream",
     "text": [
      "\n",
      "\n",
      "Datasets successfully loaded.\n",
      "\n",
      "\n"
     ]
    }
   ],
   "source": [
    "data_mut, sample_names_mut, gene_names_mut = load_data(\n",
    "    \"prediction/data/prediction_data/predict_mut_prediction.txt\")\n",
    "data_exp, sample_names_exp, gene_names_exp = load_data(\n",
    "    \"prediction/data/prediction_data/predict_exp_prediction.txt\")\n",
    "data_cna, sample_names_cna, gene_names_cna = load_data(\n",
    "    \"prediction/data/prediction_data/predict_cna_prediction.txt\")\n",
    "data_meth, sample_names_meth, gene_names_meth = load_data(\n",
    "    \"prediction/data/prediction_data/predict_meth_prediction.txt\")\n",
    "data_fprint_DepOIs, gene_names_fprint, function_names_fprint = load_data(\n",
    "    \"prediction/data/prediction_data/predict_fingerprint_prediction.txt\")\n",
    "print(\"\\n\\nDatasets successfully loaded.\\n\\n\")"
   ]
  },
  {
   "cell_type": "code",
   "execution_count": 11,
   "metadata": {},
   "outputs": [],
   "source": [
    "batch_size = 64\n",
    "first_to_predict = 10\n",
    "# predict the first 10 samples for DEMO ONLY, for all samples please substitute 10 by data_mut_tcga.shape[0]\n",
    "# prediction results of all 8238 TCGA samples can be found in /data/full_results_models_paper/predictions/"
   ]
  },
  {
   "cell_type": "code",
   "execution_count": 16,
   "metadata": {
    "tags": []
   },
   "outputs": [
    {
     "name": "stdout",
     "output_type": "stream",
     "text": [
      "Unscreended sample 0 predicted...\n",
      "Unscreended sample 1 predicted...\n",
      "Unscreended sample 2 predicted...\n",
      "Unscreended sample 3 predicted...\n",
      "Unscreended sample 4 predicted...\n",
      "Unscreended sample 5 predicted...\n",
      "Unscreended sample 6 predicted...\n",
      "Unscreended sample 7 predicted...\n",
      "Unscreended sample 8 predicted...\n",
      "Unscreended sample 9 predicted...\n"
     ]
    }
   ],
   "source": [
    "with tf.device('/cpu:0'):\n",
    "    t = time.time()\n",
    "    data_pred = np.zeros((first_to_predict, data_fprint_DepOIs.shape[0]))\n",
    "    for z in np.arange(0, first_to_predict):\n",
    "        data_pred_tmp = model_saved.predict([\n",
    "            data_mut[np.repeat(z, data_fprint_DepOIs.shape[0])],\n",
    "            data_exp[np.repeat(z, data_fprint_DepOIs.shape[0])],\n",
    "            data_cna[np.repeat(z, data_fprint_DepOIs.shape[0])],\n",
    "            data_meth[np.repeat(z, data_fprint_DepOIs.shape[0])],\n",
    "            data_fprint_DepOIs\n",
    "        ], \n",
    "            batch_size=batch_size, verbose=0)\n",
    "        data_pred[z] = np.transpose(data_pred_tmp)\n",
    "        print(\"Unscreended sample %d predicted...\" % z)"
   ]
  },
  {
   "cell_type": "code",
   "execution_count": 17,
   "metadata": {},
   "outputs": [],
   "source": [
    "# write prediction results to txt\n",
    "data_pred_df = pd.DataFrame(data=np.transpose(data_pred), index=gene_names_fprint, columns=sample_names_mut[0:first_to_predict])"
   ]
  },
  {
   "cell_type": "code",
   "execution_count": 18,
   "metadata": {},
   "outputs": [],
   "source": [
    "data_pred_df.to_csv('custom_mut_exp.csv')"
   ]
  },
  {
   "cell_type": "code",
   "execution_count": null,
   "metadata": {},
   "outputs": [],
   "source": [
    "# pd.DataFrame.to_csv(data_pred_df, path_or_buf=\"/results/predictions/tcga_predicted_data_%s_demo.txt\" % model_name, sep='\\t', index_label='CRISPR_GENE', float_format='%.4f')\n",
    "# print(\"\\n\\nPrediction completed in %.1f mins.\\nResults saved in /results/predictions/tcga_predicted_data_%s_demo.txt\\n\\n\" % (\n",
    "#     (time.time()-t)/60, model_name))"
   ]
  }
 ],
 "metadata": {
  "kernelspec": {
   "display_name": "Deepdep",
   "language": "python",
   "name": "deepdep"
  },
  "language_info": {
   "codemirror_mode": {
    "name": "ipython",
    "version": 3
   },
   "file_extension": ".py",
   "mimetype": "text/x-python",
   "name": "python",
   "nbconvert_exporter": "python",
   "pygments_lexer": "ipython3",
   "version": "3.7.13"
  }
 },
 "nbformat": 4,
 "nbformat_minor": 5
}
